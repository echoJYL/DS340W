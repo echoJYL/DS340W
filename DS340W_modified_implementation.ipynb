{
  "nbformat": 4,
  "nbformat_minor": 0,
  "metadata": {
    "colab": {
      "name": "DS340W_modified_implementation",
      "provenance": [],
      "collapsed_sections": [],
      "machine_shape": "hm"
    },
    "kernelspec": {
      "name": "python3",
      "display_name": "Python 3"
    },
    "language_info": {
      "name": "python"
    },
    "accelerator": "GPU"
  },
  "cells": [
    {
      "cell_type": "code",
      "execution_count": null,
      "metadata": {
        "id": "uAjPBra3kvkU"
      },
      "outputs": [],
      "source": [
        "# Importing libraries\n",
        "import pandas as pd\n",
        "import numpy as np\n",
        "import matplotlib.pyplot as plt\n",
        "import seaborn as sns\n",
        "from sklearn.preprocessing import LabelEncoder\n",
        "from sklearn.preprocessing import OneHotEncoder\n",
        "import warnings\n",
        "warnings.filterwarnings(\"ignore\")\n",
        "\n"
      ]
    },
    {
      "cell_type": "code",
      "source": [
        "# Read csv file into a pandas dataframe\n",
        "df = pd.read_csv(\"data_1.csv\", encoding= 'unicode_escape')"
      ],
      "metadata": {
        "id": "y1xKQCualDs5"
      },
      "execution_count": null,
      "outputs": []
    },
    {
      "cell_type": "code",
      "source": [
        "df2 = pd.read_csv(\"data_1.csv\", encoding= 'unicode_escape')"
      ],
      "metadata": {
        "id": "rOlH7dLb6PXb"
      },
      "execution_count": null,
      "outputs": []
    },
    {
      "cell_type": "code",
      "source": [
        "df.head(5)"
      ],
      "metadata": {
        "colab": {
          "base_uri": "https://localhost:8080/",
          "height": 366
        },
        "id": "OeYxYNZalLGD",
        "outputId": "ab261060-b7ff-4523-e746-cb31a365cb88"
      },
      "execution_count": null,
      "outputs": [
        {
          "output_type": "execute_result",
          "data": {
            "text/plain": [
              "   Q1      Q2        Q3   Q8 Q9  Q10             Q11  Q11a  \\\n",
              "0  44  Female  Michigan  Yes  1  Yes  Not applicable     0   \n",
              "1  39  Female  Michigan  Yes  2  Yes             Yes     2   \n",
              "2  28  Female  Michigan  Yes  2  Yes             Yes     1   \n",
              "3  29  Female  Michigan  Yes  2   No  Not applicable     0   \n",
              "4  32  Female  Michigan  Yes  2   No             Yes     2   \n",
              "\n",
              "                 Q11b Q12  ...              Q24  Q25  Q26  \\\n",
              "0      not applicable   8  ...        0-.5 hour  Yes  Yes   \n",
              "1  Under 12 years old   7  ...  0.51 â 1 hour   No   No   \n",
              "2  Under 12 years old   7  ...        1-2 hours  Yes  Yes   \n",
              "3      not applicable   7  ...        1-2 hours  Yes  Yes   \n",
              "4  Under 12 years old   7  ...        1-2 hours  Yes   No   \n",
              "\n",
              "                          Q26a  Q27                            Q27a  Q28  \\\n",
              "0  I am exercising/moving less  Yes  I am eating more healthy foods  Yes   \n",
              "1  I am exercising/moving less  Yes  I am eating more healthy foods  Yes   \n",
              "2  I am exercising/moving more   No  I am eating less healthy foods  Yes   \n",
              "3  I am exercising/moving more  Yes  I am eating less healthy foods  Yes   \n",
              "4  I am exercising/moving less  Yes  I am eating less healthy foods  Yes   \n",
              "\n",
              "                             Q28a  Q29              Q29a  \n",
              "0  I am eating more food each day  Yes    Slightly worse  \n",
              "1  I am eating less food each day  Yes  Moderately worse  \n",
              "2  I am eating more food each day  Yes  Moderately worse  \n",
              "3  I am eating more food each day   No    Slightly worse  \n",
              "4  I am eating more food each day  Yes  Moderately worse  \n",
              "\n",
              "[5 rows x 36 columns]"
            ],
            "text/html": [
              "\n",
              "  <div id=\"df-f956f6ea-1e68-4e0e-b57c-7788d0d7b621\">\n",
              "    <div class=\"colab-df-container\">\n",
              "      <div>\n",
              "<style scoped>\n",
              "    .dataframe tbody tr th:only-of-type {\n",
              "        vertical-align: middle;\n",
              "    }\n",
              "\n",
              "    .dataframe tbody tr th {\n",
              "        vertical-align: top;\n",
              "    }\n",
              "\n",
              "    .dataframe thead th {\n",
              "        text-align: right;\n",
              "    }\n",
              "</style>\n",
              "<table border=\"1\" class=\"dataframe\">\n",
              "  <thead>\n",
              "    <tr style=\"text-align: right;\">\n",
              "      <th></th>\n",
              "      <th>Q1</th>\n",
              "      <th>Q2</th>\n",
              "      <th>Q3</th>\n",
              "      <th>Q8</th>\n",
              "      <th>Q9</th>\n",
              "      <th>Q10</th>\n",
              "      <th>Q11</th>\n",
              "      <th>Q11a</th>\n",
              "      <th>Q11b</th>\n",
              "      <th>Q12</th>\n",
              "      <th>...</th>\n",
              "      <th>Q24</th>\n",
              "      <th>Q25</th>\n",
              "      <th>Q26</th>\n",
              "      <th>Q26a</th>\n",
              "      <th>Q27</th>\n",
              "      <th>Q27a</th>\n",
              "      <th>Q28</th>\n",
              "      <th>Q28a</th>\n",
              "      <th>Q29</th>\n",
              "      <th>Q29a</th>\n",
              "    </tr>\n",
              "  </thead>\n",
              "  <tbody>\n",
              "    <tr>\n",
              "      <th>0</th>\n",
              "      <td>44</td>\n",
              "      <td>Female</td>\n",
              "      <td>Michigan</td>\n",
              "      <td>Yes</td>\n",
              "      <td>1</td>\n",
              "      <td>Yes</td>\n",
              "      <td>Not applicable</td>\n",
              "      <td>0</td>\n",
              "      <td>not applicable</td>\n",
              "      <td>8</td>\n",
              "      <td>...</td>\n",
              "      <td>0-.5 hour</td>\n",
              "      <td>Yes</td>\n",
              "      <td>Yes</td>\n",
              "      <td>I am exercising/moving less</td>\n",
              "      <td>Yes</td>\n",
              "      <td>I am eating more healthy foods</td>\n",
              "      <td>Yes</td>\n",
              "      <td>I am eating more food each day</td>\n",
              "      <td>Yes</td>\n",
              "      <td>Slightly worse</td>\n",
              "    </tr>\n",
              "    <tr>\n",
              "      <th>1</th>\n",
              "      <td>39</td>\n",
              "      <td>Female</td>\n",
              "      <td>Michigan</td>\n",
              "      <td>Yes</td>\n",
              "      <td>2</td>\n",
              "      <td>Yes</td>\n",
              "      <td>Yes</td>\n",
              "      <td>2</td>\n",
              "      <td>Under 12 years old</td>\n",
              "      <td>7</td>\n",
              "      <td>...</td>\n",
              "      <td>0.51 â 1 hour</td>\n",
              "      <td>No</td>\n",
              "      <td>No</td>\n",
              "      <td>I am exercising/moving less</td>\n",
              "      <td>Yes</td>\n",
              "      <td>I am eating more healthy foods</td>\n",
              "      <td>Yes</td>\n",
              "      <td>I am eating less food each day</td>\n",
              "      <td>Yes</td>\n",
              "      <td>Moderately worse</td>\n",
              "    </tr>\n",
              "    <tr>\n",
              "      <th>2</th>\n",
              "      <td>28</td>\n",
              "      <td>Female</td>\n",
              "      <td>Michigan</td>\n",
              "      <td>Yes</td>\n",
              "      <td>2</td>\n",
              "      <td>Yes</td>\n",
              "      <td>Yes</td>\n",
              "      <td>1</td>\n",
              "      <td>Under 12 years old</td>\n",
              "      <td>7</td>\n",
              "      <td>...</td>\n",
              "      <td>1-2 hours</td>\n",
              "      <td>Yes</td>\n",
              "      <td>Yes</td>\n",
              "      <td>I am exercising/moving more</td>\n",
              "      <td>No</td>\n",
              "      <td>I am eating less healthy foods</td>\n",
              "      <td>Yes</td>\n",
              "      <td>I am eating more food each day</td>\n",
              "      <td>Yes</td>\n",
              "      <td>Moderately worse</td>\n",
              "    </tr>\n",
              "    <tr>\n",
              "      <th>3</th>\n",
              "      <td>29</td>\n",
              "      <td>Female</td>\n",
              "      <td>Michigan</td>\n",
              "      <td>Yes</td>\n",
              "      <td>2</td>\n",
              "      <td>No</td>\n",
              "      <td>Not applicable</td>\n",
              "      <td>0</td>\n",
              "      <td>not applicable</td>\n",
              "      <td>7</td>\n",
              "      <td>...</td>\n",
              "      <td>1-2 hours</td>\n",
              "      <td>Yes</td>\n",
              "      <td>Yes</td>\n",
              "      <td>I am exercising/moving more</td>\n",
              "      <td>Yes</td>\n",
              "      <td>I am eating less healthy foods</td>\n",
              "      <td>Yes</td>\n",
              "      <td>I am eating more food each day</td>\n",
              "      <td>No</td>\n",
              "      <td>Slightly worse</td>\n",
              "    </tr>\n",
              "    <tr>\n",
              "      <th>4</th>\n",
              "      <td>32</td>\n",
              "      <td>Female</td>\n",
              "      <td>Michigan</td>\n",
              "      <td>Yes</td>\n",
              "      <td>2</td>\n",
              "      <td>No</td>\n",
              "      <td>Yes</td>\n",
              "      <td>2</td>\n",
              "      <td>Under 12 years old</td>\n",
              "      <td>7</td>\n",
              "      <td>...</td>\n",
              "      <td>1-2 hours</td>\n",
              "      <td>Yes</td>\n",
              "      <td>No</td>\n",
              "      <td>I am exercising/moving less</td>\n",
              "      <td>Yes</td>\n",
              "      <td>I am eating less healthy foods</td>\n",
              "      <td>Yes</td>\n",
              "      <td>I am eating more food each day</td>\n",
              "      <td>Yes</td>\n",
              "      <td>Moderately worse</td>\n",
              "    </tr>\n",
              "  </tbody>\n",
              "</table>\n",
              "<p>5 rows × 36 columns</p>\n",
              "</div>\n",
              "      <button class=\"colab-df-convert\" onclick=\"convertToInteractive('df-f956f6ea-1e68-4e0e-b57c-7788d0d7b621')\"\n",
              "              title=\"Convert this dataframe to an interactive table.\"\n",
              "              style=\"display:none;\">\n",
              "        \n",
              "  <svg xmlns=\"http://www.w3.org/2000/svg\" height=\"24px\"viewBox=\"0 0 24 24\"\n",
              "       width=\"24px\">\n",
              "    <path d=\"M0 0h24v24H0V0z\" fill=\"none\"/>\n",
              "    <path d=\"M18.56 5.44l.94 2.06.94-2.06 2.06-.94-2.06-.94-.94-2.06-.94 2.06-2.06.94zm-11 1L8.5 8.5l.94-2.06 2.06-.94-2.06-.94L8.5 2.5l-.94 2.06-2.06.94zm10 10l.94 2.06.94-2.06 2.06-.94-2.06-.94-.94-2.06-.94 2.06-2.06.94z\"/><path d=\"M17.41 7.96l-1.37-1.37c-.4-.4-.92-.59-1.43-.59-.52 0-1.04.2-1.43.59L10.3 9.45l-7.72 7.72c-.78.78-.78 2.05 0 2.83L4 21.41c.39.39.9.59 1.41.59.51 0 1.02-.2 1.41-.59l7.78-7.78 2.81-2.81c.8-.78.8-2.07 0-2.86zM5.41 20L4 18.59l7.72-7.72 1.47 1.35L5.41 20z\"/>\n",
              "  </svg>\n",
              "      </button>\n",
              "      \n",
              "  <style>\n",
              "    .colab-df-container {\n",
              "      display:flex;\n",
              "      flex-wrap:wrap;\n",
              "      gap: 12px;\n",
              "    }\n",
              "\n",
              "    .colab-df-convert {\n",
              "      background-color: #E8F0FE;\n",
              "      border: none;\n",
              "      border-radius: 50%;\n",
              "      cursor: pointer;\n",
              "      display: none;\n",
              "      fill: #1967D2;\n",
              "      height: 32px;\n",
              "      padding: 0 0 0 0;\n",
              "      width: 32px;\n",
              "    }\n",
              "\n",
              "    .colab-df-convert:hover {\n",
              "      background-color: #E2EBFA;\n",
              "      box-shadow: 0px 1px 2px rgba(60, 64, 67, 0.3), 0px 1px 3px 1px rgba(60, 64, 67, 0.15);\n",
              "      fill: #174EA6;\n",
              "    }\n",
              "\n",
              "    [theme=dark] .colab-df-convert {\n",
              "      background-color: #3B4455;\n",
              "      fill: #D2E3FC;\n",
              "    }\n",
              "\n",
              "    [theme=dark] .colab-df-convert:hover {\n",
              "      background-color: #434B5C;\n",
              "      box-shadow: 0px 1px 3px 1px rgba(0, 0, 0, 0.15);\n",
              "      filter: drop-shadow(0px 1px 2px rgba(0, 0, 0, 0.3));\n",
              "      fill: #FFFFFF;\n",
              "    }\n",
              "  </style>\n",
              "\n",
              "      <script>\n",
              "        const buttonEl =\n",
              "          document.querySelector('#df-f956f6ea-1e68-4e0e-b57c-7788d0d7b621 button.colab-df-convert');\n",
              "        buttonEl.style.display =\n",
              "          google.colab.kernel.accessAllowed ? 'block' : 'none';\n",
              "\n",
              "        async function convertToInteractive(key) {\n",
              "          const element = document.querySelector('#df-f956f6ea-1e68-4e0e-b57c-7788d0d7b621');\n",
              "          const dataTable =\n",
              "            await google.colab.kernel.invokeFunction('convertToInteractive',\n",
              "                                                     [key], {});\n",
              "          if (!dataTable) return;\n",
              "\n",
              "          const docLinkHtml = 'Like what you see? Visit the ' +\n",
              "            '<a target=\"_blank\" href=https://colab.research.google.com/notebooks/data_table.ipynb>data table notebook</a>'\n",
              "            + ' to learn more about interactive tables.';\n",
              "          element.innerHTML = '';\n",
              "          dataTable['output_type'] = 'display_data';\n",
              "          await google.colab.output.renderOutput(dataTable, element);\n",
              "          const docLink = document.createElement('div');\n",
              "          docLink.innerHTML = docLinkHtml;\n",
              "          element.appendChild(docLink);\n",
              "        }\n",
              "      </script>\n",
              "    </div>\n",
              "  </div>\n",
              "  "
            ]
          },
          "metadata": {},
          "execution_count": 6
        }
      ]
    },
    {
      "cell_type": "code",
      "source": [
        "df.columns"
      ],
      "metadata": {
        "colab": {
          "base_uri": "https://localhost:8080/"
        },
        "id": "yR0YzD4XlkLr",
        "outputId": "833e4fc8-93c6-4f72-d419-21d6a56c8210"
      },
      "execution_count": null,
      "outputs": [
        {
          "output_type": "execute_result",
          "data": {
            "text/plain": [
              "Index(['Q1', 'Q2', 'Q3', 'Q8', 'Q9', 'Q10', 'Q11', 'Q11a', 'Q11b', 'Q12',\n",
              "       'Q13', 'Q14', 'Q14a', 'Q15', 'Q15a', 'Q16', 'Q16a', 'Q16b', 'Q17',\n",
              "       'Q18', 'Q18a', 'Q19', 'Q20', 'Q21', 'Q22', 'Q23', 'Q24', 'Q25', 'Q26',\n",
              "       'Q26a', 'Q27', 'Q27a', 'Q28', 'Q28a', 'Q29', 'Q29a'],\n",
              "      dtype='object')"
            ]
          },
          "metadata": {},
          "execution_count": 7
        }
      ]
    },
    {
      "cell_type": "code",
      "source": [
        "df['Q1'].unique()"
      ],
      "metadata": {
        "colab": {
          "base_uri": "https://localhost:8080/"
        },
        "id": "jextqn6GlpxC",
        "outputId": "95069978-8bb1-4961-97f2-14b803f87010"
      },
      "execution_count": null,
      "outputs": [
        {
          "output_type": "execute_result",
          "data": {
            "text/plain": [
              "array([44, 39, 28, 29, 32, 43, 59, 25, 42, 22, 41, 58, 35, 30, 38, 21, 33,\n",
              "       67, 24, 45, 27, 49, 48, 57, 53, 47, 34, 36, 52, 55, 66, 68, 26, 37,\n",
              "       69, 31, 40, 75, 62, 23, 20, 50, 60, 61, 46, 51, 81, 71, 63, 72, 54,\n",
              "       64, 56, 65])"
            ]
          },
          "metadata": {},
          "execution_count": 8
        }
      ]
    },
    {
      "cell_type": "code",
      "source": [
        "df['Q2'].unique()"
      ],
      "metadata": {
        "colab": {
          "base_uri": "https://localhost:8080/"
        },
        "id": "0glL6GT2lwwH",
        "outputId": "22df24be-37d2-4b9d-98ce-29070587b65a"
      },
      "execution_count": null,
      "outputs": [
        {
          "output_type": "execute_result",
          "data": {
            "text/plain": [
              "array(['Female', 'Male', 'Prefer not to say'], dtype=object)"
            ]
          },
          "metadata": {},
          "execution_count": 9
        }
      ]
    },
    {
      "cell_type": "code",
      "source": [
        "Q2_mapping = {'Female':1, 'Male':2, 'Prefer not to say': 0}\n",
        "df['Q2'] = df['Q2'].map(Q2_mapping)\n",
        "df['Q2']"
      ],
      "metadata": {
        "colab": {
          "base_uri": "https://localhost:8080/"
        },
        "id": "h4f0dQ2_l6ZH",
        "outputId": "1937655e-3f38-4513-b054-b404a638ec1f"
      },
      "execution_count": null,
      "outputs": [
        {
          "output_type": "execute_result",
          "data": {
            "text/plain": [
              "0      1\n",
              "1      1\n",
              "2      1\n",
              "3      1\n",
              "4      1\n",
              "      ..\n",
              "257    1\n",
              "258    2\n",
              "259    1\n",
              "260    1\n",
              "261    1\n",
              "Name: Q2, Length: 262, dtype: int64"
            ]
          },
          "metadata": {},
          "execution_count": 10
        }
      ]
    },
    {
      "cell_type": "code",
      "source": [
        "df['Q2'].unique()"
      ],
      "metadata": {
        "colab": {
          "base_uri": "https://localhost:8080/"
        },
        "id": "qIEwNrTfmSFS",
        "outputId": "72f0e8dd-e0a7-4aa0-8a73-3d775e6b4519"
      },
      "execution_count": null,
      "outputs": [
        {
          "output_type": "execute_result",
          "data": {
            "text/plain": [
              "array([1, 2, 0])"
            ]
          },
          "metadata": {},
          "execution_count": 11
        }
      ]
    },
    {
      "cell_type": "code",
      "source": [
        "df['Q3'].unique()"
      ],
      "metadata": {
        "colab": {
          "base_uri": "https://localhost:8080/"
        },
        "id": "vmfmO74bmLzC",
        "outputId": "262ad409-bd0d-47ee-d7c7-5f296a8617b1"
      },
      "execution_count": null,
      "outputs": [
        {
          "output_type": "execute_result",
          "data": {
            "text/plain": [
              "array(['Michigan', 'Georgia', 'New York', 'Illinois', 'West Virginia',\n",
              "       'Utah', 'Pennsylvania', 'Maryland', 'Ohio',\n",
              "       'I do not reside in the United States', 'Minnesota', 'Colorado',\n",
              "       'Connecticut', 'Louisiana', 'Missouri', 'Florida', 'Puerto Rico',\n",
              "       'Indiana', 'California', 'Washington', 'Kansas', 'Alabama',\n",
              "       'Massachusetts', 'North Carolina', 'Texas', 'South Carolina',\n",
              "       'Oregon'], dtype=object)"
            ]
          },
          "metadata": {},
          "execution_count": 12
        }
      ]
    },
    {
      "cell_type": "code",
      "source": [
        "Q3_mapping={'Michigan':1, 'Iowa':2, 'Missouri':3,\n",
        "       'Ohio':4, 'Georgia':5, 'Mississippi':6, 'New York':7, 'West Virginia':8,\n",
        "       'Colorado':9, 'Virginia':10, 'Illinois':11, 'Oregon':12, 'Arizona':13, 'Utah':14,\n",
        "       'Pennsylvania':15, 'Florida':16, 'Kansas':17, 'Idaho':18, 'California':19,\n",
        "       'I do not reside in the United States':20, 'Minnesota':21, 'Oklahoma':22,\n",
        "       'Louisiana':23, 'Texas':24, 'Puerto Rico':25, 'Washington':26, 'Nebraska':27,\n",
        "       'Kentucky':28, 'Massachusetts':29, 'Tennessee':30, 'Indiana':31, 'Alabama':32,\n",
        "       'Maryland':33, 'Wisconsin':34, 'North Carolina':35, 'New Jersey':36,\n",
        "       'New Mexico':37, 'Vermont':38, 'South Carolina':39, 'Arkansas':40,\n",
        "       'Connecticut':41 }\n",
        "df['Q3']= df['Q3'].map(Q3_mapping)\n",
        "df['Q3']"
      ],
      "metadata": {
        "colab": {
          "base_uri": "https://localhost:8080/"
        },
        "id": "AMKqrotEmRPn",
        "outputId": "d3e4097f-742b-4747-f0ea-9c8ee51f46e8"
      },
      "execution_count": null,
      "outputs": [
        {
          "output_type": "execute_result",
          "data": {
            "text/plain": [
              "0       1\n",
              "1       1\n",
              "2       1\n",
              "3       1\n",
              "4       1\n",
              "       ..\n",
              "257     5\n",
              "258     1\n",
              "259    19\n",
              "260     1\n",
              "261     1\n",
              "Name: Q3, Length: 262, dtype: int64"
            ]
          },
          "metadata": {},
          "execution_count": 13
        }
      ]
    },
    {
      "cell_type": "code",
      "source": [
        "df['Q3'].unique()"
      ],
      "metadata": {
        "colab": {
          "base_uri": "https://localhost:8080/"
        },
        "id": "sNSR11NpmasK",
        "outputId": "a4d3c66b-c0fe-4d35-f86e-d96cebffb298"
      },
      "execution_count": null,
      "outputs": [
        {
          "output_type": "execute_result",
          "data": {
            "text/plain": [
              "array([ 1,  5,  7, 11,  8, 14, 15, 33,  4, 20, 21,  9, 41, 23,  3, 16, 25,\n",
              "       31, 19, 26, 17, 32, 29, 35, 24, 39, 12])"
            ]
          },
          "metadata": {},
          "execution_count": 14
        }
      ]
    },
    {
      "cell_type": "code",
      "source": [
        "df['Q8'].unique()"
      ],
      "metadata": {
        "colab": {
          "base_uri": "https://localhost:8080/"
        },
        "id": "qE2ijDshmeej",
        "outputId": "cf66d6eb-dff2-422d-b1ce-d9ff75189f75"
      },
      "execution_count": null,
      "outputs": [
        {
          "output_type": "execute_result",
          "data": {
            "text/plain": [
              "array(['Yes', 'No'], dtype=object)"
            ]
          },
          "metadata": {},
          "execution_count": 15
        }
      ]
    },
    {
      "cell_type": "code",
      "source": [
        "labels = df['Q8'].astype('category').cat.categories.tolist()\n",
        "Q8_mapping = {'Q8' : {k: v for k,v in zip(labels,list(range(1,len(labels)+1)))}}\n",
        "print(Q8_mapping)\n",
        "df.replace(Q8_mapping, inplace=True)\n",
        "df['Q8'].unique()"
      ],
      "metadata": {
        "colab": {
          "base_uri": "https://localhost:8080/"
        },
        "id": "Z6P3SpNymuRM",
        "outputId": "ebae27e9-673b-45f2-a263-d9be52bbc216"
      },
      "execution_count": null,
      "outputs": [
        {
          "output_type": "stream",
          "name": "stdout",
          "text": [
            "{'Q8': {'No': 1, 'Yes': 2}}\n"
          ]
        },
        {
          "output_type": "execute_result",
          "data": {
            "text/plain": [
              "array([2, 1])"
            ]
          },
          "metadata": {},
          "execution_count": 16
        }
      ]
    },
    {
      "cell_type": "code",
      "source": [
        "df['Q9'].unique()"
      ],
      "metadata": {
        "colab": {
          "base_uri": "https://localhost:8080/"
        },
        "id": "sKEbsVJim3TN",
        "outputId": "161038aa-1098-4e62-e694-082b48446f47"
      },
      "execution_count": null,
      "outputs": [
        {
          "output_type": "execute_result",
          "data": {
            "text/plain": [
              "array(['1', '2', 'Yes', 'Not applicable', 'No', 'No,Not applicable'],\n",
              "      dtype=object)"
            ]
          },
          "metadata": {},
          "execution_count": 17
        }
      ]
    },
    {
      "cell_type": "code",
      "source": [
        "Q9_mapping={'1':2, '2':2, 'Yes':2, 'Not applicable':1, 'No':1, 'No,Not applicable':1}\n",
        "df['Q9']= df['Q9'].map(Q9_mapping)\n",
        "df['Q9']"
      ],
      "metadata": {
        "colab": {
          "base_uri": "https://localhost:8080/"
        },
        "id": "6E_yQ32Mm6aA",
        "outputId": "c77c992c-0ef8-4bf5-e0a1-4567a746acaa"
      },
      "execution_count": null,
      "outputs": [
        {
          "output_type": "execute_result",
          "data": {
            "text/plain": [
              "0      2\n",
              "1      2\n",
              "2      2\n",
              "3      2\n",
              "4      2\n",
              "      ..\n",
              "257    1\n",
              "258    2\n",
              "259    2\n",
              "260    1\n",
              "261    1\n",
              "Name: Q9, Length: 262, dtype: int64"
            ]
          },
          "metadata": {},
          "execution_count": 18
        }
      ]
    },
    {
      "cell_type": "code",
      "source": [
        "df['Q9'].unique()"
      ],
      "metadata": {
        "colab": {
          "base_uri": "https://localhost:8080/"
        },
        "id": "ao9MRMtbnFBw",
        "outputId": "57b4fba3-639e-4a51-926e-2584bfbe7a3b"
      },
      "execution_count": null,
      "outputs": [
        {
          "output_type": "execute_result",
          "data": {
            "text/plain": [
              "array([2, 1])"
            ]
          },
          "metadata": {},
          "execution_count": 19
        }
      ]
    },
    {
      "cell_type": "code",
      "source": [
        "df['Q10'].unique()"
      ],
      "metadata": {
        "colab": {
          "base_uri": "https://localhost:8080/"
        },
        "id": "ARqKIt9InCPh",
        "outputId": "a14ab41b-7b0b-44ca-bb96-a032277e5435"
      },
      "execution_count": null,
      "outputs": [
        {
          "output_type": "execute_result",
          "data": {
            "text/plain": [
              "array(['Yes', 'No'], dtype=object)"
            ]
          },
          "metadata": {},
          "execution_count": 20
        }
      ]
    },
    {
      "cell_type": "code",
      "source": [
        "labels = df['Q10'].astype('category').cat.categories.tolist()\n",
        "Q10_mapping = {'Q10' : {k: v for k,v in zip(labels,list(range(1,len(labels)+1)))}}\n",
        "print(Q10_mapping)\n",
        "df.replace(Q10_mapping, inplace=True)\n",
        "df['Q10'].unique()"
      ],
      "metadata": {
        "colab": {
          "base_uri": "https://localhost:8080/"
        },
        "id": "lDKHAgOwnL8K",
        "outputId": "356bcfdb-3714-4cc7-ec02-2e20519aeffe"
      },
      "execution_count": null,
      "outputs": [
        {
          "output_type": "stream",
          "name": "stdout",
          "text": [
            "{'Q10': {'No': 1, 'Yes': 2}}\n"
          ]
        },
        {
          "output_type": "execute_result",
          "data": {
            "text/plain": [
              "array([2, 1])"
            ]
          },
          "metadata": {},
          "execution_count": 21
        }
      ]
    },
    {
      "cell_type": "code",
      "source": [
        "df['Q11'].unique()"
      ],
      "metadata": {
        "colab": {
          "base_uri": "https://localhost:8080/"
        },
        "id": "T5BnU81knUCa",
        "outputId": "0462da1b-3ef3-4578-eb36-c94f27a1e7a1"
      },
      "execution_count": null,
      "outputs": [
        {
          "output_type": "execute_result",
          "data": {
            "text/plain": [
              "array(['Not applicable', 'Yes', 'No'], dtype=object)"
            ]
          },
          "metadata": {},
          "execution_count": 22
        }
      ]
    },
    {
      "cell_type": "code",
      "source": [
        "Q11_mapping={'Not applicable':1, 'Yes':2, 'No':1 }\n",
        "df['Q11']= df['Q11'].map(Q11_mapping)\n",
        "df['Q11']"
      ],
      "metadata": {
        "colab": {
          "base_uri": "https://localhost:8080/"
        },
        "id": "4N2l5X2znXku",
        "outputId": "4313fb41-7c5d-49c6-aa76-da173fef1033"
      },
      "execution_count": null,
      "outputs": [
        {
          "output_type": "execute_result",
          "data": {
            "text/plain": [
              "0      1\n",
              "1      2\n",
              "2      2\n",
              "3      1\n",
              "4      2\n",
              "      ..\n",
              "257    1\n",
              "258    2\n",
              "259    2\n",
              "260    1\n",
              "261    1\n",
              "Name: Q11, Length: 262, dtype: int64"
            ]
          },
          "metadata": {},
          "execution_count": 23
        }
      ]
    },
    {
      "cell_type": "code",
      "source": [
        "df['Q14'].unique()"
      ],
      "metadata": {
        "colab": {
          "base_uri": "https://localhost:8080/"
        },
        "id": "_8KpTFVBngd2",
        "outputId": "b93d6035-396c-4d1c-cfea-c6e6327291d6"
      },
      "execution_count": null,
      "outputs": [
        {
          "output_type": "execute_result",
          "data": {
            "text/plain": [
              "array(['Yes', 'No'], dtype=object)"
            ]
          },
          "metadata": {},
          "execution_count": 24
        }
      ]
    },
    {
      "cell_type": "code",
      "source": [
        "Q14_mapping={'Yes':2, 'No':1 }\n",
        "df['Q14']= df['Q14'].map(Q14_mapping)\n",
        "df['Q14']"
      ],
      "metadata": {
        "colab": {
          "base_uri": "https://localhost:8080/"
        },
        "id": "ChW2AGjMnlxr",
        "outputId": "c79e0a6e-425a-435e-d663-943b036509ee"
      },
      "execution_count": null,
      "outputs": [
        {
          "output_type": "execute_result",
          "data": {
            "text/plain": [
              "0      2\n",
              "1      2\n",
              "2      1\n",
              "3      1\n",
              "4      1\n",
              "      ..\n",
              "257    1\n",
              "258    2\n",
              "259    2\n",
              "260    2\n",
              "261    1\n",
              "Name: Q14, Length: 262, dtype: int64"
            ]
          },
          "metadata": {},
          "execution_count": 25
        }
      ]
    },
    {
      "cell_type": "code",
      "source": [
        "df['Q15'].unique()"
      ],
      "metadata": {
        "colab": {
          "base_uri": "https://localhost:8080/"
        },
        "id": "VbYxPABWnpwM",
        "outputId": "6711ed65-12c1-4296-8c03-31e892fd712e"
      },
      "execution_count": null,
      "outputs": [
        {
          "output_type": "execute_result",
          "data": {
            "text/plain": [
              "array(['Yes', 'No'], dtype=object)"
            ]
          },
          "metadata": {},
          "execution_count": 26
        }
      ]
    },
    {
      "cell_type": "code",
      "source": [
        "Q15_mapping={'Yes':2, 'No':1 }\n",
        "df['Q15']= df['Q15'].map(Q15_mapping)\n",
        "df['Q15']"
      ],
      "metadata": {
        "colab": {
          "base_uri": "https://localhost:8080/"
        },
        "id": "9BsDHD9ln3U3",
        "outputId": "066fbda0-ccc4-44e6-f11d-58ce4e5a18bd"
      },
      "execution_count": null,
      "outputs": [
        {
          "output_type": "execute_result",
          "data": {
            "text/plain": [
              "0      2\n",
              "1      1\n",
              "2      2\n",
              "3      1\n",
              "4      2\n",
              "      ..\n",
              "257    1\n",
              "258    2\n",
              "259    2\n",
              "260    2\n",
              "261    2\n",
              "Name: Q15, Length: 262, dtype: int64"
            ]
          },
          "metadata": {},
          "execution_count": 27
        }
      ]
    },
    {
      "cell_type": "code",
      "source": [
        "df['Q16'].unique()"
      ],
      "metadata": {
        "colab": {
          "base_uri": "https://localhost:8080/"
        },
        "id": "0iMPKyMsn8Ds",
        "outputId": "2f4dd407-ca74-4785-901b-240368c6db07"
      },
      "execution_count": null,
      "outputs": [
        {
          "output_type": "execute_result",
          "data": {
            "text/plain": [
              "array(['Yes', 'No'], dtype=object)"
            ]
          },
          "metadata": {},
          "execution_count": 28
        }
      ]
    },
    {
      "cell_type": "code",
      "source": [
        "Q16_mapping={'Yes':2, 'No':1 }\n",
        "df['Q16']= df['Q16'].map(Q16_mapping)\n",
        "df['Q16']"
      ],
      "metadata": {
        "colab": {
          "base_uri": "https://localhost:8080/"
        },
        "id": "FoxNlayDoBD2",
        "outputId": "6cb6cfed-5aaf-40e1-e4f5-0e19539c3015"
      },
      "execution_count": null,
      "outputs": [
        {
          "output_type": "execute_result",
          "data": {
            "text/plain": [
              "0      2\n",
              "1      2\n",
              "2      1\n",
              "3      2\n",
              "4      1\n",
              "      ..\n",
              "257    2\n",
              "258    1\n",
              "259    2\n",
              "260    2\n",
              "261    1\n",
              "Name: Q16, Length: 262, dtype: int64"
            ]
          },
          "metadata": {},
          "execution_count": 29
        }
      ]
    },
    {
      "cell_type": "code",
      "source": [
        "df['Q17'].unique()"
      ],
      "metadata": {
        "colab": {
          "base_uri": "https://localhost:8080/"
        },
        "id": "gC87QbH5oKiL",
        "outputId": "c832deb2-285a-4c2a-a17f-a7b17c017cb4"
      },
      "execution_count": null,
      "outputs": [
        {
          "output_type": "execute_result",
          "data": {
            "text/plain": [
              "array(['No', 'Yes'], dtype=object)"
            ]
          },
          "metadata": {},
          "execution_count": 30
        }
      ]
    },
    {
      "cell_type": "code",
      "source": [
        "Q17_mapping={'Yes':2, 'No':1 }\n",
        "df['Q17']= df['Q17'].map(Q17_mapping)\n",
        "df['Q17']"
      ],
      "metadata": {
        "colab": {
          "base_uri": "https://localhost:8080/"
        },
        "id": "abzMk_WGoFpN",
        "outputId": "dafae84a-5ff7-418f-82ab-d9fe4766aae6"
      },
      "execution_count": null,
      "outputs": [
        {
          "output_type": "execute_result",
          "data": {
            "text/plain": [
              "0      1\n",
              "1      1\n",
              "2      1\n",
              "3      2\n",
              "4      1\n",
              "      ..\n",
              "257    1\n",
              "258    1\n",
              "259    2\n",
              "260    1\n",
              "261    1\n",
              "Name: Q17, Length: 262, dtype: int64"
            ]
          },
          "metadata": {},
          "execution_count": 31
        }
      ]
    },
    {
      "cell_type": "code",
      "source": [
        "df['Q18'].unique()"
      ],
      "metadata": {
        "colab": {
          "base_uri": "https://localhost:8080/"
        },
        "id": "pX5JgehWoOuA",
        "outputId": "174b8c02-452b-42c5-a551-c23255227ca5"
      },
      "execution_count": null,
      "outputs": [
        {
          "output_type": "execute_result",
          "data": {
            "text/plain": [
              "array(['Yes'], dtype=object)"
            ]
          },
          "metadata": {},
          "execution_count": 32
        }
      ]
    },
    {
      "cell_type": "code",
      "source": [
        "Q18_mapping={'Yes':2, 'No':1 }\n",
        "df['Q18']= df['Q18'].map(Q18_mapping)\n",
        "df['Q18']"
      ],
      "metadata": {
        "colab": {
          "base_uri": "https://localhost:8080/"
        },
        "id": "It759JHToeBw",
        "outputId": "8cf0056b-44df-4ef9-c2ed-48c3dd875e89"
      },
      "execution_count": null,
      "outputs": [
        {
          "output_type": "execute_result",
          "data": {
            "text/plain": [
              "0      2\n",
              "1      2\n",
              "2      2\n",
              "3      2\n",
              "4      2\n",
              "      ..\n",
              "257    2\n",
              "258    2\n",
              "259    2\n",
              "260    2\n",
              "261    2\n",
              "Name: Q18, Length: 262, dtype: int64"
            ]
          },
          "metadata": {},
          "execution_count": 33
        }
      ]
    },
    {
      "cell_type": "code",
      "source": [
        "df['Q18a'].unique()"
      ],
      "metadata": {
        "colab": {
          "base_uri": "https://localhost:8080/"
        },
        "id": "a8A4iNXeojc4",
        "outputId": "03850a64-610d-40ed-d414-c073401ad794"
      },
      "execution_count": null,
      "outputs": [
        {
          "output_type": "execute_result",
          "data": {
            "text/plain": [
              "array([1, 0])"
            ]
          },
          "metadata": {},
          "execution_count": 34
        }
      ]
    },
    {
      "cell_type": "code",
      "source": [
        "df['Q23'].unique()"
      ],
      "metadata": {
        "colab": {
          "base_uri": "https://localhost:8080/"
        },
        "id": "zm-vKwYIox53",
        "outputId": "47a37d82-f853-4f09-8cf1-e7c1976c41ae"
      },
      "execution_count": null,
      "outputs": [
        {
          "output_type": "execute_result",
          "data": {
            "text/plain": [
              "array(['No', 'Yes'], dtype=object)"
            ]
          },
          "metadata": {},
          "execution_count": 35
        }
      ]
    },
    {
      "cell_type": "code",
      "source": [
        "Q23_mapping={'Yes':2, 'No':1 }\n",
        "df['Q23']= df['Q23'].map(Q23_mapping)\n",
        "df['Q23']"
      ],
      "metadata": {
        "colab": {
          "base_uri": "https://localhost:8080/"
        },
        "id": "Ehl36REdo3KI",
        "outputId": "42861ab5-85b0-4ae1-f820-99209a617cf3"
      },
      "execution_count": null,
      "outputs": [
        {
          "output_type": "execute_result",
          "data": {
            "text/plain": [
              "0      1\n",
              "1      2\n",
              "2      2\n",
              "3      2\n",
              "4      2\n",
              "      ..\n",
              "257    2\n",
              "258    1\n",
              "259    2\n",
              "260    2\n",
              "261    2\n",
              "Name: Q23, Length: 262, dtype: int64"
            ]
          },
          "metadata": {},
          "execution_count": 36
        }
      ]
    },
    {
      "cell_type": "code",
      "source": [
        "df['Q25'].unique()"
      ],
      "metadata": {
        "colab": {
          "base_uri": "https://localhost:8080/"
        },
        "id": "Y_U7WDzfo5Wu",
        "outputId": "bcd84941-ac2f-4d0d-f2a5-4f3d7d0a29e7"
      },
      "execution_count": null,
      "outputs": [
        {
          "output_type": "execute_result",
          "data": {
            "text/plain": [
              "array(['Yes', 'No'], dtype=object)"
            ]
          },
          "metadata": {},
          "execution_count": 37
        }
      ]
    },
    {
      "cell_type": "code",
      "source": [
        "Q25_mapping={'Yes':2, 'No':1 }\n",
        "df['Q25']= df['Q25'].map(Q25_mapping)\n",
        "df['Q25']"
      ],
      "metadata": {
        "colab": {
          "base_uri": "https://localhost:8080/"
        },
        "id": "7JgYBw59o79c",
        "outputId": "1df663ed-d4ed-4d64-80a7-3fac5bfcbd5d"
      },
      "execution_count": null,
      "outputs": [
        {
          "output_type": "execute_result",
          "data": {
            "text/plain": [
              "0      2\n",
              "1      1\n",
              "2      2\n",
              "3      2\n",
              "4      2\n",
              "      ..\n",
              "257    2\n",
              "258    1\n",
              "259    2\n",
              "260    2\n",
              "261    1\n",
              "Name: Q25, Length: 262, dtype: int64"
            ]
          },
          "metadata": {},
          "execution_count": 38
        }
      ]
    },
    {
      "cell_type": "code",
      "source": [
        "df['Q26'].unique()"
      ],
      "metadata": {
        "colab": {
          "base_uri": "https://localhost:8080/"
        },
        "id": "ynBtVif8pA-2",
        "outputId": "89cb2379-d22e-4f02-d78a-e69e35277f92"
      },
      "execution_count": null,
      "outputs": [
        {
          "output_type": "execute_result",
          "data": {
            "text/plain": [
              "array(['Yes', 'No'], dtype=object)"
            ]
          },
          "metadata": {},
          "execution_count": 39
        }
      ]
    },
    {
      "cell_type": "code",
      "source": [
        "Q26_mapping={'Yes':2, 'No':1 }\n",
        "df['Q26']= df['Q26'].map(Q26_mapping)\n",
        "df['Q26']"
      ],
      "metadata": {
        "colab": {
          "base_uri": "https://localhost:8080/"
        },
        "id": "1eNvNgF6pGjz",
        "outputId": "28510f4d-a928-45c8-bff5-8d05394f825d"
      },
      "execution_count": null,
      "outputs": [
        {
          "output_type": "execute_result",
          "data": {
            "text/plain": [
              "0      2\n",
              "1      1\n",
              "2      2\n",
              "3      2\n",
              "4      1\n",
              "      ..\n",
              "257    2\n",
              "258    2\n",
              "259    2\n",
              "260    2\n",
              "261    2\n",
              "Name: Q26, Length: 262, dtype: int64"
            ]
          },
          "metadata": {},
          "execution_count": 40
        }
      ]
    },
    {
      "cell_type": "code",
      "source": [
        "df['Q27'].unique()"
      ],
      "metadata": {
        "colab": {
          "base_uri": "https://localhost:8080/"
        },
        "id": "eG8UGWX6pROt",
        "outputId": "14c459c3-38e8-4986-9dbf-67ed2095caff"
      },
      "execution_count": null,
      "outputs": [
        {
          "output_type": "execute_result",
          "data": {
            "text/plain": [
              "array(['Yes', 'No'], dtype=object)"
            ]
          },
          "metadata": {},
          "execution_count": 41
        }
      ]
    },
    {
      "cell_type": "code",
      "source": [
        "Q27_mapping={'Yes':2, 'No':1 }\n",
        "df['Q27']= df['Q27'].map(Q27_mapping)\n",
        "df['Q27']"
      ],
      "metadata": {
        "colab": {
          "base_uri": "https://localhost:8080/"
        },
        "id": "dyETC4cBpJJa",
        "outputId": "c4171e8f-90d8-4c63-896b-5ab1fb07a847"
      },
      "execution_count": null,
      "outputs": [
        {
          "output_type": "execute_result",
          "data": {
            "text/plain": [
              "0      2\n",
              "1      2\n",
              "2      1\n",
              "3      2\n",
              "4      2\n",
              "      ..\n",
              "257    2\n",
              "258    1\n",
              "259    2\n",
              "260    2\n",
              "261    2\n",
              "Name: Q27, Length: 262, dtype: int64"
            ]
          },
          "metadata": {},
          "execution_count": 42
        }
      ]
    },
    {
      "cell_type": "code",
      "source": [
        "df['Q28'].unique()"
      ],
      "metadata": {
        "colab": {
          "base_uri": "https://localhost:8080/"
        },
        "id": "5fXgG9SCpZLL",
        "outputId": "86f1aa5b-21bf-48f7-835d-bd4b84062c21"
      },
      "execution_count": null,
      "outputs": [
        {
          "output_type": "execute_result",
          "data": {
            "text/plain": [
              "array(['Yes', 'No'], dtype=object)"
            ]
          },
          "metadata": {},
          "execution_count": 43
        }
      ]
    },
    {
      "cell_type": "code",
      "source": [
        "Q28_mapping={'Yes':2, 'No':1 }\n",
        "df['Q28']= df['Q28'].map(Q28_mapping)\n",
        "df['Q28']"
      ],
      "metadata": {
        "colab": {
          "base_uri": "https://localhost:8080/"
        },
        "id": "2wGUFvwcpWnR",
        "outputId": "c352a60d-0041-4bea-d300-2ab659c509a5"
      },
      "execution_count": null,
      "outputs": [
        {
          "output_type": "execute_result",
          "data": {
            "text/plain": [
              "0      2\n",
              "1      2\n",
              "2      2\n",
              "3      2\n",
              "4      2\n",
              "      ..\n",
              "257    2\n",
              "258    2\n",
              "259    2\n",
              "260    2\n",
              "261    1\n",
              "Name: Q28, Length: 262, dtype: int64"
            ]
          },
          "metadata": {},
          "execution_count": 44
        }
      ]
    },
    {
      "cell_type": "code",
      "source": [
        "df['Q29'].unique()"
      ],
      "metadata": {
        "colab": {
          "base_uri": "https://localhost:8080/"
        },
        "id": "HN5KXA7updEG",
        "outputId": "f7f86931-8bbf-4d30-9ffe-a8db105140e2"
      },
      "execution_count": null,
      "outputs": [
        {
          "output_type": "execute_result",
          "data": {
            "text/plain": [
              "array(['Yes', 'No'], dtype=object)"
            ]
          },
          "metadata": {},
          "execution_count": 45
        }
      ]
    },
    {
      "cell_type": "code",
      "source": [
        "Q29_mapping={'Yes':2, 'No':1 }\n",
        "df['Q29']= df['Q29'].map(Q29_mapping)\n",
        "df['Q29']"
      ],
      "metadata": {
        "colab": {
          "base_uri": "https://localhost:8080/"
        },
        "id": "ndwIKnnvpguJ",
        "outputId": "6be6c3a2-f8a9-4db3-9682-2ce289ad0036"
      },
      "execution_count": null,
      "outputs": [
        {
          "output_type": "execute_result",
          "data": {
            "text/plain": [
              "0      2\n",
              "1      2\n",
              "2      2\n",
              "3      1\n",
              "4      2\n",
              "      ..\n",
              "257    2\n",
              "258    1\n",
              "259    2\n",
              "260    2\n",
              "261    2\n",
              "Name: Q29, Length: 262, dtype: int64"
            ]
          },
          "metadata": {},
          "execution_count": 46
        }
      ]
    },
    {
      "cell_type": "code",
      "source": [
        "df['Q12'].unique()"
      ],
      "metadata": {
        "colab": {
          "base_uri": "https://localhost:8080/"
        },
        "id": "4W0D9ytAplLP",
        "outputId": "ca87d444-a799-4a85-de67-49c5a61572d6"
      },
      "execution_count": null,
      "outputs": [
        {
          "output_type": "execute_result",
          "data": {
            "text/plain": [
              "array(['8', '7', '7.75', '7:15', '5-6', '10', '1.5', '9', '6', '7-8',\n",
              "       '6-7', 'seven', '7.5', '6.5', '5', '8.5', '8-10', '8-9', '5.7',\n",
              "       '7-9', '4', '7 hours', '7-7.5', '7.30', '6-8'], dtype=object)"
            ]
          },
          "metadata": {},
          "execution_count": 47
        }
      ]
    },
    {
      "cell_type": "code",
      "source": [
        "Q12_mapping={'8':8, '6':6, '7':7, '7.75':8, '7:15':7, '5-6':6, '10':10, '1.5':2, '9':9, '7-8':8,\n",
        "       '6-7':7, '7.5':8, 'seven':7, '6.5':7, '5':5, '8.5':9, '8-10':10, '8-9':9,\n",
        "       '5.7':6, '7-9':9, '4':4, '7 hours':7, '7-7.5':7, '7.30':7, '6-8':8}\n",
        "df['Q12']= df['Q12'].map(Q12_mapping)\n",
        "df['Q12']"
      ],
      "metadata": {
        "colab": {
          "base_uri": "https://localhost:8080/"
        },
        "id": "XLtXg6e1pq3U",
        "outputId": "7afc894e-4d7c-4317-97a5-453f2a4bcd09"
      },
      "execution_count": null,
      "outputs": [
        {
          "output_type": "execute_result",
          "data": {
            "text/plain": [
              "0      8\n",
              "1      7\n",
              "2      7\n",
              "3      7\n",
              "4      7\n",
              "      ..\n",
              "257    8\n",
              "258    7\n",
              "259    6\n",
              "260    9\n",
              "261    8\n",
              "Name: Q12, Length: 262, dtype: int64"
            ]
          },
          "metadata": {},
          "execution_count": 48
        }
      ]
    },
    {
      "cell_type": "code",
      "source": [
        "df['Q12'].unique()"
      ],
      "metadata": {
        "colab": {
          "base_uri": "https://localhost:8080/"
        },
        "id": "dEzVWRVtpt0p",
        "outputId": "75d4167a-4a3c-4d6d-d52f-3bfc90d62ab3"
      },
      "execution_count": null,
      "outputs": [
        {
          "output_type": "execute_result",
          "data": {
            "text/plain": [
              "array([ 8,  7,  6, 10,  2,  9,  5,  4])"
            ]
          },
          "metadata": {},
          "execution_count": 49
        }
      ]
    },
    {
      "cell_type": "code",
      "source": [
        "df['Q13'].unique()"
      ],
      "metadata": {
        "colab": {
          "base_uri": "https://localhost:8080/"
        },
        "id": "mQpfMUJxpw-u",
        "outputId": "a3b8efde-a1de-4902-de4e-09698b94ae1e"
      },
      "execution_count": null,
      "outputs": [
        {
          "output_type": "execute_result",
          "data": {
            "text/plain": [
              "array(['9', '7', '6', '8', '7:30', '7.5', '5-6', '4-5', '4', '6.5', '5',\n",
              "       '10', '4.5', 'seven', '6-7', '5-8', 'Na', '8.5', '9.5', '5-10',\n",
              "       '6 (but much more variability)', '6 to 7', '7-8', '5.5', '6-8',\n",
              "       '8-10', '4.3', '7.45', '3', '7-7.5', '9-10'], dtype=object)"
            ]
          },
          "metadata": {},
          "execution_count": 50
        }
      ]
    },
    {
      "cell_type": "code",
      "source": [
        "Q13_mapping={'9':9, '5.5':5, '7':7, '6':6, '8':8, '7:30':8, '7.5':8, '5-6':6, '8 ':8, '4-5':5, '4':4,\n",
        "       '6.5':7, '5':5, '4.5':5, 'seven':7, '6-7':7, '5-8':8, '10':10, 'Na':6, '8.5':9,\n",
        "       '9.5':9, '5-10':10, '6 (but much more variability)':6, '6 to 7':6,\n",
        "       '7-8':8, '6-8':8, '8-10':10, '4.3':5, '7.45':8, '3':3, '7-7.5':7, '9-10':10 }\n",
        "df['Q13']= df['Q13'].map(Q13_mapping)\n",
        "df['Q13']"
      ],
      "metadata": {
        "colab": {
          "base_uri": "https://localhost:8080/"
        },
        "id": "G8eae7mRp1GR",
        "outputId": "113a416b-fe23-4daf-9fe7-b93e1e64415e"
      },
      "execution_count": null,
      "outputs": [
        {
          "output_type": "execute_result",
          "data": {
            "text/plain": [
              "0       9\n",
              "1       7\n",
              "2       7\n",
              "3       6\n",
              "4       7\n",
              "       ..\n",
              "257     8\n",
              "258     8\n",
              "259     7\n",
              "260    10\n",
              "261     8\n",
              "Name: Q13, Length: 262, dtype: int64"
            ]
          },
          "metadata": {},
          "execution_count": 51
        }
      ]
    },
    {
      "cell_type": "code",
      "source": [
        "df['Q13'].unique()"
      ],
      "metadata": {
        "colab": {
          "base_uri": "https://localhost:8080/"
        },
        "id": "t_iwyHYnp9M0",
        "outputId": "30b3414a-7612-48a7-d69a-bed786a8128f"
      },
      "execution_count": null,
      "outputs": [
        {
          "output_type": "execute_result",
          "data": {
            "text/plain": [
              "array([ 9,  7,  6,  8,  5,  4, 10,  3])"
            ]
          },
          "metadata": {},
          "execution_count": 52
        }
      ]
    },
    {
      "cell_type": "code",
      "source": [
        "df['Q19'].unique()\n"
      ],
      "metadata": {
        "colab": {
          "base_uri": "https://localhost:8080/"
        },
        "id": "jdUnrD2cp-Th",
        "outputId": "ab211234-3fa9-49fa-a296-359cd5beff1b"
      },
      "execution_count": null,
      "outputs": [
        {
          "output_type": "execute_result",
          "data": {
            "text/plain": [
              "array(['2-3 times a week', 'Once a month or less', 'Never',\n",
              "       '2-4 times a month', '4 or more times a week'], dtype=object)"
            ]
          },
          "metadata": {},
          "execution_count": 53
        }
      ]
    },
    {
      "cell_type": "code",
      "source": [
        "# Converting the Ordinal Categorical features into integers\n",
        "Q19_mapping={'4 or more times a week':5, '2-4 times a month':4,  '2-3 times a week':3,  'Once a month or less':2, 'Never':1  }\n",
        "df['Q19']= df['Q19'].map(Q19_mapping)\n",
        "df['Q19']"
      ],
      "metadata": {
        "colab": {
          "base_uri": "https://localhost:8080/"
        },
        "id": "n23WA9CAqEHJ",
        "outputId": "f01b7801-6479-44d5-9fa9-7c3843b7f4a4"
      },
      "execution_count": null,
      "outputs": [
        {
          "output_type": "execute_result",
          "data": {
            "text/plain": [
              "0      3\n",
              "1      3\n",
              "2      2\n",
              "3      2\n",
              "4      3\n",
              "      ..\n",
              "257    2\n",
              "258    3\n",
              "259    4\n",
              "260    4\n",
              "261    3\n",
              "Name: Q19, Length: 262, dtype: int64"
            ]
          },
          "metadata": {},
          "execution_count": 54
        }
      ]
    },
    {
      "cell_type": "code",
      "source": [
        "df['Q19'].unique()"
      ],
      "metadata": {
        "colab": {
          "base_uri": "https://localhost:8080/"
        },
        "id": "BOdg6JOeqJ7M",
        "outputId": "53331303-49ee-41e5-f457-440cf7aa0108"
      },
      "execution_count": null,
      "outputs": [
        {
          "output_type": "execute_result",
          "data": {
            "text/plain": [
              "array([3, 2, 1, 4, 5])"
            ]
          },
          "metadata": {},
          "execution_count": 55
        }
      ]
    },
    {
      "cell_type": "code",
      "source": [
        "df['Q20'].unique()"
      ],
      "metadata": {
        "colab": {
          "base_uri": "https://localhost:8080/"
        },
        "id": "qHPkUzuwqM2Q",
        "outputId": "63b1e2eb-6c45-4f24-f460-fde4e596f819"
      },
      "execution_count": null,
      "outputs": [
        {
          "output_type": "execute_result",
          "data": {
            "text/plain": [
              "array(['4 or more times a week', '2-4 times a month', '2-3 times a week',\n",
              "       'Never', 'Once a month or less'], dtype=object)"
            ]
          },
          "metadata": {},
          "execution_count": 56
        }
      ]
    },
    {
      "cell_type": "code",
      "source": [
        "# Converting the Ordinal Categorical features into integers\n",
        "Q20_mapping={'4 or more times a week':5, '2-4 times a month':4,  '2-3 times a week':3,  'Once a month or less':2, 'Never':1  }\n",
        "df['Q20']= df['Q20'].map(Q20_mapping)\n",
        "df['Q20']"
      ],
      "metadata": {
        "colab": {
          "base_uri": "https://localhost:8080/"
        },
        "id": "B1ulrhoyqPVp",
        "outputId": "6b07421c-6b0a-4868-ef90-99282b16f14e"
      },
      "execution_count": null,
      "outputs": [
        {
          "output_type": "execute_result",
          "data": {
            "text/plain": [
              "0      5\n",
              "1      5\n",
              "2      4\n",
              "3      5\n",
              "4      5\n",
              "      ..\n",
              "257    4\n",
              "258    3\n",
              "259    3\n",
              "260    3\n",
              "261    3\n",
              "Name: Q20, Length: 262, dtype: int64"
            ]
          },
          "metadata": {},
          "execution_count": 57
        }
      ]
    },
    {
      "cell_type": "code",
      "source": [
        "df['Q20'].unique()"
      ],
      "metadata": {
        "colab": {
          "base_uri": "https://localhost:8080/"
        },
        "id": "wbGDTlAEqUIK",
        "outputId": "3107128c-6c63-4af7-8569-e6254eca53f7"
      },
      "execution_count": null,
      "outputs": [
        {
          "output_type": "execute_result",
          "data": {
            "text/plain": [
              "array([5, 4, 3, 1, 2])"
            ]
          },
          "metadata": {},
          "execution_count": 58
        }
      ]
    },
    {
      "cell_type": "code",
      "source": [
        "df['Q21'].unique()"
      ],
      "metadata": {
        "colab": {
          "base_uri": "https://localhost:8080/"
        },
        "id": "pv5GxnzjqWy1",
        "outputId": "6ee27a6c-e6ce-440c-a9ab-f0c3b7f13097"
      },
      "execution_count": null,
      "outputs": [
        {
          "output_type": "execute_result",
          "data": {
            "text/plain": [
              "array(['Never', '2-3 times a week', 'Once a month or less',\n",
              "       '2-4 times a month', '4 or more times a week'], dtype=object)"
            ]
          },
          "metadata": {},
          "execution_count": 59
        }
      ]
    },
    {
      "cell_type": "code",
      "source": [
        "# Converting the Ordinal Categorical features into integers\n",
        "Q21_mapping={'4 or more times a week':5, '2-4 times a month':4,  '2-3 times a week':3,  'Once a month or less':2, 'Never':1  }\n",
        "df['Q21']= df['Q21'].map(Q21_mapping)\n",
        "df['Q21']"
      ],
      "metadata": {
        "colab": {
          "base_uri": "https://localhost:8080/"
        },
        "id": "oSnHCitTqsMY",
        "outputId": "f62b42cc-6d8e-4793-eb3d-7cbb45f35dbb"
      },
      "execution_count": null,
      "outputs": [
        {
          "output_type": "execute_result",
          "data": {
            "text/plain": [
              "0      1\n",
              "1      1\n",
              "2      1\n",
              "3      1\n",
              "4      1\n",
              "      ..\n",
              "257    1\n",
              "258    1\n",
              "259    1\n",
              "260    1\n",
              "261    1\n",
              "Name: Q21, Length: 262, dtype: int64"
            ]
          },
          "metadata": {},
          "execution_count": 60
        }
      ]
    },
    {
      "cell_type": "code",
      "source": [
        "df['Q21'].unique()"
      ],
      "metadata": {
        "colab": {
          "base_uri": "https://localhost:8080/"
        },
        "id": "7XI-cnqDqw40",
        "outputId": "46d038b5-bcd7-4ccf-809a-6b7c92201b51"
      },
      "execution_count": null,
      "outputs": [
        {
          "output_type": "execute_result",
          "data": {
            "text/plain": [
              "array([1, 3, 2, 4, 5])"
            ]
          },
          "metadata": {},
          "execution_count": 61
        }
      ]
    },
    {
      "cell_type": "code",
      "source": [
        "df['Q22'].unique()"
      ],
      "metadata": {
        "colab": {
          "base_uri": "https://localhost:8080/"
        },
        "id": "WbdJbfyiq5W4",
        "outputId": "06559a86-4476-4851-9321-bbcbc84b64f4"
      },
      "execution_count": null,
      "outputs": [
        {
          "output_type": "execute_result",
          "data": {
            "text/plain": [
              "array(['Never', '2-3 times a week', 'Once a month or less',\n",
              "       '2-4 times a month', '4 or more times a week'], dtype=object)"
            ]
          },
          "metadata": {},
          "execution_count": 62
        }
      ]
    },
    {
      "cell_type": "code",
      "source": [
        "# Converting the Ordinal Categorical features into integers\n",
        "Q22_mapping={'4 or more times a week':5, '2-4 times a month':4,  '2-3 times a week':3,  'Once a month or less':2, 'Never':1  }\n",
        "df['Q22']= df['Q22'].map(Q22_mapping)\n",
        "df['Q22']"
      ],
      "metadata": {
        "colab": {
          "base_uri": "https://localhost:8080/"
        },
        "id": "nglDbyIJq8lZ",
        "outputId": "9963e648-f48e-4262-ec48-dfb514aa11f2"
      },
      "execution_count": null,
      "outputs": [
        {
          "output_type": "execute_result",
          "data": {
            "text/plain": [
              "0      1\n",
              "1      1\n",
              "2      1\n",
              "3      1\n",
              "4      1\n",
              "      ..\n",
              "257    1\n",
              "258    1\n",
              "259    1\n",
              "260    1\n",
              "261    4\n",
              "Name: Q22, Length: 262, dtype: int64"
            ]
          },
          "metadata": {},
          "execution_count": 63
        }
      ]
    },
    {
      "cell_type": "code",
      "source": [
        "df['Q22'].unique()"
      ],
      "metadata": {
        "colab": {
          "base_uri": "https://localhost:8080/"
        },
        "id": "cqAzRa_Bq_il",
        "outputId": "96b2b59f-3ffb-43aa-c845-43fb94e672c0"
      },
      "execution_count": null,
      "outputs": [
        {
          "output_type": "execute_result",
          "data": {
            "text/plain": [
              "array([1, 3, 2, 4, 5])"
            ]
          },
          "metadata": {},
          "execution_count": 64
        }
      ]
    },
    {
      "cell_type": "code",
      "source": [
        "df['Q24'].unique()"
      ],
      "metadata": {
        "colab": {
          "base_uri": "https://localhost:8080/"
        },
        "id": "jvwAM37SrIE4",
        "outputId": "0862a560-fbb9-4192-b3e7-a55c24946904"
      },
      "execution_count": null,
      "outputs": [
        {
          "output_type": "execute_result",
          "data": {
            "text/plain": [
              "array(['0-.5 hour', '0.51 â\\x80\\x93 1 hour', '1-2 hours', '2-3 hours',\n",
              "       '3+ hours'], dtype=object)"
            ]
          },
          "metadata": {},
          "execution_count": 65
        }
      ]
    },
    {
      "cell_type": "code",
      "source": [
        "# Converting the Ordinal Categorical features into integers\n",
        "Q24_mapping={'0-.5 hour':1, '1-2 hours':2, '0.51 â\\x80\\x93 1 hour':3, '2-3 hours':4, '3+ hours':5 }\n",
        "df['Q24']= df['Q24'].map(Q24_mapping)\n",
        "df['Q24']"
      ],
      "metadata": {
        "colab": {
          "base_uri": "https://localhost:8080/"
        },
        "id": "w_Oqm0eerDZt",
        "outputId": "e70f7305-8e4d-40dc-9429-97740f3e9fa9"
      },
      "execution_count": null,
      "outputs": [
        {
          "output_type": "execute_result",
          "data": {
            "text/plain": [
              "0      1\n",
              "1      3\n",
              "2      2\n",
              "3      2\n",
              "4      2\n",
              "      ..\n",
              "257    4\n",
              "258    1\n",
              "259    5\n",
              "260    4\n",
              "261    2\n",
              "Name: Q24, Length: 262, dtype: int64"
            ]
          },
          "metadata": {},
          "execution_count": 66
        }
      ]
    },
    {
      "cell_type": "code",
      "source": [
        "df['Q24'].unique()"
      ],
      "metadata": {
        "colab": {
          "base_uri": "https://localhost:8080/"
        },
        "id": "moWVnRuHrMq6",
        "outputId": "05c8ba0f-ce26-4a3e-c057-7ed5b15e2653"
      },
      "execution_count": null,
      "outputs": [
        {
          "output_type": "execute_result",
          "data": {
            "text/plain": [
              "array([1, 3, 2, 4, 5])"
            ]
          },
          "metadata": {},
          "execution_count": 67
        }
      ]
    },
    {
      "cell_type": "code",
      "source": [
        "df.columns"
      ],
      "metadata": {
        "colab": {
          "base_uri": "https://localhost:8080/"
        },
        "id": "ReEKaMIVrOUl",
        "outputId": "1b5b6d42-9ef9-48eb-8ebf-950ddf3ed47f"
      },
      "execution_count": null,
      "outputs": [
        {
          "output_type": "execute_result",
          "data": {
            "text/plain": [
              "Index(['Q1', 'Q2', 'Q3', 'Q8', 'Q9', 'Q10', 'Q11', 'Q11a', 'Q11b', 'Q12',\n",
              "       'Q13', 'Q14', 'Q14a', 'Q15', 'Q15a', 'Q16', 'Q16a', 'Q16b', 'Q17',\n",
              "       'Q18', 'Q18a', 'Q19', 'Q20', 'Q21', 'Q22', 'Q23', 'Q24', 'Q25', 'Q26',\n",
              "       'Q26a', 'Q27', 'Q27a', 'Q28', 'Q28a', 'Q29', 'Q29a'],\n",
              "      dtype='object')"
            ]
          },
          "metadata": {},
          "execution_count": 68
        }
      ]
    },
    {
      "cell_type": "code",
      "source": [
        "df['Q29a'].unique()"
      ],
      "metadata": {
        "colab": {
          "base_uri": "https://localhost:8080/"
        },
        "id": "iCBo7H0DrW9g",
        "outputId": "c248fc2e-ae89-4e85-bf9c-ea1dd71e4d5b"
      },
      "execution_count": null,
      "outputs": [
        {
          "output_type": "execute_result",
          "data": {
            "text/plain": [
              "array(['Slightly worse', 'Moderately worse', 'Slightly better',\n",
              "       'Much worse', 'Slightly better,About the same,Slightly worse',\n",
              "       'Slightly worse,Moderately worse', 'About the same',\n",
              "       'Moderately better', 'Much better',\n",
              "       'About the same,Slightly worse',\n",
              "       'Moderately better,Slightly better'], dtype=object)"
            ]
          },
          "metadata": {},
          "execution_count": 69
        }
      ]
    },
    {
      "cell_type": "code",
      "source": [
        "# Converting the Ordinal Categorical features into integers\n",
        "Q29a_mapping={'Slightly worse':0, \n",
        "             'Moderately worse':1, \n",
        "             'Slightly better':0, \n",
        "             'Much worse':2, \n",
        "             'Slightly worse,Moderately worse':1 ,\n",
        "             'About the same':0,\n",
        "             'Slightly better,About the same,Slightly worse': 0, \n",
        "             'Moderately better':3,\n",
        "             'Much better': 4,\n",
        "             'About the same,Slightly worse': 0, \n",
        "             'Moderately better,Slightly better': 3   }\n",
        "df['Q29a']= df['Q29a'].map(Q29a_mapping)\n",
        "df['Q29a']"
      ],
      "metadata": {
        "colab": {
          "base_uri": "https://localhost:8080/"
        },
        "id": "tMFuZGxkrfYf",
        "outputId": "01f40f10-7bee-424c-b06d-d158df9cec44"
      },
      "execution_count": null,
      "outputs": [
        {
          "output_type": "execute_result",
          "data": {
            "text/plain": [
              "0      0\n",
              "1      1\n",
              "2      1\n",
              "3      0\n",
              "4      1\n",
              "      ..\n",
              "257    1\n",
              "258    0\n",
              "259    1\n",
              "260    4\n",
              "261    1\n",
              "Name: Q29a, Length: 262, dtype: int64"
            ]
          },
          "metadata": {},
          "execution_count": 70
        }
      ]
    },
    {
      "cell_type": "code",
      "source": [
        "np.unique(df[\"Q29a\"])"
      ],
      "metadata": {
        "colab": {
          "base_uri": "https://localhost:8080/"
        },
        "id": "a-YJCqKntj5b",
        "outputId": "8f980475-507e-4bb8-d9dd-f1f2ef5f7bc8"
      },
      "execution_count": null,
      "outputs": [
        {
          "output_type": "execute_result",
          "data": {
            "text/plain": [
              "array([0, 1, 2, 3, 4])"
            ]
          },
          "metadata": {},
          "execution_count": 71
        }
      ]
    },
    {
      "cell_type": "code",
      "source": [
        "df[\"Q11b\"].unique()"
      ],
      "metadata": {
        "colab": {
          "base_uri": "https://localhost:8080/"
        },
        "id": "tKhsxS07uR2s",
        "outputId": "162a66b9-39a3-432f-d0d4-3ce2b17b00a0"
      },
      "execution_count": null,
      "outputs": [
        {
          "output_type": "execute_result",
          "data": {
            "text/plain": [
              "array(['not applicable', 'Under 12 years old', '12-17 years old',\n",
              "       'Under 12 years old,12-17 years old', '18-24 years old',\n",
              "       '12-17 years old,18-24 years old',\n",
              "       'Under 12 years old,18-24 years old',\n",
              "       'Under 12 years old,12-17 years old,18-24 years old'], dtype=object)"
            ]
          },
          "metadata": {},
          "execution_count": 72
        }
      ]
    },
    {
      "cell_type": "code",
      "source": [
        "# Converting the Ordinal Categorical features into integers\n",
        "Q11b_mapping={'not applicable':0, \n",
        "             'Under 12 years old':1, \n",
        "             '12-17 years old':2, \n",
        "             'Under 12 years old,12-17 years old':3,\n",
        "             '18-24 years old':4 ,\n",
        "             '12-17 years old,18-24 years old':5,\n",
        "             'Under 12 years old,18-24 years old': 6, \n",
        "             'Under 12 years old,12-17 years old,18-24 years old': 7 }\n",
        "df['Q11b']= df['Q11b'].map(Q11b_mapping)\n",
        "df['Q11b']"
      ],
      "metadata": {
        "colab": {
          "base_uri": "https://localhost:8080/"
        },
        "id": "a578UVDyuYLh",
        "outputId": "ddbc8087-37d9-4d5f-a7d7-0394de036e42"
      },
      "execution_count": null,
      "outputs": [
        {
          "output_type": "execute_result",
          "data": {
            "text/plain": [
              "0      0\n",
              "1      1\n",
              "2      1\n",
              "3      0\n",
              "4      1\n",
              "      ..\n",
              "257    0\n",
              "258    3\n",
              "259    2\n",
              "260    0\n",
              "261    0\n",
              "Name: Q11b, Length: 262, dtype: int64"
            ]
          },
          "metadata": {},
          "execution_count": 73
        }
      ]
    },
    {
      "cell_type": "code",
      "source": [
        "df[\"Q11b\"].unique()"
      ],
      "metadata": {
        "id": "Payf_7ggyW8N",
        "colab": {
          "base_uri": "https://localhost:8080/"
        },
        "outputId": "20808b2c-9eec-40bc-c62a-679b21b34520"
      },
      "execution_count": null,
      "outputs": [
        {
          "output_type": "execute_result",
          "data": {
            "text/plain": [
              "array([0, 1, 2, 3, 4, 5, 6, 7])"
            ]
          },
          "metadata": {},
          "execution_count": 74
        }
      ]
    },
    {
      "cell_type": "code",
      "source": [
        "df[\"Q14a\"].unique()"
      ],
      "metadata": {
        "colab": {
          "base_uri": "https://localhost:8080/"
        },
        "id": "l5hFbPpfyblN",
        "outputId": "0785beab-f503-4a13-d441-9aefdb49b6a9"
      },
      "execution_count": null,
      "outputs": [
        {
          "output_type": "execute_result",
          "data": {
            "text/plain": [
              "array(['I am working more hours', 'I am working the same hours',\n",
              "       'I am working fewer hours'], dtype=object)"
            ]
          },
          "metadata": {},
          "execution_count": 75
        }
      ]
    },
    {
      "cell_type": "code",
      "source": [
        "# Converting the Ordinal Categorical features into integers\n",
        "Q14a_mapping={'I am working more hours':1, \n",
        "             'I am working the same hours':0, \n",
        "             'I am working fewer hours':2, \n",
        "              }\n",
        "df['Q14a']= df['Q14a'].map(Q14a_mapping)\n",
        "df['Q14a']"
      ],
      "metadata": {
        "colab": {
          "base_uri": "https://localhost:8080/"
        },
        "id": "-Zibhd9mykMh",
        "outputId": "6427fa59-5a61-4102-8c13-7820aa68d806"
      },
      "execution_count": null,
      "outputs": [
        {
          "output_type": "execute_result",
          "data": {
            "text/plain": [
              "0      1\n",
              "1      1\n",
              "2      0\n",
              "3      0\n",
              "4      0\n",
              "      ..\n",
              "257    0\n",
              "258    2\n",
              "259    2\n",
              "260    2\n",
              "261    0\n",
              "Name: Q14a, Length: 262, dtype: int64"
            ]
          },
          "metadata": {},
          "execution_count": 76
        }
      ]
    },
    {
      "cell_type": "code",
      "source": [
        "df[\"Q14a\"].unique()"
      ],
      "metadata": {
        "colab": {
          "base_uri": "https://localhost:8080/"
        },
        "id": "NzMbfb3_zDlE",
        "outputId": "8b62ea4e-d160-467e-9584-08770033eb7b"
      },
      "execution_count": null,
      "outputs": [
        {
          "output_type": "execute_result",
          "data": {
            "text/plain": [
              "array([1, 0, 2])"
            ]
          },
          "metadata": {},
          "execution_count": 77
        }
      ]
    },
    {
      "cell_type": "code",
      "source": [
        "df[\"Q16a\"].unique()"
      ],
      "metadata": {
        "colab": {
          "base_uri": "https://localhost:8080/"
        },
        "id": "JdYS903azFz1",
        "outputId": "7d3ccc72-b8d5-47c0-b26c-b6bfe8761afc"
      },
      "execution_count": null,
      "outputs": [
        {
          "output_type": "execute_result",
          "data": {
            "text/plain": [
              "array(['I am going to bed later', 'My bedtime has not changed',\n",
              "       'I am going to bed earlier'], dtype=object)"
            ]
          },
          "metadata": {},
          "execution_count": 78
        }
      ]
    },
    {
      "cell_type": "code",
      "source": [
        "# Converting the Ordinal Categorical features into integers\n",
        "Q16a_mapping={'I am going to bed later':1, \n",
        "             'My bedtime has not changed':0, \n",
        "             'I am going to bed earlier':2, \n",
        "              }\n",
        "df['Q16a']= df['Q16a'].map(Q16a_mapping)\n",
        "df['Q16a']"
      ],
      "metadata": {
        "colab": {
          "base_uri": "https://localhost:8080/"
        },
        "id": "WgPQ_zYazcue",
        "outputId": "74c58554-afd8-4dd8-a247-f13807844252"
      },
      "execution_count": null,
      "outputs": [
        {
          "output_type": "execute_result",
          "data": {
            "text/plain": [
              "0      1\n",
              "1      1\n",
              "2      1\n",
              "3      1\n",
              "4      1\n",
              "      ..\n",
              "257    1\n",
              "258    1\n",
              "259    1\n",
              "260    2\n",
              "261    1\n",
              "Name: Q16a, Length: 262, dtype: int64"
            ]
          },
          "metadata": {},
          "execution_count": 79
        }
      ]
    },
    {
      "cell_type": "code",
      "source": [
        "df[\"Q16a\"].unique()"
      ],
      "metadata": {
        "colab": {
          "base_uri": "https://localhost:8080/"
        },
        "id": "4QG4R7MczNSU",
        "outputId": "9c023ce8-5f73-46c1-f3b7-2b755db6f765"
      },
      "execution_count": null,
      "outputs": [
        {
          "output_type": "execute_result",
          "data": {
            "text/plain": [
              "array([1, 0, 2])"
            ]
          },
          "metadata": {},
          "execution_count": 80
        }
      ]
    },
    {
      "cell_type": "code",
      "source": [
        "df[\"Q16b\"].unique()"
      ],
      "metadata": {
        "colab": {
          "base_uri": "https://localhost:8080/"
        },
        "id": "6yvpAA36z3ut",
        "outputId": "120d81fd-548c-4504-96a9-623dc32c0275"
      },
      "execution_count": null,
      "outputs": [
        {
          "output_type": "execute_result",
          "data": {
            "text/plain": [
              "array(['I am waking up later', 'I waking up earlier',\n",
              "       'My waketime has not changed'], dtype=object)"
            ]
          },
          "metadata": {},
          "execution_count": 81
        }
      ]
    },
    {
      "cell_type": "code",
      "source": [
        "# Converting the Ordinal Categorical features into integers\n",
        "Q16b_mapping={'I am waking up later':1, \n",
        "             'My waketime has not changed':0, \n",
        "             'I waking up earlier':2, \n",
        "              }\n",
        "df['Q16b']= df['Q16b'].map(Q16b_mapping)\n",
        "df['Q16b']"
      ],
      "metadata": {
        "colab": {
          "base_uri": "https://localhost:8080/"
        },
        "id": "3zn0OXYfz6JB",
        "outputId": "8ed21d2f-fe11-494b-f3b7-e4035fbfcb8a"
      },
      "execution_count": null,
      "outputs": [
        {
          "output_type": "execute_result",
          "data": {
            "text/plain": [
              "0      1\n",
              "1      1\n",
              "2      1\n",
              "3      1\n",
              "4      1\n",
              "      ..\n",
              "257    2\n",
              "258    1\n",
              "259    1\n",
              "260    1\n",
              "261    1\n",
              "Name: Q16b, Length: 262, dtype: int64"
            ]
          },
          "metadata": {},
          "execution_count": 82
        }
      ]
    },
    {
      "cell_type": "code",
      "source": [
        "df[\"Q26a\"].unique()"
      ],
      "metadata": {
        "colab": {
          "base_uri": "https://localhost:8080/"
        },
        "id": "eiTRTihy0HPY",
        "outputId": "7cf33c88-a0bf-4e4c-afd8-a19b0a1dcff1"
      },
      "execution_count": null,
      "outputs": [
        {
          "output_type": "execute_result",
          "data": {
            "text/plain": [
              "array(['I am exercising/moving less', 'I am exercising/moving more'],\n",
              "      dtype=object)"
            ]
          },
          "metadata": {},
          "execution_count": 83
        }
      ]
    },
    {
      "cell_type": "code",
      "source": [
        "# Converting the Ordinal Categorical features into integers\n",
        "Q26a_mapping={'I am exercising/moving less':1, \n",
        "             'I am exercising/moving more':0, \n",
        "          \n",
        "              }\n",
        "df['Q26a']= df['Q26a'].map(Q26a_mapping)\n",
        "df['Q26a']"
      ],
      "metadata": {
        "colab": {
          "base_uri": "https://localhost:8080/"
        },
        "id": "cUIGSqS50hu4",
        "outputId": "0ce2d5f7-f5cb-4ca8-eb74-c3dc377ec517"
      },
      "execution_count": null,
      "outputs": [
        {
          "output_type": "execute_result",
          "data": {
            "text/plain": [
              "0      1\n",
              "1      1\n",
              "2      0\n",
              "3      0\n",
              "4      1\n",
              "      ..\n",
              "257    1\n",
              "258    0\n",
              "259    1\n",
              "260    0\n",
              "261    1\n",
              "Name: Q26a, Length: 262, dtype: int64"
            ]
          },
          "metadata": {},
          "execution_count": 84
        }
      ]
    },
    {
      "cell_type": "code",
      "source": [
        "df[\"Q27a\"].unique()"
      ],
      "metadata": {
        "colab": {
          "base_uri": "https://localhost:8080/"
        },
        "id": "GO5Tjd5D0cTD",
        "outputId": "5ed01f5d-d3cf-42e2-9454-961826414157"
      },
      "execution_count": null,
      "outputs": [
        {
          "output_type": "execute_result",
          "data": {
            "text/plain": [
              "array(['I am eating more healthy foods', 'I am eating less healthy foods'],\n",
              "      dtype=object)"
            ]
          },
          "metadata": {},
          "execution_count": 85
        }
      ]
    },
    {
      "cell_type": "code",
      "source": [
        "# Converting the Ordinal Categorical features into integers\n",
        "Q27a_mapping={'I am eating more healthy foods':1, \n",
        "             'I am eating less healthy foods':0, \n",
        "          \n",
        "              }\n",
        "df['Q27a']= df['Q27a'].map(Q27a_mapping)\n",
        "df['Q27a']"
      ],
      "metadata": {
        "colab": {
          "base_uri": "https://localhost:8080/"
        },
        "id": "TIdRaM2S0ysX",
        "outputId": "243d5f01-8eda-4ad2-aed9-4fa491a6b07d"
      },
      "execution_count": null,
      "outputs": [
        {
          "output_type": "execute_result",
          "data": {
            "text/plain": [
              "0      1\n",
              "1      1\n",
              "2      0\n",
              "3      0\n",
              "4      0\n",
              "      ..\n",
              "257    0\n",
              "258    0\n",
              "259    0\n",
              "260    1\n",
              "261    0\n",
              "Name: Q27a, Length: 262, dtype: int64"
            ]
          },
          "metadata": {},
          "execution_count": 86
        }
      ]
    },
    {
      "cell_type": "code",
      "source": [
        "df[\"Q28a\"].unique()"
      ],
      "metadata": {
        "colab": {
          "base_uri": "https://localhost:8080/"
        },
        "id": "E_kC1FkF0eH0",
        "outputId": "895c6e9e-ec74-48d8-acd1-2a9d4ea70966"
      },
      "execution_count": null,
      "outputs": [
        {
          "output_type": "execute_result",
          "data": {
            "text/plain": [
              "array(['I am eating more food each day', 'I am eating less food each day'],\n",
              "      dtype=object)"
            ]
          },
          "metadata": {},
          "execution_count": 87
        }
      ]
    },
    {
      "cell_type": "code",
      "source": [
        "# Converting the Ordinal Categorical features into integers\n",
        "Q28a_mapping={'I am eating more food each day':1, \n",
        "             'I am eating less food each day':0, \n",
        "          \n",
        "              }\n",
        "df['Q28a']= df['Q28a'].map(Q28a_mapping)\n",
        "df['Q28a']"
      ],
      "metadata": {
        "colab": {
          "base_uri": "https://localhost:8080/"
        },
        "id": "dZgJWA4X0-Fo",
        "outputId": "fe8291ef-271a-414e-ec78-5ea0d2b584cd"
      },
      "execution_count": null,
      "outputs": [
        {
          "output_type": "execute_result",
          "data": {
            "text/plain": [
              "0      1\n",
              "1      0\n",
              "2      1\n",
              "3      1\n",
              "4      1\n",
              "      ..\n",
              "257    1\n",
              "258    1\n",
              "259    1\n",
              "260    1\n",
              "261    1\n",
              "Name: Q28a, Length: 262, dtype: int64"
            ]
          },
          "metadata": {},
          "execution_count": 88
        }
      ]
    },
    {
      "cell_type": "code",
      "source": [
        "df.drop(columns=['Q15a'])"
      ],
      "metadata": {
        "colab": {
          "base_uri": "https://localhost:8080/",
          "height": 424
        },
        "id": "vB8YrSin1Oap",
        "outputId": "bf8982cc-ca8a-406c-9f4c-fa19cea1066f"
      },
      "execution_count": null,
      "outputs": [
        {
          "output_type": "execute_result",
          "data": {
            "text/plain": [
              "     Q1  Q2  Q3  Q8  Q9  Q10  Q11  Q11a  Q11b  Q12  ...  Q24  Q25  Q26  Q26a  \\\n",
              "0    44   1   1   2   2    2    1     0     0    8  ...    1    2    2     1   \n",
              "1    39   1   1   2   2    2    2     2     1    7  ...    3    1    1     1   \n",
              "2    28   1   1   2   2    2    2     1     1    7  ...    2    2    2     0   \n",
              "3    29   1   1   2   2    1    1     0     0    7  ...    2    2    2     0   \n",
              "4    32   1   1   2   2    1    2     2     1    7  ...    2    2    1     1   \n",
              "..   ..  ..  ..  ..  ..  ...  ...   ...   ...  ...  ...  ...  ...  ...   ...   \n",
              "257  29   1   5   2   1    2    1     0     0    8  ...    4    2    2     1   \n",
              "258  44   2   1   2   2    1    2     2     3    7  ...    1    1    2     0   \n",
              "259  47   1  19   2   2    1    2     2     2    6  ...    5    2    2     1   \n",
              "260  58   1   1   1   1    1    1     0     0    9  ...    4    2    2     0   \n",
              "261  66   1   1   1   1    1    1     0     0    8  ...    2    1    2     1   \n",
              "\n",
              "     Q27  Q27a  Q28  Q28a  Q29  Q29a  \n",
              "0      2     1    2     1    2     0  \n",
              "1      2     1    2     0    2     1  \n",
              "2      1     0    2     1    2     1  \n",
              "3      2     0    2     1    1     0  \n",
              "4      2     0    2     1    2     1  \n",
              "..   ...   ...  ...   ...  ...   ...  \n",
              "257    2     0    2     1    2     1  \n",
              "258    1     0    2     1    1     0  \n",
              "259    2     0    2     1    2     1  \n",
              "260    2     1    2     1    2     4  \n",
              "261    2     0    1     1    2     1  \n",
              "\n",
              "[262 rows x 35 columns]"
            ],
            "text/html": [
              "\n",
              "  <div id=\"df-da0640f0-850d-4aa7-b3ec-ee3c5a473ad0\">\n",
              "    <div class=\"colab-df-container\">\n",
              "      <div>\n",
              "<style scoped>\n",
              "    .dataframe tbody tr th:only-of-type {\n",
              "        vertical-align: middle;\n",
              "    }\n",
              "\n",
              "    .dataframe tbody tr th {\n",
              "        vertical-align: top;\n",
              "    }\n",
              "\n",
              "    .dataframe thead th {\n",
              "        text-align: right;\n",
              "    }\n",
              "</style>\n",
              "<table border=\"1\" class=\"dataframe\">\n",
              "  <thead>\n",
              "    <tr style=\"text-align: right;\">\n",
              "      <th></th>\n",
              "      <th>Q1</th>\n",
              "      <th>Q2</th>\n",
              "      <th>Q3</th>\n",
              "      <th>Q8</th>\n",
              "      <th>Q9</th>\n",
              "      <th>Q10</th>\n",
              "      <th>Q11</th>\n",
              "      <th>Q11a</th>\n",
              "      <th>Q11b</th>\n",
              "      <th>Q12</th>\n",
              "      <th>...</th>\n",
              "      <th>Q24</th>\n",
              "      <th>Q25</th>\n",
              "      <th>Q26</th>\n",
              "      <th>Q26a</th>\n",
              "      <th>Q27</th>\n",
              "      <th>Q27a</th>\n",
              "      <th>Q28</th>\n",
              "      <th>Q28a</th>\n",
              "      <th>Q29</th>\n",
              "      <th>Q29a</th>\n",
              "    </tr>\n",
              "  </thead>\n",
              "  <tbody>\n",
              "    <tr>\n",
              "      <th>0</th>\n",
              "      <td>44</td>\n",
              "      <td>1</td>\n",
              "      <td>1</td>\n",
              "      <td>2</td>\n",
              "      <td>2</td>\n",
              "      <td>2</td>\n",
              "      <td>1</td>\n",
              "      <td>0</td>\n",
              "      <td>0</td>\n",
              "      <td>8</td>\n",
              "      <td>...</td>\n",
              "      <td>1</td>\n",
              "      <td>2</td>\n",
              "      <td>2</td>\n",
              "      <td>1</td>\n",
              "      <td>2</td>\n",
              "      <td>1</td>\n",
              "      <td>2</td>\n",
              "      <td>1</td>\n",
              "      <td>2</td>\n",
              "      <td>0</td>\n",
              "    </tr>\n",
              "    <tr>\n",
              "      <th>1</th>\n",
              "      <td>39</td>\n",
              "      <td>1</td>\n",
              "      <td>1</td>\n",
              "      <td>2</td>\n",
              "      <td>2</td>\n",
              "      <td>2</td>\n",
              "      <td>2</td>\n",
              "      <td>2</td>\n",
              "      <td>1</td>\n",
              "      <td>7</td>\n",
              "      <td>...</td>\n",
              "      <td>3</td>\n",
              "      <td>1</td>\n",
              "      <td>1</td>\n",
              "      <td>1</td>\n",
              "      <td>2</td>\n",
              "      <td>1</td>\n",
              "      <td>2</td>\n",
              "      <td>0</td>\n",
              "      <td>2</td>\n",
              "      <td>1</td>\n",
              "    </tr>\n",
              "    <tr>\n",
              "      <th>2</th>\n",
              "      <td>28</td>\n",
              "      <td>1</td>\n",
              "      <td>1</td>\n",
              "      <td>2</td>\n",
              "      <td>2</td>\n",
              "      <td>2</td>\n",
              "      <td>2</td>\n",
              "      <td>1</td>\n",
              "      <td>1</td>\n",
              "      <td>7</td>\n",
              "      <td>...</td>\n",
              "      <td>2</td>\n",
              "      <td>2</td>\n",
              "      <td>2</td>\n",
              "      <td>0</td>\n",
              "      <td>1</td>\n",
              "      <td>0</td>\n",
              "      <td>2</td>\n",
              "      <td>1</td>\n",
              "      <td>2</td>\n",
              "      <td>1</td>\n",
              "    </tr>\n",
              "    <tr>\n",
              "      <th>3</th>\n",
              "      <td>29</td>\n",
              "      <td>1</td>\n",
              "      <td>1</td>\n",
              "      <td>2</td>\n",
              "      <td>2</td>\n",
              "      <td>1</td>\n",
              "      <td>1</td>\n",
              "      <td>0</td>\n",
              "      <td>0</td>\n",
              "      <td>7</td>\n",
              "      <td>...</td>\n",
              "      <td>2</td>\n",
              "      <td>2</td>\n",
              "      <td>2</td>\n",
              "      <td>0</td>\n",
              "      <td>2</td>\n",
              "      <td>0</td>\n",
              "      <td>2</td>\n",
              "      <td>1</td>\n",
              "      <td>1</td>\n",
              "      <td>0</td>\n",
              "    </tr>\n",
              "    <tr>\n",
              "      <th>4</th>\n",
              "      <td>32</td>\n",
              "      <td>1</td>\n",
              "      <td>1</td>\n",
              "      <td>2</td>\n",
              "      <td>2</td>\n",
              "      <td>1</td>\n",
              "      <td>2</td>\n",
              "      <td>2</td>\n",
              "      <td>1</td>\n",
              "      <td>7</td>\n",
              "      <td>...</td>\n",
              "      <td>2</td>\n",
              "      <td>2</td>\n",
              "      <td>1</td>\n",
              "      <td>1</td>\n",
              "      <td>2</td>\n",
              "      <td>0</td>\n",
              "      <td>2</td>\n",
              "      <td>1</td>\n",
              "      <td>2</td>\n",
              "      <td>1</td>\n",
              "    </tr>\n",
              "    <tr>\n",
              "      <th>...</th>\n",
              "      <td>...</td>\n",
              "      <td>...</td>\n",
              "      <td>...</td>\n",
              "      <td>...</td>\n",
              "      <td>...</td>\n",
              "      <td>...</td>\n",
              "      <td>...</td>\n",
              "      <td>...</td>\n",
              "      <td>...</td>\n",
              "      <td>...</td>\n",
              "      <td>...</td>\n",
              "      <td>...</td>\n",
              "      <td>...</td>\n",
              "      <td>...</td>\n",
              "      <td>...</td>\n",
              "      <td>...</td>\n",
              "      <td>...</td>\n",
              "      <td>...</td>\n",
              "      <td>...</td>\n",
              "      <td>...</td>\n",
              "      <td>...</td>\n",
              "    </tr>\n",
              "    <tr>\n",
              "      <th>257</th>\n",
              "      <td>29</td>\n",
              "      <td>1</td>\n",
              "      <td>5</td>\n",
              "      <td>2</td>\n",
              "      <td>1</td>\n",
              "      <td>2</td>\n",
              "      <td>1</td>\n",
              "      <td>0</td>\n",
              "      <td>0</td>\n",
              "      <td>8</td>\n",
              "      <td>...</td>\n",
              "      <td>4</td>\n",
              "      <td>2</td>\n",
              "      <td>2</td>\n",
              "      <td>1</td>\n",
              "      <td>2</td>\n",
              "      <td>0</td>\n",
              "      <td>2</td>\n",
              "      <td>1</td>\n",
              "      <td>2</td>\n",
              "      <td>1</td>\n",
              "    </tr>\n",
              "    <tr>\n",
              "      <th>258</th>\n",
              "      <td>44</td>\n",
              "      <td>2</td>\n",
              "      <td>1</td>\n",
              "      <td>2</td>\n",
              "      <td>2</td>\n",
              "      <td>1</td>\n",
              "      <td>2</td>\n",
              "      <td>2</td>\n",
              "      <td>3</td>\n",
              "      <td>7</td>\n",
              "      <td>...</td>\n",
              "      <td>1</td>\n",
              "      <td>1</td>\n",
              "      <td>2</td>\n",
              "      <td>0</td>\n",
              "      <td>1</td>\n",
              "      <td>0</td>\n",
              "      <td>2</td>\n",
              "      <td>1</td>\n",
              "      <td>1</td>\n",
              "      <td>0</td>\n",
              "    </tr>\n",
              "    <tr>\n",
              "      <th>259</th>\n",
              "      <td>47</td>\n",
              "      <td>1</td>\n",
              "      <td>19</td>\n",
              "      <td>2</td>\n",
              "      <td>2</td>\n",
              "      <td>1</td>\n",
              "      <td>2</td>\n",
              "      <td>2</td>\n",
              "      <td>2</td>\n",
              "      <td>6</td>\n",
              "      <td>...</td>\n",
              "      <td>5</td>\n",
              "      <td>2</td>\n",
              "      <td>2</td>\n",
              "      <td>1</td>\n",
              "      <td>2</td>\n",
              "      <td>0</td>\n",
              "      <td>2</td>\n",
              "      <td>1</td>\n",
              "      <td>2</td>\n",
              "      <td>1</td>\n",
              "    </tr>\n",
              "    <tr>\n",
              "      <th>260</th>\n",
              "      <td>58</td>\n",
              "      <td>1</td>\n",
              "      <td>1</td>\n",
              "      <td>1</td>\n",
              "      <td>1</td>\n",
              "      <td>1</td>\n",
              "      <td>1</td>\n",
              "      <td>0</td>\n",
              "      <td>0</td>\n",
              "      <td>9</td>\n",
              "      <td>...</td>\n",
              "      <td>4</td>\n",
              "      <td>2</td>\n",
              "      <td>2</td>\n",
              "      <td>0</td>\n",
              "      <td>2</td>\n",
              "      <td>1</td>\n",
              "      <td>2</td>\n",
              "      <td>1</td>\n",
              "      <td>2</td>\n",
              "      <td>4</td>\n",
              "    </tr>\n",
              "    <tr>\n",
              "      <th>261</th>\n",
              "      <td>66</td>\n",
              "      <td>1</td>\n",
              "      <td>1</td>\n",
              "      <td>1</td>\n",
              "      <td>1</td>\n",
              "      <td>1</td>\n",
              "      <td>1</td>\n",
              "      <td>0</td>\n",
              "      <td>0</td>\n",
              "      <td>8</td>\n",
              "      <td>...</td>\n",
              "      <td>2</td>\n",
              "      <td>1</td>\n",
              "      <td>2</td>\n",
              "      <td>1</td>\n",
              "      <td>2</td>\n",
              "      <td>0</td>\n",
              "      <td>1</td>\n",
              "      <td>1</td>\n",
              "      <td>2</td>\n",
              "      <td>1</td>\n",
              "    </tr>\n",
              "  </tbody>\n",
              "</table>\n",
              "<p>262 rows × 35 columns</p>\n",
              "</div>\n",
              "      <button class=\"colab-df-convert\" onclick=\"convertToInteractive('df-da0640f0-850d-4aa7-b3ec-ee3c5a473ad0')\"\n",
              "              title=\"Convert this dataframe to an interactive table.\"\n",
              "              style=\"display:none;\">\n",
              "        \n",
              "  <svg xmlns=\"http://www.w3.org/2000/svg\" height=\"24px\"viewBox=\"0 0 24 24\"\n",
              "       width=\"24px\">\n",
              "    <path d=\"M0 0h24v24H0V0z\" fill=\"none\"/>\n",
              "    <path d=\"M18.56 5.44l.94 2.06.94-2.06 2.06-.94-2.06-.94-.94-2.06-.94 2.06-2.06.94zm-11 1L8.5 8.5l.94-2.06 2.06-.94-2.06-.94L8.5 2.5l-.94 2.06-2.06.94zm10 10l.94 2.06.94-2.06 2.06-.94-2.06-.94-.94-2.06-.94 2.06-2.06.94z\"/><path d=\"M17.41 7.96l-1.37-1.37c-.4-.4-.92-.59-1.43-.59-.52 0-1.04.2-1.43.59L10.3 9.45l-7.72 7.72c-.78.78-.78 2.05 0 2.83L4 21.41c.39.39.9.59 1.41.59.51 0 1.02-.2 1.41-.59l7.78-7.78 2.81-2.81c.8-.78.8-2.07 0-2.86zM5.41 20L4 18.59l7.72-7.72 1.47 1.35L5.41 20z\"/>\n",
              "  </svg>\n",
              "      </button>\n",
              "      \n",
              "  <style>\n",
              "    .colab-df-container {\n",
              "      display:flex;\n",
              "      flex-wrap:wrap;\n",
              "      gap: 12px;\n",
              "    }\n",
              "\n",
              "    .colab-df-convert {\n",
              "      background-color: #E8F0FE;\n",
              "      border: none;\n",
              "      border-radius: 50%;\n",
              "      cursor: pointer;\n",
              "      display: none;\n",
              "      fill: #1967D2;\n",
              "      height: 32px;\n",
              "      padding: 0 0 0 0;\n",
              "      width: 32px;\n",
              "    }\n",
              "\n",
              "    .colab-df-convert:hover {\n",
              "      background-color: #E2EBFA;\n",
              "      box-shadow: 0px 1px 2px rgba(60, 64, 67, 0.3), 0px 1px 3px 1px rgba(60, 64, 67, 0.15);\n",
              "      fill: #174EA6;\n",
              "    }\n",
              "\n",
              "    [theme=dark] .colab-df-convert {\n",
              "      background-color: #3B4455;\n",
              "      fill: #D2E3FC;\n",
              "    }\n",
              "\n",
              "    [theme=dark] .colab-df-convert:hover {\n",
              "      background-color: #434B5C;\n",
              "      box-shadow: 0px 1px 3px 1px rgba(0, 0, 0, 0.15);\n",
              "      filter: drop-shadow(0px 1px 2px rgba(0, 0, 0, 0.3));\n",
              "      fill: #FFFFFF;\n",
              "    }\n",
              "  </style>\n",
              "\n",
              "      <script>\n",
              "        const buttonEl =\n",
              "          document.querySelector('#df-da0640f0-850d-4aa7-b3ec-ee3c5a473ad0 button.colab-df-convert');\n",
              "        buttonEl.style.display =\n",
              "          google.colab.kernel.accessAllowed ? 'block' : 'none';\n",
              "\n",
              "        async function convertToInteractive(key) {\n",
              "          const element = document.querySelector('#df-da0640f0-850d-4aa7-b3ec-ee3c5a473ad0');\n",
              "          const dataTable =\n",
              "            await google.colab.kernel.invokeFunction('convertToInteractive',\n",
              "                                                     [key], {});\n",
              "          if (!dataTable) return;\n",
              "\n",
              "          const docLinkHtml = 'Like what you see? Visit the ' +\n",
              "            '<a target=\"_blank\" href=https://colab.research.google.com/notebooks/data_table.ipynb>data table notebook</a>'\n",
              "            + ' to learn more about interactive tables.';\n",
              "          element.innerHTML = '';\n",
              "          dataTable['output_type'] = 'display_data';\n",
              "          await google.colab.output.renderOutput(dataTable, element);\n",
              "          const docLink = document.createElement('div');\n",
              "          docLink.innerHTML = docLinkHtml;\n",
              "          element.appendChild(docLink);\n",
              "        }\n",
              "      </script>\n",
              "    </div>\n",
              "  </div>\n",
              "  "
            ]
          },
          "metadata": {},
          "execution_count": 89
        }
      ]
    },
    {
      "cell_type": "code",
      "source": [
        "from numpy import mean\n",
        "from numpy import std\n",
        "from pandas import read_csv\n",
        "from sklearn.model_selection import train_test_split\n",
        "from sklearn.linear_model import LogisticRegression\n",
        "from sklearn.preprocessing import LabelEncoder\n",
        "from sklearn.preprocessing import OrdinalEncoder\n",
        "from sklearn.metrics import accuracy_score\n",
        "from pandas import read_csv\n",
        "from sklearn.preprocessing import LabelEncoder\n",
        "from sklearn.preprocessing import OneHotEncoder"
      ],
      "metadata": {
        "id": "5a1QPkyz2Q0m"
      },
      "execution_count": null,
      "outputs": []
    },
    {
      "cell_type": "code",
      "source": [
        "import pandas as pd\n",
        "import sklearn as sk\n",
        "from sklearn.linear_model import LogisticRegression\n",
        "from sklearn import svm\n",
        "from sklearn.ensemble import RandomForestClassifier\n",
        "from sklearn.neural_network import MLPClassifier\n",
        "from sklearn.model_selection import train_test_split\n",
        "\n",
        "from sklearn.metrics import f1_score"
      ],
      "metadata": {
        "id": "BTWhd4Wy2sKn"
      },
      "execution_count": null,
      "outputs": []
    },
    {
      "cell_type": "code",
      "source": [
        "data = df"
      ],
      "metadata": {
        "id": "sTm7tJ1q2uud"
      },
      "execution_count": null,
      "outputs": []
    },
    {
      "cell_type": "code",
      "source": [
        "data = data.drop([ \"Q15a\",\"Q3\"], axis = 1)"
      ],
      "metadata": {
        "id": "fZ1hOhB35EaC"
      },
      "execution_count": null,
      "outputs": []
    },
    {
      "cell_type": "code",
      "source": [
        "data.columns"
      ],
      "metadata": {
        "colab": {
          "base_uri": "https://localhost:8080/"
        },
        "id": "MgUpfdxS5JYm",
        "outputId": "5c115a5b-bee6-4bc6-bddf-5739f67c52ed"
      },
      "execution_count": null,
      "outputs": [
        {
          "output_type": "execute_result",
          "data": {
            "text/plain": [
              "Index(['Q1', 'Q2', 'Q8', 'Q9', 'Q10', 'Q11', 'Q11a', 'Q11b', 'Q12', 'Q13',\n",
              "       'Q14', 'Q14a', 'Q15', 'Q16', 'Q16a', 'Q16b', 'Q17', 'Q18', 'Q18a',\n",
              "       'Q19', 'Q20', 'Q21', 'Q22', 'Q23', 'Q24', 'Q25', 'Q26', 'Q26a', 'Q27',\n",
              "       'Q27a', 'Q28', 'Q28a', 'Q29', 'Q29a'],\n",
              "      dtype='object')"
            ]
          },
          "metadata": {},
          "execution_count": 94
        }
      ]
    },
    {
      "cell_type": "code",
      "source": [
        "data.shape"
      ],
      "metadata": {
        "colab": {
          "base_uri": "https://localhost:8080/"
        },
        "id": "Mm2B2J5kEMVw",
        "outputId": "0e0f3e86-0535-4d77-d44f-4c25d1e87a48"
      },
      "execution_count": null,
      "outputs": [
        {
          "output_type": "execute_result",
          "data": {
            "text/plain": [
              "(262, 34)"
            ]
          },
          "metadata": {},
          "execution_count": 95
        }
      ]
    },
    {
      "cell_type": "code",
      "source": [
        "# split into input (X) and output (y) variables\n",
        "X = data.loc[:,data.columns !='Q18a'].astype(str)\n",
        "y = data['Q18a'].astype(str)\n",
        "# one hot encode input variables\n",
        "onehot_encoder = OneHotEncoder(sparse=False)\n",
        "X = onehot_encoder.fit_transform(X)\n",
        "# ordinal encode target variable\n",
        "label_encoder = LabelEncoder()\n",
        "y = label_encoder.fit_transform(y)\n",
        "# summarize\n",
        "print('Input', X.shape)\n",
        "print('Output', y.shape)\n",
        "\n",
        "X_train, X_test, y_train, y_test = train_test_split(X, y, test_size=0.33, random_state=1)\n",
        "X_tr=X_train\n",
        "y_tr=y_train"
      ],
      "metadata": {
        "colab": {
          "base_uri": "https://localhost:8080/"
        },
        "id": "wbcsA18_2pKB",
        "outputId": "912a56e6-9ffc-4dd2-8d30-f53a44866113"
      },
      "execution_count": null,
      "outputs": [
        {
          "output_type": "stream",
          "name": "stdout",
          "text": [
            "Input (262, 161)\n",
            "Output (262,)\n"
          ]
        }
      ]
    },
    {
      "cell_type": "code",
      "source": [
        "LR = LogisticRegression(random_state=0, solver='lbfgs').fit(X_tr, y_tr)\n",
        "LR.predict(X_test)\n",
        "round(LR.score(X_test,y_test), 4)"
      ],
      "metadata": {
        "colab": {
          "base_uri": "https://localhost:8080/"
        },
        "id": "ifL6sWc32i22",
        "outputId": "3ef99ced-a55e-466d-cdcf-a8e7d667de7f"
      },
      "execution_count": null,
      "outputs": [
        {
          "output_type": "execute_result",
          "data": {
            "text/plain": [
              "0.8046"
            ]
          },
          "metadata": {},
          "execution_count": 97
        }
      ]
    },
    {
      "cell_type": "code",
      "source": [
        "LR = LogisticRegression(random_state=0, solver='lbfgs').fit(X_tr, y_tr)\n",
        "LR.predict(X_test)\n",
        "round(LR.score(X_tr,y_tr), 4)"
      ],
      "metadata": {
        "colab": {
          "base_uri": "https://localhost:8080/"
        },
        "id": "hkel5Dmr22qH",
        "outputId": "5895f512-4489-4d33-fe19-1afbcf20fc0d"
      },
      "execution_count": null,
      "outputs": [
        {
          "output_type": "execute_result",
          "data": {
            "text/plain": [
              "1.0"
            ]
          },
          "metadata": {},
          "execution_count": 98
        }
      ]
    },
    {
      "cell_type": "code",
      "source": [
        "pred_LR = LR.predict(X_test)\n",
        "f1_score(y_test, pred_LR, pos_label='positive', average = 'micro')"
      ],
      "metadata": {
        "colab": {
          "base_uri": "https://localhost:8080/"
        },
        "id": "KA_jdRF1_ENm",
        "outputId": "438bb2a9-b76f-46e8-c9c8-30f5aa671707"
      },
      "execution_count": null,
      "outputs": [
        {
          "output_type": "execute_result",
          "data": {
            "text/plain": [
              "0.8045977011494253"
            ]
          },
          "metadata": {},
          "execution_count": 99
        }
      ]
    },
    {
      "cell_type": "code",
      "source": [
        "SVM = svm.SVC().fit(X_tr, y_tr)\n",
        "SVM.predict(X_test)\n",
        "round(SVM.score(X_test, y_test), 4)"
      ],
      "metadata": {
        "colab": {
          "base_uri": "https://localhost:8080/"
        },
        "id": "nzWlK0bh24zu",
        "outputId": "6ba08ca2-0c36-4620-d7f3-f67d7d0d36ba"
      },
      "execution_count": null,
      "outputs": [
        {
          "output_type": "execute_result",
          "data": {
            "text/plain": [
              "0.7931"
            ]
          },
          "metadata": {},
          "execution_count": 100
        }
      ]
    },
    {
      "cell_type": "code",
      "source": [
        "SVM = svm.SVC().fit(X_tr, y_tr)\n",
        "SVM.predict(X_test)\n",
        "round(SVM.score(X_tr,y_tr), 4)"
      ],
      "metadata": {
        "colab": {
          "base_uri": "https://localhost:8080/"
        },
        "id": "TDyKduy_289P",
        "outputId": "e46cb08b-3f36-47e9-e31a-bef911150007"
      },
      "execution_count": null,
      "outputs": [
        {
          "output_type": "execute_result",
          "data": {
            "text/plain": [
              "0.8914"
            ]
          },
          "metadata": {},
          "execution_count": 101
        }
      ]
    },
    {
      "cell_type": "code",
      "source": [
        "pred_SVM = SVM.predict(X_test)\n",
        "f1_score(y_test, pred_SVM, pos_label='positive', average = 'micro')"
      ],
      "metadata": {
        "colab": {
          "base_uri": "https://localhost:8080/"
        },
        "id": "2REAPHs6_Sr1",
        "outputId": "03f74412-f86d-4455-a091-90302da351a8"
      },
      "execution_count": null,
      "outputs": [
        {
          "output_type": "execute_result",
          "data": {
            "text/plain": [
              "0.7931034482758621"
            ]
          },
          "metadata": {},
          "execution_count": 102
        }
      ]
    },
    {
      "cell_type": "code",
      "source": [
        "NN = MLPClassifier(solver='lbfgs', alpha=1e-5, hidden_layer_sizes=(20, 12), random_state=1).fit(X_tr, y_tr)\n",
        "NN.predict(X_test)\n",
        "round(NN.score(X_test, y_test), 4)"
      ],
      "metadata": {
        "colab": {
          "base_uri": "https://localhost:8080/"
        },
        "id": "1H5ZRbSQ2_WU",
        "outputId": "ab37d23e-8b68-4c39-b102-7a31f457c0c6"
      },
      "execution_count": null,
      "outputs": [
        {
          "output_type": "execute_result",
          "data": {
            "text/plain": [
              "0.7816"
            ]
          },
          "metadata": {},
          "execution_count": 103
        }
      ]
    },
    {
      "cell_type": "code",
      "source": [
        "NN = MLPClassifier(solver='lbfgs', alpha=1e-5, hidden_layer_sizes=(20, 12), random_state=1).fit(X_tr, y_tr)\n",
        "NN.predict(X_test)\n",
        "round(NN.score(X_tr,y_tr), 4)"
      ],
      "metadata": {
        "colab": {
          "base_uri": "https://localhost:8080/"
        },
        "id": "xZZbqHR63CGH",
        "outputId": "0766fd3b-3353-4540-8753-64ea2b0905c2"
      },
      "execution_count": null,
      "outputs": [
        {
          "output_type": "execute_result",
          "data": {
            "text/plain": [
              "1.0"
            ]
          },
          "metadata": {},
          "execution_count": 104
        }
      ]
    },
    {
      "cell_type": "code",
      "source": [
        "pred_NN = NN.predict(X_test)\n",
        "f1_score(y_test, pred_NN, pos_label='positive', average = 'micro')"
      ],
      "metadata": {
        "colab": {
          "base_uri": "https://localhost:8080/"
        },
        "id": "Si0CB65k_ZLQ",
        "outputId": "75582785-f397-4c22-ba05-0a4682ee51e3"
      },
      "execution_count": null,
      "outputs": [
        {
          "output_type": "execute_result",
          "data": {
            "text/plain": [
              "0.781609195402299"
            ]
          },
          "metadata": {},
          "execution_count": 105
        }
      ]
    },
    {
      "cell_type": "code",
      "source": [
        "from sklearn.neighbors import KNeighborsClassifier\n",
        "error = []\n",
        "\n",
        "KNN = KNeighborsClassifier(n_neighbors=4)\n",
        "KNN.fit(X_tr, y_tr)\n",
        "KNN.predict(X_test)\n",
        "KNN.score(X_test,y_test)"
      ],
      "metadata": {
        "colab": {
          "base_uri": "https://localhost:8080/"
        },
        "id": "c2HdNIWc3RpD",
        "outputId": "5c1e9986-0216-4b28-e830-1781e0f09ca3"
      },
      "execution_count": null,
      "outputs": [
        {
          "output_type": "execute_result",
          "data": {
            "text/plain": [
              "0.7931034482758621"
            ]
          },
          "metadata": {},
          "execution_count": 106
        }
      ]
    },
    {
      "cell_type": "code",
      "source": [
        "from sklearn.neighbors import KNeighborsClassifier\n",
        "error = []\n",
        "\n",
        "KNN = KNeighborsClassifier(n_neighbors=4)\n",
        "KNN.fit(X_tr, y_tr)\n",
        "KNN.predict(X_test)\n",
        "round(KNN.score(X_tr,y_tr), 4)"
      ],
      "metadata": {
        "colab": {
          "base_uri": "https://localhost:8080/"
        },
        "id": "8yOnooWf3Xof",
        "outputId": "cb80fa9a-2eb1-4cf7-a350-f4d0d138411b"
      },
      "execution_count": null,
      "outputs": [
        {
          "output_type": "execute_result",
          "data": {
            "text/plain": [
              "0.9143"
            ]
          },
          "metadata": {},
          "execution_count": 107
        }
      ]
    },
    {
      "cell_type": "code",
      "source": [
        "pred_KNN = KNN.predict(X_test)\n",
        "f1_score(y_test, pred_KNN, pos_label='positive', average = 'micro')"
      ],
      "metadata": {
        "colab": {
          "base_uri": "https://localhost:8080/"
        },
        "id": "944hy3L0_gag",
        "outputId": "56be0011-24a3-4ac5-e07e-56307dc6b264"
      },
      "execution_count": null,
      "outputs": [
        {
          "output_type": "execute_result",
          "data": {
            "text/plain": [
              "0.7931034482758621"
            ]
          },
          "metadata": {},
          "execution_count": 108
        }
      ]
    },
    {
      "cell_type": "code",
      "source": [
        "from sklearn.tree import DecisionTreeClassifier # Import Decision Tree Classifier\n",
        "clf = DecisionTreeClassifier(criterion=\"entropy\", max_depth=3)\n",
        "clf.fit(X_tr, y_tr)\n",
        "clf.predict(X_test)\n",
        "round(clf.score(X_test,y_test), 4)"
      ],
      "metadata": {
        "colab": {
          "base_uri": "https://localhost:8080/"
        },
        "id": "kc5Ryr7P3bxy",
        "outputId": "569837b2-348a-443b-fe8d-8122f55103a9"
      },
      "execution_count": null,
      "outputs": [
        {
          "output_type": "execute_result",
          "data": {
            "text/plain": [
              "0.954"
            ]
          },
          "metadata": {},
          "execution_count": 109
        }
      ]
    },
    {
      "cell_type": "code",
      "source": [
        "from sklearn.tree import DecisionTreeClassifier # Import Decision Tree Classifier\n",
        "clf = DecisionTreeClassifier(criterion=\"entropy\", max_depth=3)\n",
        "clf.fit(X_tr, y_tr)\n",
        "clf.predict(X_test)\n",
        "round(clf.score(X_tr,y_tr), 4)"
      ],
      "metadata": {
        "colab": {
          "base_uri": "https://localhost:8080/"
        },
        "id": "cnBT1IrB3fj-",
        "outputId": "bb2669dc-24a2-4e33-8df8-99687a7842ab"
      },
      "execution_count": null,
      "outputs": [
        {
          "output_type": "execute_result",
          "data": {
            "text/plain": [
              "0.9714"
            ]
          },
          "metadata": {},
          "execution_count": 110
        }
      ]
    },
    {
      "cell_type": "code",
      "source": [
        "pred_DT = clf.predict(X_test)\n",
        "f1_score(y_test, pred_DT, pos_label='positive', average = 'micro')"
      ],
      "metadata": {
        "colab": {
          "base_uri": "https://localhost:8080/"
        },
        "id": "Jc8684DN_phA",
        "outputId": "c3e6b7e8-efd2-4724-d22f-edaec1e96bad"
      },
      "execution_count": null,
      "outputs": [
        {
          "output_type": "execute_result",
          "data": {
            "text/plain": [
              "0.9540229885057472"
            ]
          },
          "metadata": {},
          "execution_count": 111
        }
      ]
    },
    {
      "cell_type": "code",
      "source": [
        "from sklearn.ensemble import VotingClassifier\n",
        "estimators = [(\"LogisticRegression\", LR),(\"SVM\", SVM)]\n",
        "ensemble1 = VotingClassifier(estimators, voting ='hard')\n",
        "ensemble1.fit(X_tr, y_tr)\n",
        "round(ensemble1.score(X_tr,y_tr), 4)"
      ],
      "metadata": {
        "colab": {
          "base_uri": "https://localhost:8080/"
        },
        "id": "JeJATVpvBl9S",
        "outputId": "ad793a69-a5e1-48c9-b31a-6972a6c2151c"
      },
      "execution_count": null,
      "outputs": [
        {
          "output_type": "execute_result",
          "data": {
            "text/plain": [
              "1.0"
            ]
          },
          "metadata": {},
          "execution_count": 114
        }
      ]
    },
    {
      "cell_type": "code",
      "source": [
        "pred_ensemble1 = ensemble1.predict(X_test)\n",
        "f1_score(y_test, pred_ensemble1, pos_label='positive', average = 'micro')"
      ],
      "metadata": {
        "colab": {
          "base_uri": "https://localhost:8080/"
        },
        "id": "BjapSUG2CO-b",
        "outputId": "cc9fb663-f7d0-4d27-bf83-088861a05ae7"
      },
      "execution_count": null,
      "outputs": [
        {
          "output_type": "execute_result",
          "data": {
            "text/plain": [
              "0.8045977011494253"
            ]
          },
          "metadata": {},
          "execution_count": 115
        }
      ]
    },
    {
      "cell_type": "code",
      "source": [
        "from sklearn.ensemble import VotingClassifier\n",
        "estimators = [(\"LogisticRegression\", LR),(\"SVM\", SVM), (\"NN\", NN)]\n",
        "ensemble2 = VotingClassifier(estimators, voting ='hard')\n",
        "ensemble2.fit(X_tr, y_tr)\n",
        "round(ensemble2.score(X_tr,y_tr), 4)"
      ],
      "metadata": {
        "colab": {
          "base_uri": "https://localhost:8080/"
        },
        "id": "C3wbJymOK7QD",
        "outputId": "a5156673-80a3-4b89-d530-85690a423739"
      },
      "execution_count": null,
      "outputs": [
        {
          "output_type": "execute_result",
          "data": {
            "text/plain": [
              "1.0"
            ]
          },
          "metadata": {},
          "execution_count": 116
        }
      ]
    },
    {
      "cell_type": "code",
      "source": [
        "pred_ensemble2 = ensemble2.predict(X_test)\n",
        "f1_score(y_test, pred_ensemble2, pos_label='positive', average = 'micro')"
      ],
      "metadata": {
        "colab": {
          "base_uri": "https://localhost:8080/"
        },
        "id": "WGloGHm7CXMV",
        "outputId": "e0be9a46-2c5b-421a-bb38-323cd0b45c3c"
      },
      "execution_count": null,
      "outputs": [
        {
          "output_type": "execute_result",
          "data": {
            "text/plain": [
              "0.8045977011494253"
            ]
          },
          "metadata": {},
          "execution_count": 117
        }
      ]
    },
    {
      "cell_type": "code",
      "source": [
        "from sklearn.ensemble import VotingClassifier\n",
        "estimators = [(\"LogisticRegression\", LR),(\"SVM\", SVM), (\"NN\", NN), (\"KNN\", KNN)]\n",
        "ensemble3 = VotingClassifier(estimators, voting ='hard')\n",
        "ensemble3.fit(X_tr, y_tr)\n",
        "round(ensemble3.score(X_tr,y_tr), 4)"
      ],
      "metadata": {
        "colab": {
          "base_uri": "https://localhost:8080/"
        },
        "id": "4dZ1OYUIM1QD",
        "outputId": "c27ddd70-fd7a-4ccb-bc28-447c7962f036"
      },
      "execution_count": null,
      "outputs": [
        {
          "output_type": "execute_result",
          "data": {
            "text/plain": [
              "1.0"
            ]
          },
          "metadata": {},
          "execution_count": 118
        }
      ]
    },
    {
      "cell_type": "code",
      "source": [
        "pred_ensemble3 = ensemble3.predict(X_test)\n",
        "f1_score(y_test, pred_ensemble3, pos_label='positive', average = 'micro')"
      ],
      "metadata": {
        "colab": {
          "base_uri": "https://localhost:8080/"
        },
        "id": "IJK2Aj-nChVt",
        "outputId": "8738a39a-4dd9-4d41-d807-1fb31be96cc8"
      },
      "execution_count": null,
      "outputs": [
        {
          "output_type": "execute_result",
          "data": {
            "text/plain": [
              "0.8045977011494253"
            ]
          },
          "metadata": {},
          "execution_count": 119
        }
      ]
    },
    {
      "cell_type": "code",
      "source": [
        "# Ensemble using LR, SVM, NN, KNN, DT\n",
        "estimators = [(\"LogisticRegression\", LR),(\"SVM\", SVM), (\"NN\", NN), (\"KNN\", KNN), (\"DT\", clf)]\n",
        "ensemble_all = VotingClassifier(estimators, voting ='hard')\n",
        "ensemble_all.fit(X_tr, y_tr)\n",
        "round(ensemble_all.score(X_tr,y_tr), 4)"
      ],
      "metadata": {
        "colab": {
          "base_uri": "https://localhost:8080/"
        },
        "id": "VWdmqN_jKQ7Y",
        "outputId": "1de53aec-c08a-4bf3-fc8a-b45543d867e4"
      },
      "execution_count": null,
      "outputs": [
        {
          "output_type": "execute_result",
          "data": {
            "text/plain": [
              "0.9886"
            ]
          },
          "metadata": {},
          "execution_count": 120
        }
      ]
    },
    {
      "cell_type": "code",
      "source": [
        "ensemble_all.fit(X_test, y_test)\n",
        "round(ensemble_all.score(X_test, y_test), 4)"
      ],
      "metadata": {
        "colab": {
          "base_uri": "https://localhost:8080/"
        },
        "id": "Kxs9MGK2ONmn",
        "outputId": "77b29cce-5059-4420-db8f-c02377a67c8d"
      },
      "execution_count": 140,
      "outputs": [
        {
          "output_type": "execute_result",
          "data": {
            "text/plain": [
              "0.9329"
            ]
          },
          "metadata": {},
          "execution_count": 140
        }
      ]
    },
    {
      "cell_type": "code",
      "source": [
        "pred_ensemble_all = ensemble_all.predict(X_test)\n",
        "f1_score(y_test, pred_ensemble_all, pos_label='positive', average = 'micro')"
      ],
      "metadata": {
        "colab": {
          "base_uri": "https://localhost:8080/"
        },
        "id": "MgPjTvln_8IG",
        "outputId": "951879fc-e12a-41da-ef58-ad79e4827f01"
      },
      "execution_count": null,
      "outputs": [
        {
          "output_type": "execute_result",
          "data": {
            "text/plain": [
              "0.8160919540229885"
            ]
          },
          "metadata": {},
          "execution_count": 121
        }
      ]
    },
    {
      "cell_type": "code",
      "source": [
        "from google.colab import files\n",
        "data.to_csv('data_2.csv') \n",
        "files.download('data_2.csv')"
      ],
      "metadata": {
        "colab": {
          "base_uri": "https://localhost:8080/",
          "height": 17
        },
        "id": "5YnvNlVc7-6E",
        "outputId": "ed4cc3d1-2b66-45cd-8e83-35a2e0ec2c2d"
      },
      "execution_count": null,
      "outputs": [
        {
          "output_type": "display_data",
          "data": {
            "text/plain": [
              "<IPython.core.display.Javascript object>"
            ],
            "application/javascript": [
              "\n",
              "    async function download(id, filename, size) {\n",
              "      if (!google.colab.kernel.accessAllowed) {\n",
              "        return;\n",
              "      }\n",
              "      const div = document.createElement('div');\n",
              "      const label = document.createElement('label');\n",
              "      label.textContent = `Downloading \"${filename}\": `;\n",
              "      div.appendChild(label);\n",
              "      const progress = document.createElement('progress');\n",
              "      progress.max = size;\n",
              "      div.appendChild(progress);\n",
              "      document.body.appendChild(div);\n",
              "\n",
              "      const buffers = [];\n",
              "      let downloaded = 0;\n",
              "\n",
              "      const channel = await google.colab.kernel.comms.open(id);\n",
              "      // Send a message to notify the kernel that we're ready.\n",
              "      channel.send({})\n",
              "\n",
              "      for await (const message of channel.messages) {\n",
              "        // Send a message to notify the kernel that we're ready.\n",
              "        channel.send({})\n",
              "        if (message.buffers) {\n",
              "          for (const buffer of message.buffers) {\n",
              "            buffers.push(buffer);\n",
              "            downloaded += buffer.byteLength;\n",
              "            progress.value = downloaded;\n",
              "          }\n",
              "        }\n",
              "      }\n",
              "      const blob = new Blob(buffers, {type: 'application/binary'});\n",
              "      const a = document.createElement('a');\n",
              "      a.href = window.URL.createObjectURL(blob);\n",
              "      a.download = filename;\n",
              "      div.appendChild(a);\n",
              "      a.click();\n",
              "      div.remove();\n",
              "    }\n",
              "  "
            ]
          },
          "metadata": {}
        },
        {
          "output_type": "display_data",
          "data": {
            "text/plain": [
              "<IPython.core.display.Javascript object>"
            ],
            "application/javascript": [
              "download(\"download_dce51f28-b6c5-4b15-a874-7e4b163a41aa\", \"data_2.csv\", 19170)"
            ]
          },
          "metadata": {}
        }
      ]
    },
    {
      "cell_type": "code",
      "source": [
        "print(data)\n",
        "print(data.shape)"
      ],
      "metadata": {
        "colab": {
          "base_uri": "https://localhost:8080/"
        },
        "id": "Pa5uI6M39BOP",
        "outputId": "5434282d-ab40-45ef-d9dc-2a4b4e8b35de"
      },
      "execution_count": null,
      "outputs": [
        {
          "output_type": "stream",
          "name": "stdout",
          "text": [
            "     Q1  Q2  Q8  Q9  Q10  Q11  Q11a  Q11b  Q12  Q13  ...  Q24  Q25  Q26  Q26a  \\\n",
            "0    44   1   2   2    2    1     0     0    8    9  ...    1    2    2     1   \n",
            "1    39   1   2   2    2    2     2     1    7    7  ...    3    1    1     1   \n",
            "2    28   1   2   2    2    2     1     1    7    7  ...    2    2    2     0   \n",
            "3    29   1   2   2    1    1     0     0    7    6  ...    2    2    2     0   \n",
            "4    32   1   2   2    1    2     2     1    7    7  ...    2    2    1     1   \n",
            "..   ..  ..  ..  ..  ...  ...   ...   ...  ...  ...  ...  ...  ...  ...   ...   \n",
            "257  29   1   2   1    2    1     0     0    8    8  ...    4    2    2     1   \n",
            "258  44   2   2   2    1    2     2     3    7    8  ...    1    1    2     0   \n",
            "259  47   1   2   2    1    2     2     2    6    7  ...    5    2    2     1   \n",
            "260  58   1   1   1    1    1     0     0    9   10  ...    4    2    2     0   \n",
            "261  66   1   1   1    1    1     0     0    8    8  ...    2    1    2     1   \n",
            "\n",
            "     Q27  Q27a  Q28  Q28a  Q29  Q29a  \n",
            "0      2     1    2     1    2     0  \n",
            "1      2     1    2     0    2     1  \n",
            "2      1     0    2     1    2     1  \n",
            "3      2     0    2     1    1     0  \n",
            "4      2     0    2     1    2     1  \n",
            "..   ...   ...  ...   ...  ...   ...  \n",
            "257    2     0    2     1    2     1  \n",
            "258    1     0    2     1    1     0  \n",
            "259    2     0    2     1    2     1  \n",
            "260    2     1    2     1    2     4  \n",
            "261    2     0    1     1    2     1  \n",
            "\n",
            "[262 rows x 34 columns]\n",
            "(262, 34)\n"
          ]
        }
      ]
    },
    {
      "cell_type": "code",
      "source": [
        "print(data.columns)"
      ],
      "metadata": {
        "colab": {
          "base_uri": "https://localhost:8080/"
        },
        "id": "8BNxE5ikCiQ4",
        "outputId": "a8584fbb-6431-4e45-9050-01200c444c01"
      },
      "execution_count": null,
      "outputs": [
        {
          "output_type": "stream",
          "name": "stdout",
          "text": [
            "Index(['Q1', 'Q2', 'Q8', 'Q9', 'Q10', 'Q11', 'Q11a', 'Q11b', 'Q12', 'Q13',\n",
            "       'Q14', 'Q14a', 'Q15', 'Q16', 'Q16a', 'Q16b', 'Q17', 'Q18', 'Q18a',\n",
            "       'Q19', 'Q20', 'Q21', 'Q22', 'Q23', 'Q24', 'Q25', 'Q26', 'Q26a', 'Q27',\n",
            "       'Q27a', 'Q28', 'Q28a', 'Q29', 'Q29a'],\n",
            "      dtype='object')\n"
          ]
        }
      ]
    },
    {
      "cell_type": "code",
      "source": [
        "# XGBoost\n",
        "import pandas as pd\n",
        "import numpy as np\n",
        "import matplotlib.pyplot as plt\n",
        "import seaborn as sns\n",
        "from sklearn.preprocessing import LabelEncoder\n",
        "from sklearn.preprocessing import OneHotEncoder\n",
        "import warnings\n",
        "warnings.filterwarnings(\"ignore\")\n",
        "# load and summarize the dataset\n",
        "from pandas import read_csv\n",
        "from collections import Counter\n",
        "from matplotlib import pyplot\n",
        "from sklearn.preprocessing import LabelEncoder\n",
        "# xgboost for classification\n",
        "from numpy import asarray\n",
        "from numpy import mean\n",
        "from numpy import std\n",
        "from sklearn.datasets import make_classification\n",
        "from xgboost import XGBClassifier\n",
        "from sklearn.model_selection import cross_val_score\n",
        "from sklearn.model_selection import RepeatedStratifiedKFold\n",
        "from matplotlib import pyplot\n",
        "df4=data\n",
        "# split into input (X) and output (y) variables\n",
        "X = df4.loc[:,df4.columns !='Q18a']\n",
        "y = df4['Q18a']\n",
        "\n",
        "# evaluate the model\n",
        "model = XGBClassifier()\n",
        "empty=[]\n",
        "for i in range(2,40):\n",
        "    cv = RepeatedStratifiedKFold(n_splits=i, n_repeats=3, random_state=1)\n",
        "    n_scores = cross_val_score(model, X, y, scoring='accuracy', cv=cv, n_jobs=-1, error_score='raise')\n",
        "    print('Accuracy: %.3f (%.3f) \\n' % (mean(n_scores), std(n_scores)))\n",
        "    # fit the model on the whole dataset\n",
        "    empty.append(mean(n_scores))\n",
        "    model = XGBClassifier()\n",
        "    model.fit(X, y)\n",
        "    names = range(2,40)\n",
        "values = empty\n",
        "\n",
        "plt.figure(figsize=(9, 3))\n",
        "\n",
        "plt.subplot(121)\n",
        "plt.scatter(names, values)\n",
        "plt.ylabel('Accuracy')\n",
        "plt.xlabel('Number of folds')\n",
        "plt.subplot(122)\n",
        "plt.plot(names, values)\n",
        "plt.xlabel('Number of folds')\n",
        "plt.show()\n"
      ],
      "metadata": {
        "colab": {
          "base_uri": "https://localhost:8080/",
          "height": 1000
        },
        "id": "P360zRbCc3Za",
        "outputId": "befc622f-5e08-47fc-fb85-778ff984b9d3"
      },
      "execution_count": null,
      "outputs": [
        {
          "output_type": "stream",
          "name": "stdout",
          "text": [
            "Accuracy: 0.911 (0.014) \n",
            "\n",
            "Accuracy: 0.934 (0.018) \n",
            "\n",
            "Accuracy: 0.936 (0.023) \n",
            "\n",
            "Accuracy: 0.940 (0.023) \n",
            "\n",
            "Accuracy: 0.942 (0.027) \n",
            "\n",
            "Accuracy: 0.945 (0.029) \n",
            "\n",
            "Accuracy: 0.950 (0.029) \n",
            "\n",
            "Accuracy: 0.952 (0.031) \n",
            "\n",
            "Accuracy: 0.945 (0.039) \n",
            "\n",
            "Accuracy: 0.953 (0.032) \n",
            "\n",
            "Accuracy: 0.952 (0.036) \n",
            "\n",
            "Accuracy: 0.955 (0.042) \n",
            "\n",
            "Accuracy: 0.950 (0.038) \n",
            "\n",
            "Accuracy: 0.953 (0.043) \n",
            "\n",
            "Accuracy: 0.952 (0.043) \n",
            "\n",
            "Accuracy: 0.952 (0.047) \n",
            "\n",
            "Accuracy: 0.949 (0.051) \n",
            "\n",
            "Accuracy: 0.953 (0.057) \n",
            "\n",
            "Accuracy: 0.952 (0.050) \n",
            "\n",
            "Accuracy: 0.952 (0.050) \n",
            "\n",
            "Accuracy: 0.952 (0.054) \n",
            "\n",
            "Accuracy: 0.952 (0.060) \n",
            "\n",
            "Accuracy: 0.954 (0.055) \n",
            "\n",
            "Accuracy: 0.947 (0.066) \n",
            "\n",
            "Accuracy: 0.948 (0.063) \n",
            "\n",
            "Accuracy: 0.950 (0.060) \n",
            "\n",
            "Accuracy: 0.949 (0.066) \n",
            "\n",
            "Accuracy: 0.952 (0.072) \n",
            "\n",
            "Accuracy: 0.951 (0.062) \n",
            "\n",
            "Accuracy: 0.953 (0.060) \n",
            "\n",
            "Accuracy: 0.949 (0.067) \n",
            "\n",
            "Accuracy: 0.953 (0.068) \n",
            "\n",
            "Accuracy: 0.953 (0.068) \n",
            "\n",
            "Accuracy: 0.953 (0.069) \n",
            "\n",
            "Accuracy: 0.953 (0.073) \n",
            "\n",
            "Accuracy: 0.953 (0.075) \n",
            "\n",
            "Accuracy: 0.952 (0.076) \n",
            "\n",
            "Accuracy: 0.951 (0.078) \n",
            "\n"
          ]
        },
        {
          "output_type": "display_data",
          "data": {
            "text/plain": [
              "<Figure size 648x216 with 2 Axes>"
            ],
            "image/png": "[encoded data removed]"
          },
          "metadata": {
            "needs_background": "light"
          }
        }
      ]
    },
    {
      "cell_type": "code",
      "source": [
        "#XGboost\n",
        "import pandas as pd\n",
        "import numpy as np\n",
        "import matplotlib.pyplot as plt\n",
        "import seaborn as sns\n",
        "from sklearn.preprocessing import LabelEncoder\n",
        "from sklearn.preprocessing import OneHotEncoder\n",
        "import warnings\n",
        "warnings.filterwarnings(\"ignore\")\n",
        "# load and summarize the dataset\n",
        "from pandas import read_csv\n",
        "from collections import Counter\n",
        "from matplotlib import pyplot\n",
        "from sklearn.preprocessing import LabelEncoder\n",
        "# xgboost for classification\n",
        "from numpy import asarray\n",
        "from numpy import mean\n",
        "from numpy import std\n",
        "from sklearn.datasets import make_classification\n",
        "from xgboost import XGBClassifier\n",
        "from sklearn.model_selection import cross_val_score\n",
        "from sklearn.model_selection import RepeatedStratifiedKFold\n",
        "from matplotlib import pyplot\n",
        "# Weijia comment it due to error message on this line\n",
        "# data = df4.values\n",
        "data = df4.values\n",
        "\n",
        "# split into input (X) and output (y) variables\n",
        "X = df4.loc[:,df4.columns !='Q18a']\n",
        "y = df4['Q18a']\n",
        "# evaluate the model\n",
        "model = XGBClassifier()\n",
        "empty=[]\n",
        "\n",
        "cv = RepeatedStratifiedKFold(n_splits=9, n_repeats=3, random_state=1)\n",
        "n_scores = cross_val_score(model, X, y, scoring='accuracy', cv=cv, n_jobs=-1, error_score='raise')\n",
        "print('Accuracy: %.3f (%.3f) \\n' % (mean(n_scores), std(n_scores)))\n",
        "# fit the model on the whole dataset\n",
        "empty.append(mean(n_scores))\n",
        "model = XGBClassifier()\n",
        "model.fit(X, y)\n",
        "names = range(2,20)\n",
        "values = empty\n",
        "\n",
        "# get importance\n",
        "importance = model.feature_importances_\n",
        "# summarize feature importance\n",
        "for i,v in enumerate(importance):\n",
        "\tprint('Feature: %0d, Score: %.5f' % (i,v))\n",
        "# plot feature importance\n",
        "pyplot.bar([x for x in range(len(importance))], importance)\n",
        "pyplot.show()\n",
        "import matplotlib.pyplot as plt\n",
        "   \n",
        "#C = ['Q1', 'Q2', 'Q3', 'Q8', 'Q9', 'Q10', 'Q11', 'Q12', 'Q13', 'Q14', 'Q15',\n",
        "#     'Q16', 'Q17', 'Q18', 'Q19', 'Q20', 'Q21', 'Q22', 'Q23', 'Q24',\n",
        "#      'Q25', 'Q26', 'Q27', 'Q28', 'Q29']\n",
        "\n",
        "C = ['Q1', 'Q2', 'Q8', 'Q9', 'Q10', 'Q11', 'Q11a', 'Q11b', 'Q12', 'Q13',\n",
        "       'Q14', 'Q14a', 'Q15', 'Q16', 'Q16a', 'Q16b', 'Q17', 'Q18', 'Q18a',\n",
        "       'Q19', 'Q20', 'Q21', 'Q22', 'Q23', 'Q24', 'Q25', 'Q26', 'Q26a', 'Q27',\n",
        "       'Q27a', 'Q28', 'Q28a', 'Q29']\n",
        "GC = importance\n",
        "# plotting a line plot after changing it's width and height\n",
        "f = plt.figure()\n",
        "f.set_figwidth(10)\n",
        "f.set_figheight(8)\n",
        "plt.xticks(rotation=45, ha='right')\n",
        "plt.grid(True)\n",
        "plt.bar(C, GC)\n",
        "plt.ylabel('Importance')\n",
        "plt.xlabel('Feature')\n",
        "plt.show()"
      ],
      "metadata": {
        "colab": {
          "base_uri": "https://localhost:8080/",
          "height": 1000
        },
        "id": "dXO0A4Agey91",
        "outputId": "48f124d8-7dab-46db-8e8e-3706a000e75b"
      },
      "execution_count": null,
      "outputs": [
        {
          "output_type": "stream",
          "name": "stdout",
          "text": [
            "Accuracy: 0.952 (0.031) \n",
            "\n",
            "Feature: 0, Score: 0.02665\n",
            "Feature: 1, Score: 0.05551\n",
            "Feature: 2, Score: 0.02586\n",
            "Feature: 3, Score: 0.00559\n",
            "Feature: 4, Score: 0.02716\n",
            "Feature: 5, Score: 0.05879\n",
            "Feature: 6, Score: 0.04480\n",
            "Feature: 7, Score: 0.00000\n",
            "Feature: 8, Score: 0.03621\n",
            "Feature: 9, Score: 0.04321\n",
            "Feature: 10, Score: 0.00000\n",
            "Feature: 11, Score: 0.02748\n",
            "Feature: 12, Score: 0.02490\n",
            "Feature: 13, Score: 0.03934\n",
            "Feature: 14, Score: 0.00000\n",
            "Feature: 15, Score: 0.00000\n",
            "Feature: 16, Score: 0.00000\n",
            "Feature: 17, Score: 0.00000\n",
            "Feature: 18, Score: 0.10650\n",
            "Feature: 19, Score: 0.17230\n",
            "Feature: 20, Score: 0.02117\n",
            "Feature: 21, Score: 0.02582\n",
            "Feature: 22, Score: 0.03591\n",
            "Feature: 23, Score: 0.01200\n",
            "Feature: 24, Score: 0.03457\n",
            "Feature: 25, Score: 0.00000\n",
            "Feature: 26, Score: 0.00000\n",
            "Feature: 27, Score: 0.01731\n",
            "Feature: 28, Score: 0.04847\n",
            "Feature: 29, Score: 0.02884\n",
            "Feature: 30, Score: 0.03133\n",
            "Feature: 31, Score: 0.01519\n",
            "Feature: 32, Score: 0.03510\n"
          ]
        },
        {
          "output_type": "display_data",
          "data": {
            "text/plain": [
              "<Figure size 432x288 with 1 Axes>"
            ],
            "image/png": "[encoded data removed]"
          },
          "metadata": {
            "needs_background": "light"
          }
        },
        {
          "output_type": "display_data",
          "data": {
            "text/plain": [
              "<Figure size 720x576 with 1 Axes>"
            ],
            "image/png": "[encoded data removed]"
          },
          "metadata": {
            "needs_background": "light"
          }
        }
      ]
    },
    {
      "cell_type": "code",
      "source": [
        "# Install catboost library \n",
        "!pip install catboost"
      ],
      "metadata": {
        "colab": {
          "base_uri": "https://localhost:8080/"
        },
        "id": "wDsPgK7BHjdD",
        "outputId": "4b4688b9-a6a4-4973-ee44-17698be179ef"
      },
      "execution_count": null,
      "outputs": [
        {
          "output_type": "stream",
          "name": "stdout",
          "text": [
            "Collecting catboost\n",
            "  Downloading catboost-1.0.5-cp37-none-manylinux1_x86_64.whl (76.6 MB)\n",
            "\u001b[K     |████████████████████████████████| 76.6 MB 1.2 MB/s \n",
            "\u001b[?25hRequirement already satisfied: plotly in /usr/local/lib/python3.7/dist-packages (from catboost) (5.5.0)\n",
            "Requirement already satisfied: pandas>=0.24.0 in /usr/local/lib/python3.7/dist-packages (from catboost) (1.3.5)\n",
            "Requirement already satisfied: six in /usr/local/lib/python3.7/dist-packages (from catboost) (1.15.0)\n",
            "Requirement already satisfied: scipy in /usr/local/lib/python3.7/dist-packages (from catboost) (1.4.1)\n",
            "Requirement already satisfied: matplotlib in /usr/local/lib/python3.7/dist-packages (from catboost) (3.2.2)\n",
            "Requirement already satisfied: graphviz in /usr/local/lib/python3.7/dist-packages (from catboost) (0.10.1)\n",
            "Requirement already satisfied: numpy>=1.16.0 in /usr/local/lib/python3.7/dist-packages (from catboost) (1.21.5)\n",
            "Requirement already satisfied: pytz>=2017.3 in /usr/local/lib/python3.7/dist-packages (from pandas>=0.24.0->catboost) (2018.9)\n",
            "Requirement already satisfied: python-dateutil>=2.7.3 in /usr/local/lib/python3.7/dist-packages (from pandas>=0.24.0->catboost) (2.8.2)\n",
            "Requirement already satisfied: cycler>=0.10 in /usr/local/lib/python3.7/dist-packages (from matplotlib->catboost) (0.11.0)\n",
            "Requirement already satisfied: kiwisolver>=1.0.1 in /usr/local/lib/python3.7/dist-packages (from matplotlib->catboost) (1.4.0)\n",
            "Requirement already satisfied: pyparsing!=2.0.4,!=2.1.2,!=2.1.6,>=2.0.1 in /usr/local/lib/python3.7/dist-packages (from matplotlib->catboost) (3.0.7)\n",
            "Requirement already satisfied: typing-extensions in /usr/local/lib/python3.7/dist-packages (from kiwisolver>=1.0.1->matplotlib->catboost) (3.10.0.2)\n",
            "Requirement already satisfied: tenacity>=6.2.0 in /usr/local/lib/python3.7/dist-packages (from plotly->catboost) (8.0.1)\n",
            "Installing collected packages: catboost\n",
            "Successfully installed catboost-1.0.5\n"
          ]
        }
      ]
    },
    {
      "cell_type": "code",
      "source": [
        "from sklearn.preprocessing import LabelEncoder\n",
        "from sklearn.preprocessing import OneHotEncoder\n",
        "import warnings\n",
        "warnings.filterwarnings(\"ignore\")\n",
        "from pandas import read_csv\n",
        "from collections import Counter\n",
        "from matplotlib import pyplot\n",
        "from sklearn.preprocessing import LabelEncoder\n",
        "from numpy import asarray\n",
        "from numpy import mean\n",
        "from numpy import std\n",
        "from sklearn.datasets import make_classification\n",
        "from xgboost import XGBClassifier\n",
        "from sklearn.model_selection import cross_val_score\n",
        "from sklearn.model_selection import RepeatedStratifiedKFold\n",
        "from matplotlib import pyplot\n",
        "from numpy import mean\n",
        "from numpy import std\n",
        "from sklearn.datasets import make_classification\n",
        "from catboost import CatBoostClassifier\n",
        "from sklearn.model_selection import cross_val_score\n",
        "from sklearn.model_selection import RepeatedStratifiedKFold\n",
        "from matplotlib import pyplot\n",
        "X = df4.loc[:,df4.columns !='Q18a']\n",
        "y = df4['Q18a']\n",
        "# evaluate the model\n",
        "empty=[]\n",
        "for i in range(4,20):\n",
        "    model = CatBoostClassifier(verbose=0, n_estimators=i)\n",
        "    cv = RepeatedStratifiedKFold(n_splits=10, n_repeats=3, random_state=1)\n",
        "    n_scores = cross_val_score(model, X, y, scoring='accuracy', cv=cv, n_jobs=-1, error_score='raise')\n",
        "    print('Accuracy: %.3f (%.3f)' % (mean(n_scores), std(n_scores)))\n",
        "    # fit the model on the whole dataset\n",
        "    empty.append(mean(n_scores))\n",
        "    model = CatBoostClassifier(verbose=0, n_estimators=i)\n",
        "    model.fit(X, y)\n",
        "names = range(4,20)\n",
        "values = empty\n",
        "\n",
        "plt.figure(figsize=(15, 5))\n",
        "\n",
        "plt.subplot(121)\n",
        "plt.scatter(names, values)\n",
        "plt.ylabel('Accuracy')\n",
        "plt.xlabel('Number of trees')\n",
        "plt.subplot(122)\n",
        "plt.plot(names, values)\n",
        "plt.xlabel('Number of trees')\n",
        "plt.show()"
      ],
      "metadata": {
        "id": "A-SjPU2dupmn",
        "colab": {
          "base_uri": "https://localhost:8080/",
          "height": 612
        },
        "outputId": "c5e661ca-705d-43a2-8577-2b04cb87a4b7"
      },
      "execution_count": null,
      "outputs": [
        {
          "output_type": "stream",
          "name": "stdout",
          "text": [
            "Accuracy: 0.910 (0.038)\n",
            "Accuracy: 0.912 (0.041)\n",
            "Accuracy: 0.924 (0.047)\n",
            "Accuracy: 0.921 (0.043)\n",
            "Accuracy: 0.913 (0.043)\n",
            "Accuracy: 0.919 (0.036)\n",
            "Accuracy: 0.916 (0.039)\n",
            "Accuracy: 0.920 (0.043)\n",
            "Accuracy: 0.925 (0.043)\n",
            "Accuracy: 0.919 (0.036)\n",
            "Accuracy: 0.926 (0.039)\n",
            "Accuracy: 0.924 (0.037)\n",
            "Accuracy: 0.925 (0.036)\n",
            "Accuracy: 0.926 (0.042)\n",
            "Accuracy: 0.926 (0.039)\n",
            "Accuracy: 0.925 (0.043)\n"
          ]
        },
        {
          "output_type": "display_data",
          "data": {
            "text/plain": [
              "<Figure size 1080x360 with 2 Axes>"
            ],
            "image/png": "[encoded data removed]"
          },
          "metadata": {
            "needs_background": "light"
          }
        }
      ]
    },
    {
      "cell_type": "code",
      "source": [
        "# get importance\n",
        "importance = model.feature_importances_\n",
        "# summarize feature importance\n",
        "for i,v in enumerate(importance):\n",
        "\tprint('Feature: %0d, Score: %.5f' % (i,v))\n",
        "# plot feature importance\n",
        "pyplot.bar([x for x in range(len(importance))], importance)\n",
        "pyplot.show()\n",
        "import matplotlib.pyplot as plt\n",
        "   \n",
        "#C = ['Q1', 'Q2', 'Q3', 'Q8', 'Q9', 'Q10', 'Q11', 'Q12', 'Q13', 'Q14', 'Q15',\n",
        "#       'Q16', 'Q17', 'Q18', 'Q19', 'Q20', 'Q21', 'Q22', 'Q23', 'Q24',\n",
        "#       'Q25', 'Q26', 'Q27', 'Q28', 'Q29']\n",
        "\n",
        "C = ['Q1', 'Q2', 'Q8', 'Q9', 'Q10', 'Q11', 'Q11a', 'Q11b', 'Q12', 'Q13',\n",
        "       'Q14', 'Q14a', 'Q15', 'Q16', 'Q16a', 'Q16b', 'Q17', 'Q18', 'Q18a',\n",
        "       'Q19', 'Q20', 'Q21', 'Q22', 'Q23', 'Q24', 'Q25', 'Q26', 'Q26a', 'Q27',\n",
        "       'Q27a', 'Q28', 'Q28a', 'Q29']\n",
        "\n",
        "GC = importance\n",
        "# plotting a line plot after changing it's width and height\n",
        "f = plt.figure()\n",
        "f.set_figwidth(10)\n",
        "f.set_figheight(8)\n",
        "plt.xticks(rotation=45, ha='right')\n",
        "plt.grid(True)\n",
        "\n",
        "plt.bar(C, GC)\n",
        "plt.ylabel('Importance')\n",
        "plt.xlabel('Feature')\n",
        "plt.show()"
      ],
      "metadata": {
        "colab": {
          "base_uri": "https://localhost:8080/",
          "height": 1000
        },
        "id": "BH-hMJuqKw94",
        "outputId": "00ce9d6b-34c0-4bd8-93c2-c5a53a9e3530"
      },
      "execution_count": null,
      "outputs": [
        {
          "output_type": "stream",
          "name": "stdout",
          "text": [
            "Feature: 0, Score: 2.73070\n",
            "Feature: 1, Score: 1.78569\n",
            "Feature: 2, Score: 0.00000\n",
            "Feature: 3, Score: 0.00000\n",
            "Feature: 4, Score: 0.00000\n",
            "Feature: 5, Score: 0.23813\n",
            "Feature: 6, Score: 2.86674\n",
            "Feature: 7, Score: 0.73754\n",
            "Feature: 8, Score: 1.54298\n",
            "Feature: 9, Score: 0.46924\n",
            "Feature: 10, Score: 0.05767\n",
            "Feature: 11, Score: 2.95836\n",
            "Feature: 12, Score: 1.78499\n",
            "Feature: 13, Score: 0.00000\n",
            "Feature: 14, Score: 1.28474\n",
            "Feature: 15, Score: 1.43455\n",
            "Feature: 16, Score: 0.64500\n",
            "Feature: 17, Score: 0.00000\n",
            "Feature: 18, Score: 21.89732\n",
            "Feature: 19, Score: 46.29235\n",
            "Feature: 20, Score: 1.19222\n",
            "Feature: 21, Score: 0.09992\n",
            "Feature: 22, Score: 0.07291\n",
            "Feature: 23, Score: 1.57600\n",
            "Feature: 24, Score: 1.32756\n",
            "Feature: 25, Score: 0.17420\n",
            "Feature: 26, Score: 0.00000\n",
            "Feature: 27, Score: 0.00000\n",
            "Feature: 28, Score: 4.21833\n",
            "Feature: 29, Score: 0.53208\n",
            "Feature: 30, Score: 0.00000\n",
            "Feature: 31, Score: 3.76867\n",
            "Feature: 32, Score: 0.31210\n"
          ]
        },
        {
          "output_type": "display_data",
          "data": {
            "text/plain": [
              "<Figure size 432x288 with 1 Axes>"
            ],
            "image/png": "[encoded data removed]"
          },
          "metadata": {
            "needs_background": "light"
          }
        },
        {
          "output_type": "display_data",
          "data": {
            "text/plain": [
              "<Figure size 720x576 with 1 Axes>"
            ],
            "image/png": "[encoded data removed]"
          },
          "metadata": {
            "needs_background": "light"
          }
        }
      ]
    },
    {
      "cell_type": "code",
      "source": [
        "# Smote"
      ],
      "metadata": {
        "id": "bkE_qnTGMjQl"
      },
      "execution_count": null,
      "outputs": []
    },
    {
      "cell_type": "code",
      "source": [
        "#SMOTE\n",
        "import pandas as pd\n",
        "import sklearn as sk\n",
        "from sklearn.linear_model import LogisticRegression\n",
        "from sklearn import svm\n",
        "from sklearn.ensemble import RandomForestClassifier\n",
        "from sklearn.neural_network import MLPClassifier\n",
        "from sklearn.model_selection import train_test_split\n",
        "from pandas import read_csv\n",
        "from imblearn.over_sampling import SMOTE\n",
        "from collections import Counter\n",
        "from matplotlib import pyplot\n",
        "from sklearn.preprocessing import LabelEncoder\n",
        "# label encode the target variable\n",
        "y = LabelEncoder().fit_transform(y)\n",
        "# summarize distribution\n",
        "counter = Counter(y)\n",
        "for k,v in counter.items():\n",
        "\tper = v / len(y) * 100\n",
        "\tprint('Class=%d, n=%d (%.3f%%)' % (k, v, per))\n",
        "oversample = SMOTE()\n",
        "X, y = oversample.fit_resample(X, y)\n",
        "X_tr, X_test, y_tr, y_test = train_test_split(X, y, test_size=0.33, random_state=1)\n",
        "RF = RandomForestClassifier(n_estimators=100, max_depth=8, random_state=0).fit(X_tr, y_tr)\n",
        "RF.predict(X_test)\n",
        "round(RF.score(X_test, y_test), 4)"
      ],
      "metadata": {
        "colab": {
          "base_uri": "https://localhost:8080/"
        },
        "id": "NEAC_e8HM_j3",
        "outputId": "bbcf0db3-f238-41a6-c5cc-b331d5f4d5c2"
      },
      "execution_count": null,
      "outputs": [
        {
          "output_type": "stream",
          "name": "stdout",
          "text": [
            "Class=1, n=225 (85.878%)\n",
            "Class=0, n=37 (14.122%)\n"
          ]
        },
        {
          "output_type": "execute_result",
          "data": {
            "text/plain": [
              "0.9396"
            ]
          },
          "metadata": {},
          "execution_count": 131
        }
      ]
    },
    {
      "cell_type": "code",
      "source": [
        "importance = RF.feature_importances_\n",
        "for i,v in enumerate(importance):\n",
        "\tprint('Feature: %0d, Score: %.5f' % (i,v))\n",
        "# plot feature importance\n",
        "pyplot.bar([x for x in range(len(importance))], importance)\n",
        "pyplot.show()\n",
        "import matplotlib.pyplot as plt   \n",
        "#C = ['Q1', 'Q2', 'Q3', 'Q8', 'Q9', 'Q10', 'Q11', 'Q12', 'Q13', 'Q14', 'Q15',\n",
        "#       'Q16', 'Q17', 'Q18', 'Q19', 'Q20', 'Q21', 'Q22', 'Q23', 'Q24',\n",
        "#       'Q25', 'Q26', 'Q27', 'Q28', 'Q29']\n",
        "C = ['Q1', 'Q2', 'Q8', 'Q9', 'Q10', 'Q11', 'Q11a', 'Q11b', 'Q12', 'Q13',\n",
        "       'Q14', 'Q14a', 'Q15', 'Q16', 'Q16a', 'Q16b', 'Q17', 'Q18', 'Q18a',\n",
        "       'Q19', 'Q20', 'Q21', 'Q22', 'Q23', 'Q24', 'Q25', 'Q26', 'Q26a', 'Q27',\n",
        "       'Q27a', 'Q28', 'Q28a', 'Q29']\n",
        "GC = importance\n",
        "f = plt.figure()\n",
        "f.set_figwidth(10)\n",
        "f.set_figheight(8)\n",
        "plt.xticks(rotation=45, ha='right')\n",
        "plt.grid(True)\n",
        "plt.bar(C, GC)\n",
        "plt.ylabel('Importance')\n",
        "plt.xlabel('Feature')\n",
        "plt.show()"
      ],
      "metadata": {
        "colab": {
          "base_uri": "https://localhost:8080/",
          "height": 1000
        },
        "id": "4J5BB54ONBI0",
        "outputId": "5a6d75db-4e80-4081-fa0b-611c047a2e40"
      },
      "execution_count": null,
      "outputs": [
        {
          "output_type": "stream",
          "name": "stdout",
          "text": [
            "Feature: 0, Score: 0.06014\n",
            "Feature: 1, Score: 0.00590\n",
            "Feature: 2, Score: 0.01517\n",
            "Feature: 3, Score: 0.02908\n",
            "Feature: 4, Score: 0.01836\n",
            "Feature: 5, Score: 0.02557\n",
            "Feature: 6, Score: 0.02594\n",
            "Feature: 7, Score: 0.02400\n",
            "Feature: 8, Score: 0.03474\n",
            "Feature: 9, Score: 0.03818\n",
            "Feature: 10, Score: 0.01333\n",
            "Feature: 11, Score: 0.01581\n",
            "Feature: 12, Score: 0.06338\n",
            "Feature: 13, Score: 0.01456\n",
            "Feature: 14, Score: 0.04815\n",
            "Feature: 15, Score: 0.01574\n",
            "Feature: 16, Score: 0.01378\n",
            "Feature: 17, Score: 0.00000\n",
            "Feature: 18, Score: 0.06672\n",
            "Feature: 19, Score: 0.25255\n",
            "Feature: 20, Score: 0.00777\n",
            "Feature: 21, Score: 0.00808\n",
            "Feature: 22, Score: 0.01990\n",
            "Feature: 23, Score: 0.02895\n",
            "Feature: 24, Score: 0.01784\n",
            "Feature: 25, Score: 0.00525\n",
            "Feature: 26, Score: 0.02515\n",
            "Feature: 27, Score: 0.01482\n",
            "Feature: 28, Score: 0.01588\n",
            "Feature: 29, Score: 0.01427\n",
            "Feature: 30, Score: 0.03474\n",
            "Feature: 31, Score: 0.00861\n",
            "Feature: 32, Score: 0.01764\n"
          ]
        },
        {
          "output_type": "display_data",
          "data": {
            "text/plain": [
              "<Figure size 432x288 with 1 Axes>"
            ],
            "image/png": "[encoded data removed]"
          },
          "metadata": {
            "needs_background": "light"
          }
        },
        {
          "output_type": "display_data",
          "data": {
            "text/plain": [
              "<Figure size 720x576 with 1 Axes>"
            ],
            "image/png": "[encoded data removed]"
          },
          "metadata": {
            "needs_background": "light"
          }
        }
      ]
    },
    {
      "cell_type": "code",
      "source": [
        "#LightGBM\n",
        "from numpy import mean\n",
        "from numpy import std\n",
        "from sklearn.datasets import make_classification\n",
        "from sklearn.model_selection import cross_val_score\n",
        "from sklearn.model_selection import RepeatedStratifiedKFold\n",
        "from lightgbm import LGBMClassifier\n",
        "model = LGBMClassifier()\n",
        "cv = RepeatedStratifiedKFold(n_splits=10, n_repeats=3, random_state=1)\n",
        "n_scores = cross_val_score(model, X, y, scoring='accuracy', cv=cv, n_jobs=-1)\n",
        "print('Accuracy: %.3f (%.3f)' % (mean(n_scores), std(n_scores)))\n",
        "Empty=[]\n",
        "for i in range(2,15):\n",
        "    model = LGBMClassifier(n_estimators=20, max_depth=i, num_leaves=2**i)\n",
        "    Light = model.fit(X_tr, y_tr)\n",
        "    Light.predict(X_test)\n",
        "    round(Light.score(X_test, y_test), 4)\n",
        "    Empty.append(round(Light.score(X_test, y_test), 4))\n",
        "Empty    \n",
        "names = range(2,15)\n",
        "values = Empty\n",
        "plt.figure(figsize=(15, 5))\n",
        "plt.subplot(121)\n",
        "plt.scatter(names, values)\n",
        "plt.ylabel('Accuracy')\n",
        "plt.xlabel('The depth of trees')\n",
        "plt.subplot(122)\n",
        "plt.plot(names, values)\n",
        "plt.xlabel('The depth of trees')\n",
        "plt.show()"
      ],
      "metadata": {
        "colab": {
          "base_uri": "https://localhost:8080/",
          "height": 351
        },
        "id": "7uO35hAxN1eR",
        "outputId": "18d9bb17-6cbc-42a2-8be8-445ac8261b83"
      },
      "execution_count": null,
      "outputs": [
        {
          "output_type": "stream",
          "name": "stdout",
          "text": [
            "Accuracy: 0.943 (0.031)\n"
          ]
        },
        {
          "output_type": "display_data",
          "data": {
            "text/plain": [
              "<Figure size 1080x360 with 2 Axes>"
            ],
            "image/png": "[encoded data removed]"
          },
          "metadata": {
            "needs_background": "light"
          }
        }
      ]
    },
    {
      "cell_type": "code",
      "source": [
        "importance = Light.feature_importances_\n",
        "for i,v in enumerate(importance):\n",
        "\tprint('Feature: %0d, Score: %.5f' % (i,v))\n",
        "pyplot.bar([x for x in range(len(importance))], importance)\n",
        "pyplot.show()\n",
        "import matplotlib.pyplot as plt\n",
        "   \n",
        "#C= ['Q1', 'Q2', 'Q3', 'Q8', 'Q9', 'Q10', 'Q11', 'Q12', 'Q13', 'Q14', 'Q15',\n",
        "#       'Q16', 'Q17', 'Q18', 'Q19', 'Q20', 'Q21', 'Q22', 'Q23', 'Q24',\n",
        "#       'Q25', 'Q26', 'Q27', 'Q28', 'Q29']\n",
        "\n",
        "C = ['Q1', 'Q2', 'Q8', 'Q9', 'Q10', 'Q11', 'Q11a', 'Q11b', 'Q12', 'Q13',\n",
        "       'Q14', 'Q14a', 'Q15', 'Q16', 'Q16a', 'Q16b', 'Q17', 'Q18', 'Q18a',\n",
        "       'Q19', 'Q20', 'Q21', 'Q22', 'Q23', 'Q24', 'Q25', 'Q26', 'Q26a', 'Q27',\n",
        "       'Q27a', 'Q28', 'Q28a', 'Q29']\n",
        "\n",
        "GC = importance\n",
        "f = plt.figure()\n",
        "f.set_figwidth(10)\n",
        "f.set_figheight(8)\n",
        "plt.xticks(rotation=45, ha='right')\n",
        "plt.grid(True)\n",
        "plt.bar(C, GC)\n",
        "plt.ylabel('Importance')\n",
        "plt.xlabel('Feature')\n",
        "plt.show()"
      ],
      "metadata": {
        "colab": {
          "base_uri": "https://localhost:8080/",
          "height": 1000
        },
        "id": "3oE-u4wAOQ2x",
        "outputId": "6e588b27-0b42-4d06-f82a-7f86566cfc23"
      },
      "execution_count": null,
      "outputs": [
        {
          "output_type": "stream",
          "name": "stdout",
          "text": [
            "Feature: 0, Score: 14.00000\n",
            "Feature: 1, Score: 0.00000\n",
            "Feature: 2, Score: 13.00000\n",
            "Feature: 3, Score: 0.00000\n",
            "Feature: 4, Score: 3.00000\n",
            "Feature: 5, Score: 3.00000\n",
            "Feature: 6, Score: 5.00000\n",
            "Feature: 7, Score: 0.00000\n",
            "Feature: 8, Score: 8.00000\n",
            "Feature: 9, Score: 3.00000\n",
            "Feature: 10, Score: 6.00000\n",
            "Feature: 11, Score: 2.00000\n",
            "Feature: 12, Score: 17.00000\n",
            "Feature: 13, Score: 3.00000\n",
            "Feature: 14, Score: 8.00000\n",
            "Feature: 15, Score: 1.00000\n",
            "Feature: 16, Score: 0.00000\n",
            "Feature: 17, Score: 0.00000\n",
            "Feature: 18, Score: 36.00000\n",
            "Feature: 19, Score: 49.00000\n",
            "Feature: 20, Score: 0.00000\n",
            "Feature: 21, Score: 0.00000\n",
            "Feature: 22, Score: 2.00000\n",
            "Feature: 23, Score: 1.00000\n",
            "Feature: 24, Score: 1.00000\n",
            "Feature: 25, Score: 0.00000\n",
            "Feature: 26, Score: 2.00000\n",
            "Feature: 27, Score: 11.00000\n",
            "Feature: 28, Score: 8.00000\n",
            "Feature: 29, Score: 3.00000\n",
            "Feature: 30, Score: 3.00000\n",
            "Feature: 31, Score: 0.00000\n",
            "Feature: 32, Score: 0.00000\n"
          ]
        },
        {
          "output_type": "display_data",
          "data": {
            "text/plain": [
              "<Figure size 432x288 with 1 Axes>"
            ],
            "image/png": "[encoded data removed]"
          },
          "metadata": {
            "needs_background": "light"
          }
        },
        {
          "output_type": "display_data",
          "data": {
            "text/plain": [
              "<Figure size 720x576 with 1 Axes>"
            ],
            "image/png": "[encoded data removed]"
          },
          "metadata": {
            "needs_background": "light"
          }
        }
      ]
    }
  ]
}