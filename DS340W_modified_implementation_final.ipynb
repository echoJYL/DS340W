{
  "nbformat": 4,
  "nbformat_minor": 0,
  "metadata": {
    "colab": {
      "name": "DS340W_modified_implementation final.ipynb",
      "provenance": [],
      "collapsed_sections": [],
      "machine_shape": "hm"
    },
    "kernelspec": {
      "name": "python3",
      "display_name": "Python 3"
    },
    "language_info": {
      "name": "python"
    },
    "accelerator": "GPU"
  },
  "cells": [
    {
      "cell_type": "markdown",
      "source": [
        "# Analysis of the Effects of COVID-19 on Mental Health Using a Machine Learning Approach\n",
        "\n",
        "* Code is adapted from parent paper's code: https://github.com/MostafaRezapour/Hidden-Effects-of-COVID-19-on-Healthcare-Workers-A-Machine-Learning-Analysis/blob/main/Hidden-Effects-of-COVID-19-on-Healthcare-Workers-A-Machine-Learning-Analysis.ipynb"
      ],
      "metadata": {
        "id": "mHF9Mzb9Qb6C"
      }
    },
    {
      "cell_type": "code",
      "execution_count": null,
      "metadata": {
        "id": "uAjPBra3kvkU"
      },
      "outputs": [],
      "source": [
        "# Importing libraries\n",
        "\n",
        "import pandas as pd\n",
        "import numpy as np\n",
        "import matplotlib.pyplot as plt\n",
        "import seaborn as sns\n",
        "from sklearn.preprocessing import LabelEncoder\n",
        "from sklearn.preprocessing import OneHotEncoder\n",
        "import warnings\n",
        "warnings.filterwarnings(\"ignore\")\n",
        "\n"
      ]
    },
    {
      "cell_type": "code",
      "source": [
        "# Read csv file into a pandas dataframe （dataset without any missing values)\n",
        "df = pd.read_csv(\"dataForMapping.csv\")"
      ],
      "metadata": {
        "id": "y1xKQCualDs5"
      },
      "execution_count": null,
      "outputs": []
    },
    {
      "cell_type": "code",
      "source": [
        "# dimensions of the dataset\n",
        "df.shape"
      ],
      "metadata": {
        "id": "WBgMejRdkvZ4",
        "outputId": "8c8e0354-f892-47ee-eb0f-b7293e166eac",
        "colab": {
          "base_uri": "https://localhost:8080/"
        }
      },
      "execution_count": null,
      "outputs": [
        {
          "output_type": "execute_result",
          "data": {
            "text/plain": [
              "(262, 35)"
            ]
          },
          "metadata": {},
          "execution_count": 20
        }
      ]
    },
    {
      "cell_type": "code",
      "source": [
        "# first few rows\n",
        "df.head(5)"
      ],
      "metadata": {
        "colab": {
          "base_uri": "https://localhost:8080/",
          "height": 447
        },
        "id": "OeYxYNZalLGD",
        "outputId": "7b2fddcf-ffca-4816-84ab-2ec94dfc29cb"
      },
      "execution_count": null,
      "outputs": [
        {
          "output_type": "execute_result",
          "data": {
            "text/plain": [
              "   Q1      Q2        Q3   Q8 Q9  Q10             Q11  Q11a  \\\n",
              "0  44  Female  Michigan  Yes  1  Yes  Not applicable     0   \n",
              "1  39  Female  Michigan  Yes  2  Yes             Yes     2   \n",
              "2  28  Female  Michigan  Yes  2  Yes             Yes     1   \n",
              "3  29  Female  Michigan  Yes  2   No  Not applicable     0   \n",
              "4  32  Female  Michigan  Yes  2   No             Yes     2   \n",
              "\n",
              "                 Q11b Q12  ...            Q24  Q25  Q26  \\\n",
              "0      not applicable   8  ...      0-.5 hour  Yes  Yes   \n",
              "1  Under 12 years old   7  ...  0.51 – 1 hour   No   No   \n",
              "2  Under 12 years old   7  ...      1-2 hours  Yes  Yes   \n",
              "3      not applicable   7  ...      1-2 hours  Yes  Yes   \n",
              "4  Under 12 years old   7  ...      1-2 hours  Yes   No   \n",
              "\n",
              "                          Q26a  Q27                            Q27a  Q28  \\\n",
              "0  I am exercising/moving less  Yes  I am eating more healthy foods  Yes   \n",
              "1  I am exercising/moving less  Yes  I am eating more healthy foods  Yes   \n",
              "2  I am exercising/moving more   No  I am eating less healthy foods  Yes   \n",
              "3  I am exercising/moving more  Yes  I am eating less healthy foods  Yes   \n",
              "4  I am exercising/moving less  Yes  I am eating less healthy foods  Yes   \n",
              "\n",
              "                             Q28a  Q29              Q29a  \n",
              "0  I am eating more food each day  Yes    Slightly worse  \n",
              "1  I am eating less food each day  Yes  Moderately worse  \n",
              "2  I am eating more food each day  Yes  Moderately worse  \n",
              "3  I am eating more food each day   No    Slightly worse  \n",
              "4  I am eating more food each day  Yes  Moderately worse  \n",
              "\n",
              "[5 rows x 35 columns]"
            ],
            "text/html": [
              "\n",
              "  <div id=\"df-ec8d8b31-8b50-45d3-80a5-70483ab42fde\">\n",
              "    <div class=\"colab-df-container\">\n",
              "      <div>\n",
              "<style scoped>\n",
              "    .dataframe tbody tr th:only-of-type {\n",
              "        vertical-align: middle;\n",
              "    }\n",
              "\n",
              "    .dataframe tbody tr th {\n",
              "        vertical-align: top;\n",
              "    }\n",
              "\n",
              "    .dataframe thead th {\n",
              "        text-align: right;\n",
              "    }\n",
              "</style>\n",
              "<table border=\"1\" class=\"dataframe\">\n",
              "  <thead>\n",
              "    <tr style=\"text-align: right;\">\n",
              "      <th></th>\n",
              "      <th>Q1</th>\n",
              "      <th>Q2</th>\n",
              "      <th>Q3</th>\n",
              "      <th>Q8</th>\n",
              "      <th>Q9</th>\n",
              "      <th>Q10</th>\n",
              "      <th>Q11</th>\n",
              "      <th>Q11a</th>\n",
              "      <th>Q11b</th>\n",
              "      <th>Q12</th>\n",
              "      <th>...</th>\n",
              "      <th>Q24</th>\n",
              "      <th>Q25</th>\n",
              "      <th>Q26</th>\n",
              "      <th>Q26a</th>\n",
              "      <th>Q27</th>\n",
              "      <th>Q27a</th>\n",
              "      <th>Q28</th>\n",
              "      <th>Q28a</th>\n",
              "      <th>Q29</th>\n",
              "      <th>Q29a</th>\n",
              "    </tr>\n",
              "  </thead>\n",
              "  <tbody>\n",
              "    <tr>\n",
              "      <th>0</th>\n",
              "      <td>44</td>\n",
              "      <td>Female</td>\n",
              "      <td>Michigan</td>\n",
              "      <td>Yes</td>\n",
              "      <td>1</td>\n",
              "      <td>Yes</td>\n",
              "      <td>Not applicable</td>\n",
              "      <td>0</td>\n",
              "      <td>not applicable</td>\n",
              "      <td>8</td>\n",
              "      <td>...</td>\n",
              "      <td>0-.5 hour</td>\n",
              "      <td>Yes</td>\n",
              "      <td>Yes</td>\n",
              "      <td>I am exercising/moving less</td>\n",
              "      <td>Yes</td>\n",
              "      <td>I am eating more healthy foods</td>\n",
              "      <td>Yes</td>\n",
              "      <td>I am eating more food each day</td>\n",
              "      <td>Yes</td>\n",
              "      <td>Slightly worse</td>\n",
              "    </tr>\n",
              "    <tr>\n",
              "      <th>1</th>\n",
              "      <td>39</td>\n",
              "      <td>Female</td>\n",
              "      <td>Michigan</td>\n",
              "      <td>Yes</td>\n",
              "      <td>2</td>\n",
              "      <td>Yes</td>\n",
              "      <td>Yes</td>\n",
              "      <td>2</td>\n",
              "      <td>Under 12 years old</td>\n",
              "      <td>7</td>\n",
              "      <td>...</td>\n",
              "      <td>0.51 – 1 hour</td>\n",
              "      <td>No</td>\n",
              "      <td>No</td>\n",
              "      <td>I am exercising/moving less</td>\n",
              "      <td>Yes</td>\n",
              "      <td>I am eating more healthy foods</td>\n",
              "      <td>Yes</td>\n",
              "      <td>I am eating less food each day</td>\n",
              "      <td>Yes</td>\n",
              "      <td>Moderately worse</td>\n",
              "    </tr>\n",
              "    <tr>\n",
              "      <th>2</th>\n",
              "      <td>28</td>\n",
              "      <td>Female</td>\n",
              "      <td>Michigan</td>\n",
              "      <td>Yes</td>\n",
              "      <td>2</td>\n",
              "      <td>Yes</td>\n",
              "      <td>Yes</td>\n",
              "      <td>1</td>\n",
              "      <td>Under 12 years old</td>\n",
              "      <td>7</td>\n",
              "      <td>...</td>\n",
              "      <td>1-2 hours</td>\n",
              "      <td>Yes</td>\n",
              "      <td>Yes</td>\n",
              "      <td>I am exercising/moving more</td>\n",
              "      <td>No</td>\n",
              "      <td>I am eating less healthy foods</td>\n",
              "      <td>Yes</td>\n",
              "      <td>I am eating more food each day</td>\n",
              "      <td>Yes</td>\n",
              "      <td>Moderately worse</td>\n",
              "    </tr>\n",
              "    <tr>\n",
              "      <th>3</th>\n",
              "      <td>29</td>\n",
              "      <td>Female</td>\n",
              "      <td>Michigan</td>\n",
              "      <td>Yes</td>\n",
              "      <td>2</td>\n",
              "      <td>No</td>\n",
              "      <td>Not applicable</td>\n",
              "      <td>0</td>\n",
              "      <td>not applicable</td>\n",
              "      <td>7</td>\n",
              "      <td>...</td>\n",
              "      <td>1-2 hours</td>\n",
              "      <td>Yes</td>\n",
              "      <td>Yes</td>\n",
              "      <td>I am exercising/moving more</td>\n",
              "      <td>Yes</td>\n",
              "      <td>I am eating less healthy foods</td>\n",
              "      <td>Yes</td>\n",
              "      <td>I am eating more food each day</td>\n",
              "      <td>No</td>\n",
              "      <td>Slightly worse</td>\n",
              "    </tr>\n",
              "    <tr>\n",
              "      <th>4</th>\n",
              "      <td>32</td>\n",
              "      <td>Female</td>\n",
              "      <td>Michigan</td>\n",
              "      <td>Yes</td>\n",
              "      <td>2</td>\n",
              "      <td>No</td>\n",
              "      <td>Yes</td>\n",
              "      <td>2</td>\n",
              "      <td>Under 12 years old</td>\n",
              "      <td>7</td>\n",
              "      <td>...</td>\n",
              "      <td>1-2 hours</td>\n",
              "      <td>Yes</td>\n",
              "      <td>No</td>\n",
              "      <td>I am exercising/moving less</td>\n",
              "      <td>Yes</td>\n",
              "      <td>I am eating less healthy foods</td>\n",
              "      <td>Yes</td>\n",
              "      <td>I am eating more food each day</td>\n",
              "      <td>Yes</td>\n",
              "      <td>Moderately worse</td>\n",
              "    </tr>\n",
              "  </tbody>\n",
              "</table>\n",
              "<p>5 rows × 35 columns</p>\n",
              "</div>\n",
              "      <button class=\"colab-df-convert\" onclick=\"convertToInteractive('df-ec8d8b31-8b50-45d3-80a5-70483ab42fde')\"\n",
              "              title=\"Convert this dataframe to an interactive table.\"\n",
              "              style=\"display:none;\">\n",
              "        \n",
              "  <svg xmlns=\"http://www.w3.org/2000/svg\" height=\"24px\"viewBox=\"0 0 24 24\"\n",
              "       width=\"24px\">\n",
              "    <path d=\"M0 0h24v24H0V0z\" fill=\"none\"/>\n",
              "    <path d=\"M18.56 5.44l.94 2.06.94-2.06 2.06-.94-2.06-.94-.94-2.06-.94 2.06-2.06.94zm-11 1L8.5 8.5l.94-2.06 2.06-.94-2.06-.94L8.5 2.5l-.94 2.06-2.06.94zm10 10l.94 2.06.94-2.06 2.06-.94-2.06-.94-.94-2.06-.94 2.06-2.06.94z\"/><path d=\"M17.41 7.96l-1.37-1.37c-.4-.4-.92-.59-1.43-.59-.52 0-1.04.2-1.43.59L10.3 9.45l-7.72 7.72c-.78.78-.78 2.05 0 2.83L4 21.41c.39.39.9.59 1.41.59.51 0 1.02-.2 1.41-.59l7.78-7.78 2.81-2.81c.8-.78.8-2.07 0-2.86zM5.41 20L4 18.59l7.72-7.72 1.47 1.35L5.41 20z\"/>\n",
              "  </svg>\n",
              "      </button>\n",
              "      \n",
              "  <style>\n",
              "    .colab-df-container {\n",
              "      display:flex;\n",
              "      flex-wrap:wrap;\n",
              "      gap: 12px;\n",
              "    }\n",
              "\n",
              "    .colab-df-convert {\n",
              "      background-color: #E8F0FE;\n",
              "      border: none;\n",
              "      border-radius: 50%;\n",
              "      cursor: pointer;\n",
              "      display: none;\n",
              "      fill: #1967D2;\n",
              "      height: 32px;\n",
              "      padding: 0 0 0 0;\n",
              "      width: 32px;\n",
              "    }\n",
              "\n",
              "    .colab-df-convert:hover {\n",
              "      background-color: #E2EBFA;\n",
              "      box-shadow: 0px 1px 2px rgba(60, 64, 67, 0.3), 0px 1px 3px 1px rgba(60, 64, 67, 0.15);\n",
              "      fill: #174EA6;\n",
              "    }\n",
              "\n",
              "    [theme=dark] .colab-df-convert {\n",
              "      background-color: #3B4455;\n",
              "      fill: #D2E3FC;\n",
              "    }\n",
              "\n",
              "    [theme=dark] .colab-df-convert:hover {\n",
              "      background-color: #434B5C;\n",
              "      box-shadow: 0px 1px 3px 1px rgba(0, 0, 0, 0.15);\n",
              "      filter: drop-shadow(0px 1px 2px rgba(0, 0, 0, 0.3));\n",
              "      fill: #FFFFFF;\n",
              "    }\n",
              "  </style>\n",
              "\n",
              "      <script>\n",
              "        const buttonEl =\n",
              "          document.querySelector('#df-ec8d8b31-8b50-45d3-80a5-70483ab42fde button.colab-df-convert');\n",
              "        buttonEl.style.display =\n",
              "          google.colab.kernel.accessAllowed ? 'block' : 'none';\n",
              "\n",
              "        async function convertToInteractive(key) {\n",
              "          const element = document.querySelector('#df-ec8d8b31-8b50-45d3-80a5-70483ab42fde');\n",
              "          const dataTable =\n",
              "            await google.colab.kernel.invokeFunction('convertToInteractive',\n",
              "                                                     [key], {});\n",
              "          if (!dataTable) return;\n",
              "\n",
              "          const docLinkHtml = 'Like what you see? Visit the ' +\n",
              "            '<a target=\"_blank\" href=https://colab.research.google.com/notebooks/data_table.ipynb>data table notebook</a>'\n",
              "            + ' to learn more about interactive tables.';\n",
              "          element.innerHTML = '';\n",
              "          dataTable['output_type'] = 'display_data';\n",
              "          await google.colab.output.renderOutput(dataTable, element);\n",
              "          const docLink = document.createElement('div');\n",
              "          docLink.innerHTML = docLinkHtml;\n",
              "          element.appendChild(docLink);\n",
              "        }\n",
              "      </script>\n",
              "    </div>\n",
              "  </div>\n",
              "  "
            ]
          },
          "metadata": {},
          "execution_count": 21
        }
      ]
    },
    {
      "cell_type": "code",
      "source": [
        "# columns in the dataset \n",
        "df.columns"
      ],
      "metadata": {
        "colab": {
          "base_uri": "https://localhost:8080/"
        },
        "id": "Ul7QLnUZjkpV",
        "outputId": "d61fabf4-75eb-41b0-d0b4-c80d5ce66cb8"
      },
      "execution_count": null,
      "outputs": [
        {
          "output_type": "execute_result",
          "data": {
            "text/plain": [
              "Index(['Q1', 'Q2', 'Q3', 'Q8', 'Q9', 'Q10', 'Q11', 'Q11a', 'Q11b', 'Q12',\n",
              "       'Q13', 'Q14', 'Q14a', 'Q15', 'Q16', 'Q16a', 'Q16b', 'Q17', 'Q18',\n",
              "       'Q18a', 'Q19', 'Q20', 'Q21', 'Q22', 'Q23', 'Q24', 'Q25', 'Q26', 'Q26a',\n",
              "       'Q27', 'Q27a', 'Q28', 'Q28a', 'Q29', 'Q29a'],\n",
              "      dtype='object')"
            ]
          },
          "metadata": {},
          "execution_count": 22
        }
      ]
    },
    {
      "cell_type": "markdown",
      "source": [
        "## Use mappings to convert categorical data to numeric data representation"
      ],
      "metadata": {
        "id": "br6ho1xNwprq"
      }
    },
    {
      "cell_type": "code",
      "source": [
        "df['Q1'].unique()"
      ],
      "metadata": {
        "colab": {
          "base_uri": "https://localhost:8080/"
        },
        "id": "jextqn6GlpxC",
        "outputId": "cf20da47-e73e-4eeb-afc9-0d9b972863e0"
      },
      "execution_count": null,
      "outputs": [
        {
          "output_type": "execute_result",
          "data": {
            "text/plain": [
              "array([44, 39, 28, 29, 32, 43, 59, 25, 42, 22, 41, 58, 35, 30, 38, 21, 33,\n",
              "       67, 24, 45, 27, 49, 48, 57, 53, 47, 34, 36, 52, 55, 66, 68, 26, 37,\n",
              "       69, 31, 40, 75, 62, 23, 20, 50, 60, 61, 46, 51, 81, 71, 63, 72, 54,\n",
              "       64, 56, 65])"
            ]
          },
          "metadata": {},
          "execution_count": 23
        }
      ]
    },
    {
      "cell_type": "code",
      "source": [
        "df['Q2'].unique()"
      ],
      "metadata": {
        "colab": {
          "base_uri": "https://localhost:8080/"
        },
        "id": "0glL6GT2lwwH",
        "outputId": "950896e6-6e24-4526-a83a-e6e6257a532e"
      },
      "execution_count": null,
      "outputs": [
        {
          "output_type": "execute_result",
          "data": {
            "text/plain": [
              "array(['Female', 'Male', 'Prefer not to say'], dtype=object)"
            ]
          },
          "metadata": {},
          "execution_count": 24
        }
      ]
    },
    {
      "cell_type": "code",
      "source": [
        "Q2_mapping = {'Female':1, 'Male':2, 'Prefer not to say': 0}\n",
        "df['Q2'] = df['Q2'].map(Q2_mapping)\n",
        "df['Q2']"
      ],
      "metadata": {
        "colab": {
          "base_uri": "https://localhost:8080/"
        },
        "id": "h4f0dQ2_l6ZH",
        "outputId": "3f05de1d-c0ca-42ee-db6c-1ab5b5aa36a4"
      },
      "execution_count": null,
      "outputs": [
        {
          "output_type": "execute_result",
          "data": {
            "text/plain": [
              "0      1\n",
              "1      1\n",
              "2      1\n",
              "3      1\n",
              "4      1\n",
              "      ..\n",
              "257    1\n",
              "258    2\n",
              "259    1\n",
              "260    1\n",
              "261    1\n",
              "Name: Q2, Length: 262, dtype: int64"
            ]
          },
          "metadata": {},
          "execution_count": 25
        }
      ]
    },
    {
      "cell_type": "code",
      "source": [
        "df['Q2'].unique()"
      ],
      "metadata": {
        "colab": {
          "base_uri": "https://localhost:8080/"
        },
        "id": "qIEwNrTfmSFS",
        "outputId": "80b97a31-96c1-4e0c-fc0c-bbe4e34ad3d8"
      },
      "execution_count": null,
      "outputs": [
        {
          "output_type": "execute_result",
          "data": {
            "text/plain": [
              "array([1, 2, 0])"
            ]
          },
          "metadata": {},
          "execution_count": 26
        }
      ]
    },
    {
      "cell_type": "code",
      "source": [
        "df['Q3'].unique()"
      ],
      "metadata": {
        "colab": {
          "base_uri": "https://localhost:8080/"
        },
        "id": "vmfmO74bmLzC",
        "outputId": "a1818c8c-f9de-4887-f187-1234390dc4d7"
      },
      "execution_count": null,
      "outputs": [
        {
          "output_type": "execute_result",
          "data": {
            "text/plain": [
              "array(['Michigan', 'Georgia', 'New York', 'Illinois', 'West Virginia',\n",
              "       'Utah', 'Pennsylvania', 'Maryland', 'Ohio',\n",
              "       'I do not reside in the United States', 'Minnesota', 'Colorado',\n",
              "       'Connecticut', 'Louisiana', 'Missouri', 'Florida', 'Puerto Rico',\n",
              "       'Indiana', 'California', 'Washington', 'Kansas', 'Alabama',\n",
              "       'Massachusetts', 'North Carolina', 'Texas', 'South Carolina',\n",
              "       'Oregon'], dtype=object)"
            ]
          },
          "metadata": {},
          "execution_count": 27
        }
      ]
    },
    {
      "cell_type": "code",
      "source": [
        "Q3_mapping={'Michigan':1, 'Iowa':2, 'Missouri':3,\n",
        "       'Ohio':4, 'Georgia':5, 'Mississippi':6, 'New York':7, 'West Virginia':8,\n",
        "       'Colorado':9, 'Virginia':10, 'Illinois':11, 'Oregon':12, 'Arizona':13, 'Utah':14,\n",
        "       'Pennsylvania':15, 'Florida':16, 'Kansas':17, 'Idaho':18, 'California':19,\n",
        "       'I do not reside in the United States':20, 'Minnesota':21, 'Oklahoma':22,\n",
        "       'Louisiana':23, 'Texas':24, 'Puerto Rico':25, 'Washington':26, 'Nebraska':27,\n",
        "       'Kentucky':28, 'Massachusetts':29, 'Tennessee':30, 'Indiana':31, 'Alabama':32,\n",
        "       'Maryland':33, 'Wisconsin':34, 'North Carolina':35, 'New Jersey':36,\n",
        "       'New Mexico':37, 'Vermont':38, 'South Carolina':39, 'Arkansas':40,\n",
        "       'Connecticut':41 }\n",
        "df['Q3']= df['Q3'].map(Q3_mapping)\n",
        "df['Q3']"
      ],
      "metadata": {
        "colab": {
          "base_uri": "https://localhost:8080/"
        },
        "id": "AMKqrotEmRPn",
        "outputId": "8607d157-0076-4ce5-e87a-a6ea7fe53e06"
      },
      "execution_count": null,
      "outputs": [
        {
          "output_type": "execute_result",
          "data": {
            "text/plain": [
              "0       1\n",
              "1       1\n",
              "2       1\n",
              "3       1\n",
              "4       1\n",
              "       ..\n",
              "257     5\n",
              "258     1\n",
              "259    19\n",
              "260     1\n",
              "261     1\n",
              "Name: Q3, Length: 262, dtype: int64"
            ]
          },
          "metadata": {},
          "execution_count": 28
        }
      ]
    },
    {
      "cell_type": "code",
      "source": [
        "df['Q3'].unique()"
      ],
      "metadata": {
        "colab": {
          "base_uri": "https://localhost:8080/"
        },
        "id": "sNSR11NpmasK",
        "outputId": "a13043a8-d7ab-45b5-ed26-a7f8695247b5"
      },
      "execution_count": null,
      "outputs": [
        {
          "output_type": "execute_result",
          "data": {
            "text/plain": [
              "array([ 1,  5,  7, 11,  8, 14, 15, 33,  4, 20, 21,  9, 41, 23,  3, 16, 25,\n",
              "       31, 19, 26, 17, 32, 29, 35, 24, 39, 12])"
            ]
          },
          "metadata": {},
          "execution_count": 29
        }
      ]
    },
    {
      "cell_type": "code",
      "source": [
        "df['Q8'].unique()"
      ],
      "metadata": {
        "colab": {
          "base_uri": "https://localhost:8080/"
        },
        "id": "qE2ijDshmeej",
        "outputId": "d398f25e-0ad1-47b6-8372-bd633eb8659f"
      },
      "execution_count": null,
      "outputs": [
        {
          "output_type": "execute_result",
          "data": {
            "text/plain": [
              "array(['Yes', 'No'], dtype=object)"
            ]
          },
          "metadata": {},
          "execution_count": 30
        }
      ]
    },
    {
      "cell_type": "code",
      "source": [
        "labels = df['Q8'].astype('category').cat.categories.tolist()\n",
        "Q8_mapping = {'Q8' : {k: v for k,v in zip(labels,list(range(1,len(labels)+1)))}}\n",
        "print(Q8_mapping)\n",
        "df.replace(Q8_mapping, inplace=True)\n",
        "df['Q8'].unique()"
      ],
      "metadata": {
        "colab": {
          "base_uri": "https://localhost:8080/"
        },
        "id": "Z6P3SpNymuRM",
        "outputId": "0d620f4a-266b-4b51-b1aa-8fe0143f8d1d"
      },
      "execution_count": null,
      "outputs": [
        {
          "output_type": "stream",
          "name": "stdout",
          "text": [
            "{'Q8': {'No': 1, 'Yes': 2}}\n"
          ]
        },
        {
          "output_type": "execute_result",
          "data": {
            "text/plain": [
              "array([2, 1])"
            ]
          },
          "metadata": {},
          "execution_count": 31
        }
      ]
    },
    {
      "cell_type": "code",
      "source": [
        "df['Q9'].unique()"
      ],
      "metadata": {
        "colab": {
          "base_uri": "https://localhost:8080/"
        },
        "id": "sKEbsVJim3TN",
        "outputId": "7e45feca-c230-4d2b-afb6-bbbf531c26e2"
      },
      "execution_count": null,
      "outputs": [
        {
          "output_type": "execute_result",
          "data": {
            "text/plain": [
              "array(['1', '2', 'Yes', 'Not applicable', 'No', 'No,Not applicable'],\n",
              "      dtype=object)"
            ]
          },
          "metadata": {},
          "execution_count": 32
        }
      ]
    },
    {
      "cell_type": "code",
      "source": [
        "Q9_mapping={'1':2, '2':2, 'Yes':2, 'Not applicable':1, 'No':1, 'No,Not applicable':1}\n",
        "df['Q9']= df['Q9'].map(Q9_mapping)\n",
        "df['Q9']"
      ],
      "metadata": {
        "colab": {
          "base_uri": "https://localhost:8080/"
        },
        "id": "6E_yQ32Mm6aA",
        "outputId": "e40253fd-64e7-4bb8-98c3-df4445b65a8c"
      },
      "execution_count": null,
      "outputs": [
        {
          "output_type": "execute_result",
          "data": {
            "text/plain": [
              "0      2\n",
              "1      2\n",
              "2      2\n",
              "3      2\n",
              "4      2\n",
              "      ..\n",
              "257    1\n",
              "258    2\n",
              "259    2\n",
              "260    1\n",
              "261    1\n",
              "Name: Q9, Length: 262, dtype: int64"
            ]
          },
          "metadata": {},
          "execution_count": 33
        }
      ]
    },
    {
      "cell_type": "code",
      "source": [
        "df['Q9'].unique()"
      ],
      "metadata": {
        "colab": {
          "base_uri": "https://localhost:8080/"
        },
        "id": "ao9MRMtbnFBw",
        "outputId": "d5458482-6419-44bf-c963-5d3aa6eb7c6a"
      },
      "execution_count": null,
      "outputs": [
        {
          "output_type": "execute_result",
          "data": {
            "text/plain": [
              "array([2, 1])"
            ]
          },
          "metadata": {},
          "execution_count": 34
        }
      ]
    },
    {
      "cell_type": "code",
      "source": [
        "df['Q10'].unique()"
      ],
      "metadata": {
        "colab": {
          "base_uri": "https://localhost:8080/"
        },
        "id": "ARqKIt9InCPh",
        "outputId": "3bd84373-7cba-4868-9db7-eb39ff1b95e2"
      },
      "execution_count": null,
      "outputs": [
        {
          "output_type": "execute_result",
          "data": {
            "text/plain": [
              "array(['Yes', 'No'], dtype=object)"
            ]
          },
          "metadata": {},
          "execution_count": 35
        }
      ]
    },
    {
      "cell_type": "code",
      "source": [
        "labels = df['Q10'].astype('category').cat.categories.tolist()\n",
        "Q10_mapping = {'Q10' : {k: v for k,v in zip(labels,list(range(1,len(labels)+1)))}}\n",
        "print(Q10_mapping)\n",
        "df.replace(Q10_mapping, inplace=True)\n",
        "df['Q10'].unique()"
      ],
      "metadata": {
        "colab": {
          "base_uri": "https://localhost:8080/"
        },
        "id": "lDKHAgOwnL8K",
        "outputId": "8489748e-fe9a-4a05-8edf-f08330688c93"
      },
      "execution_count": null,
      "outputs": [
        {
          "output_type": "stream",
          "name": "stdout",
          "text": [
            "{'Q10': {'No': 1, 'Yes': 2}}\n"
          ]
        },
        {
          "output_type": "execute_result",
          "data": {
            "text/plain": [
              "array([2, 1])"
            ]
          },
          "metadata": {},
          "execution_count": 36
        }
      ]
    },
    {
      "cell_type": "code",
      "source": [
        "df['Q11'].unique()"
      ],
      "metadata": {
        "colab": {
          "base_uri": "https://localhost:8080/"
        },
        "id": "T5BnU81knUCa",
        "outputId": "637e3436-205e-4c9e-f0aa-62d461216b31"
      },
      "execution_count": null,
      "outputs": [
        {
          "output_type": "execute_result",
          "data": {
            "text/plain": [
              "array(['Not applicable', 'Yes', 'No'], dtype=object)"
            ]
          },
          "metadata": {},
          "execution_count": 37
        }
      ]
    },
    {
      "cell_type": "code",
      "source": [
        "Q11_mapping={'Not applicable':1, 'Yes':2, 'No':1 }\n",
        "df['Q11']= df['Q11'].map(Q11_mapping)\n",
        "df['Q11']"
      ],
      "metadata": {
        "colab": {
          "base_uri": "https://localhost:8080/"
        },
        "id": "4N2l5X2znXku",
        "outputId": "e3e2f5e0-4894-4167-eeb7-7f1b98d1be77"
      },
      "execution_count": null,
      "outputs": [
        {
          "output_type": "execute_result",
          "data": {
            "text/plain": [
              "0      1\n",
              "1      2\n",
              "2      2\n",
              "3      1\n",
              "4      2\n",
              "      ..\n",
              "257    1\n",
              "258    2\n",
              "259    2\n",
              "260    1\n",
              "261    1\n",
              "Name: Q11, Length: 262, dtype: int64"
            ]
          },
          "metadata": {},
          "execution_count": 38
        }
      ]
    },
    {
      "cell_type": "code",
      "source": [
        "df['Q14'].unique()"
      ],
      "metadata": {
        "colab": {
          "base_uri": "https://localhost:8080/"
        },
        "id": "_8KpTFVBngd2",
        "outputId": "3428b862-22b5-4c94-f964-e1090223913e"
      },
      "execution_count": null,
      "outputs": [
        {
          "output_type": "execute_result",
          "data": {
            "text/plain": [
              "array(['Yes', 'No'], dtype=object)"
            ]
          },
          "metadata": {},
          "execution_count": 39
        }
      ]
    },
    {
      "cell_type": "code",
      "source": [
        "Q14_mapping={'Yes':2, 'No':1 }\n",
        "df['Q14']= df['Q14'].map(Q14_mapping)\n",
        "df['Q14']"
      ],
      "metadata": {
        "colab": {
          "base_uri": "https://localhost:8080/"
        },
        "id": "ChW2AGjMnlxr",
        "outputId": "c33ac2c4-5b71-4cea-8177-5e3c17b39ff4"
      },
      "execution_count": null,
      "outputs": [
        {
          "output_type": "execute_result",
          "data": {
            "text/plain": [
              "0      2\n",
              "1      2\n",
              "2      1\n",
              "3      1\n",
              "4      1\n",
              "      ..\n",
              "257    1\n",
              "258    2\n",
              "259    2\n",
              "260    2\n",
              "261    1\n",
              "Name: Q14, Length: 262, dtype: int64"
            ]
          },
          "metadata": {},
          "execution_count": 40
        }
      ]
    },
    {
      "cell_type": "code",
      "source": [
        "df['Q15'].unique()"
      ],
      "metadata": {
        "colab": {
          "base_uri": "https://localhost:8080/"
        },
        "id": "VbYxPABWnpwM",
        "outputId": "4d5952ae-a92a-4794-f182-e81fe95fb921"
      },
      "execution_count": null,
      "outputs": [
        {
          "output_type": "execute_result",
          "data": {
            "text/plain": [
              "array(['Yes', 'No'], dtype=object)"
            ]
          },
          "metadata": {},
          "execution_count": 41
        }
      ]
    },
    {
      "cell_type": "code",
      "source": [
        "Q15_mapping={'Yes':2, 'No':1 }\n",
        "df['Q15']= df['Q15'].map(Q15_mapping)\n",
        "df['Q15']"
      ],
      "metadata": {
        "colab": {
          "base_uri": "https://localhost:8080/"
        },
        "id": "9BsDHD9ln3U3",
        "outputId": "f55e274b-58fb-4792-9652-7c8ba0ba3bfd"
      },
      "execution_count": null,
      "outputs": [
        {
          "output_type": "execute_result",
          "data": {
            "text/plain": [
              "0      2\n",
              "1      1\n",
              "2      2\n",
              "3      1\n",
              "4      2\n",
              "      ..\n",
              "257    1\n",
              "258    2\n",
              "259    2\n",
              "260    2\n",
              "261    2\n",
              "Name: Q15, Length: 262, dtype: int64"
            ]
          },
          "metadata": {},
          "execution_count": 42
        }
      ]
    },
    {
      "cell_type": "code",
      "source": [
        "df['Q16'].unique()"
      ],
      "metadata": {
        "colab": {
          "base_uri": "https://localhost:8080/"
        },
        "id": "0iMPKyMsn8Ds",
        "outputId": "f7307f1b-9df0-416b-84ed-f5c67fa1c413"
      },
      "execution_count": null,
      "outputs": [
        {
          "output_type": "execute_result",
          "data": {
            "text/plain": [
              "array(['Yes', 'No'], dtype=object)"
            ]
          },
          "metadata": {},
          "execution_count": 43
        }
      ]
    },
    {
      "cell_type": "code",
      "source": [
        "Q16_mapping={'Yes':2, 'No':1 }\n",
        "df['Q16']= df['Q16'].map(Q16_mapping)\n",
        "df['Q16']"
      ],
      "metadata": {
        "colab": {
          "base_uri": "https://localhost:8080/"
        },
        "id": "FoxNlayDoBD2",
        "outputId": "cc8b6aff-cbc7-410d-ac44-3608e6cf2a4c"
      },
      "execution_count": null,
      "outputs": [
        {
          "output_type": "execute_result",
          "data": {
            "text/plain": [
              "0      2\n",
              "1      2\n",
              "2      1\n",
              "3      2\n",
              "4      1\n",
              "      ..\n",
              "257    2\n",
              "258    1\n",
              "259    2\n",
              "260    2\n",
              "261    1\n",
              "Name: Q16, Length: 262, dtype: int64"
            ]
          },
          "metadata": {},
          "execution_count": 44
        }
      ]
    },
    {
      "cell_type": "code",
      "source": [
        "df['Q17'].unique()"
      ],
      "metadata": {
        "colab": {
          "base_uri": "https://localhost:8080/"
        },
        "id": "gC87QbH5oKiL",
        "outputId": "1154bd3d-bfae-46f8-bdcd-501763d63872"
      },
      "execution_count": null,
      "outputs": [
        {
          "output_type": "execute_result",
          "data": {
            "text/plain": [
              "array(['No', 'Yes'], dtype=object)"
            ]
          },
          "metadata": {},
          "execution_count": 45
        }
      ]
    },
    {
      "cell_type": "code",
      "source": [
        "Q17_mapping={'Yes':2, 'No':1 }\n",
        "df['Q17']= df['Q17'].map(Q17_mapping)\n",
        "df['Q17']"
      ],
      "metadata": {
        "colab": {
          "base_uri": "https://localhost:8080/"
        },
        "id": "abzMk_WGoFpN",
        "outputId": "13631220-7208-419b-8bbf-24b1caa30055"
      },
      "execution_count": null,
      "outputs": [
        {
          "output_type": "execute_result",
          "data": {
            "text/plain": [
              "0      1\n",
              "1      1\n",
              "2      1\n",
              "3      2\n",
              "4      1\n",
              "      ..\n",
              "257    1\n",
              "258    1\n",
              "259    2\n",
              "260    1\n",
              "261    1\n",
              "Name: Q17, Length: 262, dtype: int64"
            ]
          },
          "metadata": {},
          "execution_count": 46
        }
      ]
    },
    {
      "cell_type": "code",
      "source": [
        "df['Q18'].unique()"
      ],
      "metadata": {
        "colab": {
          "base_uri": "https://localhost:8080/"
        },
        "id": "pX5JgehWoOuA",
        "outputId": "45e6b637-f4a2-4883-d330-b327aac81d67"
      },
      "execution_count": null,
      "outputs": [
        {
          "output_type": "execute_result",
          "data": {
            "text/plain": [
              "array(['Yes'], dtype=object)"
            ]
          },
          "metadata": {},
          "execution_count": 47
        }
      ]
    },
    {
      "cell_type": "code",
      "source": [
        "Q18_mapping={'Yes':2, 'No':1 }\n",
        "df['Q18']= df['Q18'].map(Q18_mapping)\n",
        "df['Q18']"
      ],
      "metadata": {
        "colab": {
          "base_uri": "https://localhost:8080/"
        },
        "id": "It759JHToeBw",
        "outputId": "5abad027-3d4d-4010-e388-bf8ec924d0d5"
      },
      "execution_count": null,
      "outputs": [
        {
          "output_type": "execute_result",
          "data": {
            "text/plain": [
              "0      2\n",
              "1      2\n",
              "2      2\n",
              "3      2\n",
              "4      2\n",
              "      ..\n",
              "257    2\n",
              "258    2\n",
              "259    2\n",
              "260    2\n",
              "261    2\n",
              "Name: Q18, Length: 262, dtype: int64"
            ]
          },
          "metadata": {},
          "execution_count": 48
        }
      ]
    },
    {
      "cell_type": "code",
      "source": [
        "df['Q18a'].unique()"
      ],
      "metadata": {
        "colab": {
          "base_uri": "https://localhost:8080/"
        },
        "id": "a8A4iNXeojc4",
        "outputId": "02bed103-dcc6-422b-fa7a-385580fac800"
      },
      "execution_count": null,
      "outputs": [
        {
          "output_type": "execute_result",
          "data": {
            "text/plain": [
              "array([1, 0])"
            ]
          },
          "metadata": {},
          "execution_count": 49
        }
      ]
    },
    {
      "cell_type": "code",
      "source": [
        "df['Q23'].unique()"
      ],
      "metadata": {
        "colab": {
          "base_uri": "https://localhost:8080/"
        },
        "id": "zm-vKwYIox53",
        "outputId": "e3919a6b-ea88-4756-94f5-d541bfe540d4"
      },
      "execution_count": null,
      "outputs": [
        {
          "output_type": "execute_result",
          "data": {
            "text/plain": [
              "array(['No', 'Yes'], dtype=object)"
            ]
          },
          "metadata": {},
          "execution_count": 50
        }
      ]
    },
    {
      "cell_type": "code",
      "source": [
        "Q23_mapping={'Yes':2, 'No':1 }\n",
        "df['Q23']= df['Q23'].map(Q23_mapping)\n",
        "df['Q23']"
      ],
      "metadata": {
        "colab": {
          "base_uri": "https://localhost:8080/"
        },
        "id": "Ehl36REdo3KI",
        "outputId": "b36f6306-0d76-4ffd-d3db-58dc9c217cd4"
      },
      "execution_count": null,
      "outputs": [
        {
          "output_type": "execute_result",
          "data": {
            "text/plain": [
              "0      1\n",
              "1      2\n",
              "2      2\n",
              "3      2\n",
              "4      2\n",
              "      ..\n",
              "257    2\n",
              "258    1\n",
              "259    2\n",
              "260    2\n",
              "261    2\n",
              "Name: Q23, Length: 262, dtype: int64"
            ]
          },
          "metadata": {},
          "execution_count": 51
        }
      ]
    },
    {
      "cell_type": "code",
      "source": [
        "df['Q25'].unique()"
      ],
      "metadata": {
        "colab": {
          "base_uri": "https://localhost:8080/"
        },
        "id": "Y_U7WDzfo5Wu",
        "outputId": "432650db-eefa-4c58-c204-4bafe5ec3ed2"
      },
      "execution_count": null,
      "outputs": [
        {
          "output_type": "execute_result",
          "data": {
            "text/plain": [
              "array(['Yes', 'No'], dtype=object)"
            ]
          },
          "metadata": {},
          "execution_count": 52
        }
      ]
    },
    {
      "cell_type": "code",
      "source": [
        "Q25_mapping={'Yes':2, 'No':1 }\n",
        "df['Q25']= df['Q25'].map(Q25_mapping)\n",
        "df['Q25']"
      ],
      "metadata": {
        "colab": {
          "base_uri": "https://localhost:8080/"
        },
        "id": "7JgYBw59o79c",
        "outputId": "a2c443e9-eb96-4d99-a83a-ccc3021f8b14"
      },
      "execution_count": null,
      "outputs": [
        {
          "output_type": "execute_result",
          "data": {
            "text/plain": [
              "0      2\n",
              "1      1\n",
              "2      2\n",
              "3      2\n",
              "4      2\n",
              "      ..\n",
              "257    2\n",
              "258    1\n",
              "259    2\n",
              "260    2\n",
              "261    1\n",
              "Name: Q25, Length: 262, dtype: int64"
            ]
          },
          "metadata": {},
          "execution_count": 53
        }
      ]
    },
    {
      "cell_type": "code",
      "source": [
        "df['Q26'].unique()"
      ],
      "metadata": {
        "colab": {
          "base_uri": "https://localhost:8080/"
        },
        "id": "ynBtVif8pA-2",
        "outputId": "9ead50f9-2427-489b-f9d4-03e7e4a9c47d"
      },
      "execution_count": null,
      "outputs": [
        {
          "output_type": "execute_result",
          "data": {
            "text/plain": [
              "array(['Yes', 'No'], dtype=object)"
            ]
          },
          "metadata": {},
          "execution_count": 54
        }
      ]
    },
    {
      "cell_type": "code",
      "source": [
        "Q26_mapping={'Yes':2, 'No':1 }\n",
        "df['Q26']= df['Q26'].map(Q26_mapping)\n",
        "df['Q26']"
      ],
      "metadata": {
        "colab": {
          "base_uri": "https://localhost:8080/"
        },
        "id": "1eNvNgF6pGjz",
        "outputId": "3525a6b9-adf9-47cf-e6f9-1ee57aec6427"
      },
      "execution_count": null,
      "outputs": [
        {
          "output_type": "execute_result",
          "data": {
            "text/plain": [
              "0      2\n",
              "1      1\n",
              "2      2\n",
              "3      2\n",
              "4      1\n",
              "      ..\n",
              "257    2\n",
              "258    2\n",
              "259    2\n",
              "260    2\n",
              "261    2\n",
              "Name: Q26, Length: 262, dtype: int64"
            ]
          },
          "metadata": {},
          "execution_count": 55
        }
      ]
    },
    {
      "cell_type": "code",
      "source": [
        "df['Q27'].unique()"
      ],
      "metadata": {
        "colab": {
          "base_uri": "https://localhost:8080/"
        },
        "id": "eG8UGWX6pROt",
        "outputId": "8283d8d1-e99c-4e40-8dc9-4795bd6d5677"
      },
      "execution_count": null,
      "outputs": [
        {
          "output_type": "execute_result",
          "data": {
            "text/plain": [
              "array(['Yes', 'No'], dtype=object)"
            ]
          },
          "metadata": {},
          "execution_count": 56
        }
      ]
    },
    {
      "cell_type": "code",
      "source": [
        "Q27_mapping={'Yes':2, 'No':1 }\n",
        "df['Q27']= df['Q27'].map(Q27_mapping)\n",
        "df['Q27']"
      ],
      "metadata": {
        "colab": {
          "base_uri": "https://localhost:8080/"
        },
        "id": "dyETC4cBpJJa",
        "outputId": "cf8e3ca1-0101-4143-f923-1f45de39518d"
      },
      "execution_count": null,
      "outputs": [
        {
          "output_type": "execute_result",
          "data": {
            "text/plain": [
              "0      2\n",
              "1      2\n",
              "2      1\n",
              "3      2\n",
              "4      2\n",
              "      ..\n",
              "257    2\n",
              "258    1\n",
              "259    2\n",
              "260    2\n",
              "261    2\n",
              "Name: Q27, Length: 262, dtype: int64"
            ]
          },
          "metadata": {},
          "execution_count": 57
        }
      ]
    },
    {
      "cell_type": "code",
      "source": [
        "df['Q28'].unique()"
      ],
      "metadata": {
        "colab": {
          "base_uri": "https://localhost:8080/"
        },
        "id": "5fXgG9SCpZLL",
        "outputId": "47547f22-a295-47a9-b9c4-a945a2bb6588"
      },
      "execution_count": null,
      "outputs": [
        {
          "output_type": "execute_result",
          "data": {
            "text/plain": [
              "array(['Yes', 'No'], dtype=object)"
            ]
          },
          "metadata": {},
          "execution_count": 58
        }
      ]
    },
    {
      "cell_type": "code",
      "source": [
        "Q28_mapping={'Yes':2, 'No':1 }\n",
        "df['Q28']= df['Q28'].map(Q28_mapping)\n",
        "df['Q28']"
      ],
      "metadata": {
        "colab": {
          "base_uri": "https://localhost:8080/"
        },
        "id": "2wGUFvwcpWnR",
        "outputId": "4b028af4-2ccf-4a56-c766-5bf7162a1580"
      },
      "execution_count": null,
      "outputs": [
        {
          "output_type": "execute_result",
          "data": {
            "text/plain": [
              "0      2\n",
              "1      2\n",
              "2      2\n",
              "3      2\n",
              "4      2\n",
              "      ..\n",
              "257    2\n",
              "258    2\n",
              "259    2\n",
              "260    2\n",
              "261    1\n",
              "Name: Q28, Length: 262, dtype: int64"
            ]
          },
          "metadata": {},
          "execution_count": 59
        }
      ]
    },
    {
      "cell_type": "code",
      "source": [
        "df['Q29'].unique()"
      ],
      "metadata": {
        "colab": {
          "base_uri": "https://localhost:8080/"
        },
        "id": "HN5KXA7updEG",
        "outputId": "958a8360-7cf3-4a91-ebdf-26fdaabd2e05"
      },
      "execution_count": null,
      "outputs": [
        {
          "output_type": "execute_result",
          "data": {
            "text/plain": [
              "array(['Yes', 'No'], dtype=object)"
            ]
          },
          "metadata": {},
          "execution_count": 60
        }
      ]
    },
    {
      "cell_type": "code",
      "source": [
        "Q29_mapping={'Yes':2, 'No':1 }\n",
        "df['Q29']= df['Q29'].map(Q29_mapping)\n",
        "df['Q29']"
      ],
      "metadata": {
        "colab": {
          "base_uri": "https://localhost:8080/"
        },
        "id": "ndwIKnnvpguJ",
        "outputId": "6d412737-e831-4b56-c098-c2ecc63bfbad"
      },
      "execution_count": null,
      "outputs": [
        {
          "output_type": "execute_result",
          "data": {
            "text/plain": [
              "0      2\n",
              "1      2\n",
              "2      2\n",
              "3      1\n",
              "4      2\n",
              "      ..\n",
              "257    2\n",
              "258    1\n",
              "259    2\n",
              "260    2\n",
              "261    2\n",
              "Name: Q29, Length: 262, dtype: int64"
            ]
          },
          "metadata": {},
          "execution_count": 61
        }
      ]
    },
    {
      "cell_type": "code",
      "source": [
        "df['Q12'].unique()"
      ],
      "metadata": {
        "colab": {
          "base_uri": "https://localhost:8080/"
        },
        "id": "4W0D9ytAplLP",
        "outputId": "89bfcd05-0def-43da-c2a6-22863b9133cd"
      },
      "execution_count": null,
      "outputs": [
        {
          "output_type": "execute_result",
          "data": {
            "text/plain": [
              "array(['8', '7', '7.75', '7:15', '5-6', '10', '1.5', '9', '6', '7-8',\n",
              "       '6-7', 'seven', '7.5', '6.5', '5', '8.5', '8-10', '8-9', '5.7',\n",
              "       '7-9', '4', '7 hours', '7-7.5', '7.30', '6-8'], dtype=object)"
            ]
          },
          "metadata": {},
          "execution_count": 62
        }
      ]
    },
    {
      "cell_type": "code",
      "source": [
        "Q12_mapping={'8':8, '6':6, '7':7, '7.75':8, '7:15':7, '5-6':6, '10':10, '1.5':2, '9':9, '7-8':8,\n",
        "       '6-7':7, '7.5':8, 'seven':7, '6.5':7, '5':5, '8.5':9, '8-10':10, '8-9':9,\n",
        "       '5.7':6, '7-9':9, '4':4, '7 hours':7, '7-7.5':7, '7.30':7, '6-8':8}\n",
        "df['Q12']= df['Q12'].map(Q12_mapping)\n",
        "df['Q12']"
      ],
      "metadata": {
        "colab": {
          "base_uri": "https://localhost:8080/"
        },
        "id": "XLtXg6e1pq3U",
        "outputId": "9262c52a-154d-4788-91ed-2f53071634ac"
      },
      "execution_count": null,
      "outputs": [
        {
          "output_type": "execute_result",
          "data": {
            "text/plain": [
              "0      8\n",
              "1      7\n",
              "2      7\n",
              "3      7\n",
              "4      7\n",
              "      ..\n",
              "257    8\n",
              "258    7\n",
              "259    6\n",
              "260    9\n",
              "261    8\n",
              "Name: Q12, Length: 262, dtype: int64"
            ]
          },
          "metadata": {},
          "execution_count": 63
        }
      ]
    },
    {
      "cell_type": "code",
      "source": [
        "df['Q12'].unique()"
      ],
      "metadata": {
        "colab": {
          "base_uri": "https://localhost:8080/"
        },
        "id": "dEzVWRVtpt0p",
        "outputId": "2b1f2816-77e4-4be3-e8df-3ba7b6932d91"
      },
      "execution_count": null,
      "outputs": [
        {
          "output_type": "execute_result",
          "data": {
            "text/plain": [
              "array([ 8,  7,  6, 10,  2,  9,  5,  4])"
            ]
          },
          "metadata": {},
          "execution_count": 64
        }
      ]
    },
    {
      "cell_type": "code",
      "source": [
        "df['Q13'].unique()"
      ],
      "metadata": {
        "colab": {
          "base_uri": "https://localhost:8080/"
        },
        "id": "mQpfMUJxpw-u",
        "outputId": "7bfe0893-2149-49dd-ddf3-7b5531fb42f1"
      },
      "execution_count": null,
      "outputs": [
        {
          "output_type": "execute_result",
          "data": {
            "text/plain": [
              "array(['9', '7', '6', '8', '7:30', '7.5', '5-6', '4-5', '4', '6.5', '5',\n",
              "       '10', '4.5', 'seven', '6-7', '5-8', 'Na', '8.5', '9.5', '5-10',\n",
              "       '6 (but much more variability)', '6 to 7', '7-8', '5.5', '6-8',\n",
              "       '8-10', '4.3', '7.45', '3', '7-7.5', '9-10'], dtype=object)"
            ]
          },
          "metadata": {},
          "execution_count": 65
        }
      ]
    },
    {
      "cell_type": "code",
      "source": [
        "Q13_mapping={'9':9, '5.5':5, '7':7, '6':6, '8':8, '7:30':8, '7.5':8, '5-6':6, '8 ':8, '4-5':5, '4':4,\n",
        "       '6.5':7, '5':5, '4.5':5, 'seven':7, '6-7':7, '5-8':8, '10':10, 'Na':6, '8.5':9,\n",
        "       '9.5':9, '5-10':10, '6 (but much more variability)':6, '6 to 7':6,\n",
        "       '7-8':8, '6-8':8, '8-10':10, '4.3':5, '7.45':8, '3':3, '7-7.5':7, '9-10':10 }\n",
        "df['Q13']= df['Q13'].map(Q13_mapping)\n",
        "df['Q13']"
      ],
      "metadata": {
        "colab": {
          "base_uri": "https://localhost:8080/"
        },
        "id": "G8eae7mRp1GR",
        "outputId": "58495923-3a39-44ad-d368-186e8957b462"
      },
      "execution_count": null,
      "outputs": [
        {
          "output_type": "execute_result",
          "data": {
            "text/plain": [
              "0       9\n",
              "1       7\n",
              "2       7\n",
              "3       6\n",
              "4       7\n",
              "       ..\n",
              "257     8\n",
              "258     8\n",
              "259     7\n",
              "260    10\n",
              "261     8\n",
              "Name: Q13, Length: 262, dtype: int64"
            ]
          },
          "metadata": {},
          "execution_count": 66
        }
      ]
    },
    {
      "cell_type": "code",
      "source": [
        "df['Q13'].unique()"
      ],
      "metadata": {
        "colab": {
          "base_uri": "https://localhost:8080/"
        },
        "id": "t_iwyHYnp9M0",
        "outputId": "00df7d68-fe08-4710-a504-de3ac92d536f"
      },
      "execution_count": null,
      "outputs": [
        {
          "output_type": "execute_result",
          "data": {
            "text/plain": [
              "array([ 9,  7,  6,  8,  5,  4, 10,  3])"
            ]
          },
          "metadata": {},
          "execution_count": 67
        }
      ]
    },
    {
      "cell_type": "code",
      "source": [
        "df['Q19'].unique()\n"
      ],
      "metadata": {
        "colab": {
          "base_uri": "https://localhost:8080/"
        },
        "id": "jdUnrD2cp-Th",
        "outputId": "b599c75d-3c23-4f13-a843-d8abd177ee1b"
      },
      "execution_count": null,
      "outputs": [
        {
          "output_type": "execute_result",
          "data": {
            "text/plain": [
              "array(['2-3 times a week', 'Once a month or less', 'Never',\n",
              "       '2-4 times a month', '4 or more times a week'], dtype=object)"
            ]
          },
          "metadata": {},
          "execution_count": 68
        }
      ]
    },
    {
      "cell_type": "code",
      "source": [
        "# Converting the Ordinal Categorical features into integers\n",
        "Q19_mapping={'4 or more times a week':5, '2-4 times a month':4,  '2-3 times a week':3,  'Once a month or less':2, 'Never':1  }\n",
        "df['Q19']= df['Q19'].map(Q19_mapping)\n",
        "df['Q19']"
      ],
      "metadata": {
        "colab": {
          "base_uri": "https://localhost:8080/"
        },
        "id": "n23WA9CAqEHJ",
        "outputId": "e4f8f373-1566-43a6-ff99-5d7e6d70e7d3"
      },
      "execution_count": null,
      "outputs": [
        {
          "output_type": "execute_result",
          "data": {
            "text/plain": [
              "0      3\n",
              "1      3\n",
              "2      2\n",
              "3      2\n",
              "4      3\n",
              "      ..\n",
              "257    2\n",
              "258    3\n",
              "259    4\n",
              "260    4\n",
              "261    3\n",
              "Name: Q19, Length: 262, dtype: int64"
            ]
          },
          "metadata": {},
          "execution_count": 69
        }
      ]
    },
    {
      "cell_type": "code",
      "source": [
        "df['Q19'].unique()"
      ],
      "metadata": {
        "colab": {
          "base_uri": "https://localhost:8080/"
        },
        "id": "BOdg6JOeqJ7M",
        "outputId": "c75468b4-d47f-416d-b481-9cdcc019b918"
      },
      "execution_count": null,
      "outputs": [
        {
          "output_type": "execute_result",
          "data": {
            "text/plain": [
              "array([3, 2, 1, 4, 5])"
            ]
          },
          "metadata": {},
          "execution_count": 70
        }
      ]
    },
    {
      "cell_type": "code",
      "source": [
        "df['Q20'].unique()"
      ],
      "metadata": {
        "colab": {
          "base_uri": "https://localhost:8080/"
        },
        "id": "qHPkUzuwqM2Q",
        "outputId": "8bc8a6ed-866d-4e07-96cd-5679f6fee777"
      },
      "execution_count": null,
      "outputs": [
        {
          "output_type": "execute_result",
          "data": {
            "text/plain": [
              "array(['4 or more times a week', '2-4 times a month', '2-3 times a week',\n",
              "       'Never', 'Once a month or less'], dtype=object)"
            ]
          },
          "metadata": {},
          "execution_count": 71
        }
      ]
    },
    {
      "cell_type": "code",
      "source": [
        "# Converting the Ordinal Categorical features into integers\n",
        "Q20_mapping={'4 or more times a week':5, '2-4 times a month':4,  '2-3 times a week':3,  'Once a month or less':2, 'Never':1  }\n",
        "df['Q20']= df['Q20'].map(Q20_mapping)\n",
        "df['Q20']"
      ],
      "metadata": {
        "colab": {
          "base_uri": "https://localhost:8080/"
        },
        "id": "B1ulrhoyqPVp",
        "outputId": "67bd4005-7935-4310-b331-a65cfb6b1ce9"
      },
      "execution_count": null,
      "outputs": [
        {
          "output_type": "execute_result",
          "data": {
            "text/plain": [
              "0      5\n",
              "1      5\n",
              "2      4\n",
              "3      5\n",
              "4      5\n",
              "      ..\n",
              "257    4\n",
              "258    3\n",
              "259    3\n",
              "260    3\n",
              "261    3\n",
              "Name: Q20, Length: 262, dtype: int64"
            ]
          },
          "metadata": {},
          "execution_count": 72
        }
      ]
    },
    {
      "cell_type": "code",
      "source": [
        "df['Q20'].unique()"
      ],
      "metadata": {
        "colab": {
          "base_uri": "https://localhost:8080/"
        },
        "id": "wbGDTlAEqUIK",
        "outputId": "c284eadb-c7a5-4cce-8369-2fffe01aeeab"
      },
      "execution_count": null,
      "outputs": [
        {
          "output_type": "execute_result",
          "data": {
            "text/plain": [
              "array([5, 4, 3, 1, 2])"
            ]
          },
          "metadata": {},
          "execution_count": 73
        }
      ]
    },
    {
      "cell_type": "code",
      "source": [
        "df['Q21'].unique()"
      ],
      "metadata": {
        "colab": {
          "base_uri": "https://localhost:8080/"
        },
        "id": "pv5GxnzjqWy1",
        "outputId": "9c569cae-6e42-4c98-d5d6-3f42db8e5712"
      },
      "execution_count": null,
      "outputs": [
        {
          "output_type": "execute_result",
          "data": {
            "text/plain": [
              "array(['Never', '2-3 times a week', 'Once a month or less',\n",
              "       '2-4 times a month', '4 or more times a week'], dtype=object)"
            ]
          },
          "metadata": {},
          "execution_count": 74
        }
      ]
    },
    {
      "cell_type": "code",
      "source": [
        "# Converting the Ordinal Categorical features into integers\n",
        "Q21_mapping={'4 or more times a week':5, '2-4 times a month':4,  '2-3 times a week':3,  'Once a month or less':2, 'Never':1  }\n",
        "df['Q21']= df['Q21'].map(Q21_mapping)\n",
        "df['Q21']"
      ],
      "metadata": {
        "colab": {
          "base_uri": "https://localhost:8080/"
        },
        "id": "oSnHCitTqsMY",
        "outputId": "05de2667-68e2-4cea-d83f-670f0b0fbbe8"
      },
      "execution_count": null,
      "outputs": [
        {
          "output_type": "execute_result",
          "data": {
            "text/plain": [
              "0      1\n",
              "1      1\n",
              "2      1\n",
              "3      1\n",
              "4      1\n",
              "      ..\n",
              "257    1\n",
              "258    1\n",
              "259    1\n",
              "260    1\n",
              "261    1\n",
              "Name: Q21, Length: 262, dtype: int64"
            ]
          },
          "metadata": {},
          "execution_count": 75
        }
      ]
    },
    {
      "cell_type": "code",
      "source": [
        "df['Q21'].unique()"
      ],
      "metadata": {
        "colab": {
          "base_uri": "https://localhost:8080/"
        },
        "id": "7XI-cnqDqw40",
        "outputId": "80db455d-0fa8-45a8-c901-88eca3329ad0"
      },
      "execution_count": null,
      "outputs": [
        {
          "output_type": "execute_result",
          "data": {
            "text/plain": [
              "array([1, 3, 2, 4, 5])"
            ]
          },
          "metadata": {},
          "execution_count": 76
        }
      ]
    },
    {
      "cell_type": "code",
      "source": [
        "df['Q22'].unique()"
      ],
      "metadata": {
        "colab": {
          "base_uri": "https://localhost:8080/"
        },
        "id": "WbdJbfyiq5W4",
        "outputId": "bc44a764-cdda-43cb-a997-fe623e30b9db"
      },
      "execution_count": null,
      "outputs": [
        {
          "output_type": "execute_result",
          "data": {
            "text/plain": [
              "array(['Never', '2-3 times a week', 'Once a month or less',\n",
              "       '2-4 times a month', '4 or more times a week'], dtype=object)"
            ]
          },
          "metadata": {},
          "execution_count": 77
        }
      ]
    },
    {
      "cell_type": "code",
      "source": [
        "# Converting the Ordinal Categorical features into integers\n",
        "Q22_mapping={'4 or more times a week':5, '2-4 times a month':4,  '2-3 times a week':3,  'Once a month or less':2, 'Never':1  }\n",
        "df['Q22']= df['Q22'].map(Q22_mapping)\n",
        "df['Q22']"
      ],
      "metadata": {
        "colab": {
          "base_uri": "https://localhost:8080/"
        },
        "id": "nglDbyIJq8lZ",
        "outputId": "4f9577a8-1ce5-44b5-937f-e13a986ec5cb"
      },
      "execution_count": null,
      "outputs": [
        {
          "output_type": "execute_result",
          "data": {
            "text/plain": [
              "0      1\n",
              "1      1\n",
              "2      1\n",
              "3      1\n",
              "4      1\n",
              "      ..\n",
              "257    1\n",
              "258    1\n",
              "259    1\n",
              "260    1\n",
              "261    4\n",
              "Name: Q22, Length: 262, dtype: int64"
            ]
          },
          "metadata": {},
          "execution_count": 78
        }
      ]
    },
    {
      "cell_type": "code",
      "source": [
        "df['Q22'].unique()"
      ],
      "metadata": {
        "colab": {
          "base_uri": "https://localhost:8080/"
        },
        "id": "cqAzRa_Bq_il",
        "outputId": "82498a1d-c966-4b77-e738-4d6a015dccb6"
      },
      "execution_count": null,
      "outputs": [
        {
          "output_type": "execute_result",
          "data": {
            "text/plain": [
              "array([1, 3, 2, 4, 5])"
            ]
          },
          "metadata": {},
          "execution_count": 79
        }
      ]
    },
    {
      "cell_type": "code",
      "source": [
        "df['Q24'].unique()"
      ],
      "metadata": {
        "colab": {
          "base_uri": "https://localhost:8080/"
        },
        "id": "jvwAM37SrIE4",
        "outputId": "6155ddc2-5964-427c-8e13-3355af08eed2"
      },
      "execution_count": null,
      "outputs": [
        {
          "output_type": "execute_result",
          "data": {
            "text/plain": [
              "array(['0-.5 hour', '0.51 – 1 hour', '1-2 hours', '2-3 hours', '3+ hours'],\n",
              "      dtype=object)"
            ]
          },
          "metadata": {},
          "execution_count": 80
        }
      ]
    },
    {
      "cell_type": "code",
      "source": [
        "# Converting the Ordinal Categorical features into integers\n",
        "Q24_mapping={'0-.5 hour':1, '1-2 hours':2, '0.51 – 1 hour':3, '2-3 hours':4, '3+ hours':5 }\n",
        "df['Q24']= df['Q24'].map(Q24_mapping)\n",
        "df['Q24']"
      ],
      "metadata": {
        "colab": {
          "base_uri": "https://localhost:8080/"
        },
        "id": "w_Oqm0eerDZt",
        "outputId": "9e3d1e93-af6b-464d-ba71-e028c3afe78b"
      },
      "execution_count": null,
      "outputs": [
        {
          "output_type": "execute_result",
          "data": {
            "text/plain": [
              "0      1\n",
              "1      3\n",
              "2      2\n",
              "3      2\n",
              "4      2\n",
              "      ..\n",
              "257    4\n",
              "258    1\n",
              "259    5\n",
              "260    4\n",
              "261    2\n",
              "Name: Q24, Length: 262, dtype: int64"
            ]
          },
          "metadata": {},
          "execution_count": 81
        }
      ]
    },
    {
      "cell_type": "code",
      "source": [
        "df['Q24'].unique()"
      ],
      "metadata": {
        "colab": {
          "base_uri": "https://localhost:8080/"
        },
        "id": "moWVnRuHrMq6",
        "outputId": "6b617647-3b71-4e0d-c0b6-04942198d395"
      },
      "execution_count": null,
      "outputs": [
        {
          "output_type": "execute_result",
          "data": {
            "text/plain": [
              "array([1, 3, 2, 4, 5])"
            ]
          },
          "metadata": {},
          "execution_count": 82
        }
      ]
    },
    {
      "cell_type": "code",
      "source": [
        "df.columns"
      ],
      "metadata": {
        "colab": {
          "base_uri": "https://localhost:8080/"
        },
        "id": "ReEKaMIVrOUl",
        "outputId": "c76bfe62-80e9-4560-cf69-e8a9b39a6487"
      },
      "execution_count": null,
      "outputs": [
        {
          "output_type": "execute_result",
          "data": {
            "text/plain": [
              "Index(['Q1', 'Q2', 'Q3', 'Q8', 'Q9', 'Q10', 'Q11', 'Q11a', 'Q11b', 'Q12',\n",
              "       'Q13', 'Q14', 'Q14a', 'Q15', 'Q16', 'Q16a', 'Q16b', 'Q17', 'Q18',\n",
              "       'Q18a', 'Q19', 'Q20', 'Q21', 'Q22', 'Q23', 'Q24', 'Q25', 'Q26', 'Q26a',\n",
              "       'Q27', 'Q27a', 'Q28', 'Q28a', 'Q29', 'Q29a'],\n",
              "      dtype='object')"
            ]
          },
          "metadata": {},
          "execution_count": 83
        }
      ]
    },
    {
      "cell_type": "code",
      "source": [
        "df['Q29a'].unique()"
      ],
      "metadata": {
        "colab": {
          "base_uri": "https://localhost:8080/"
        },
        "id": "iCBo7H0DrW9g",
        "outputId": "07b970f7-e831-4df4-c3dd-8662879e39ba"
      },
      "execution_count": null,
      "outputs": [
        {
          "output_type": "execute_result",
          "data": {
            "text/plain": [
              "array(['Slightly worse', 'Moderately worse', 'Slightly better',\n",
              "       'Much worse', 'Slightly better,About the same,Slightly worse',\n",
              "       'Slightly worse,Moderately worse', 'About the same',\n",
              "       'Moderately better', 'Much better',\n",
              "       'About the same,Slightly worse',\n",
              "       'Moderately better,Slightly better'], dtype=object)"
            ]
          },
          "metadata": {},
          "execution_count": 84
        }
      ]
    },
    {
      "cell_type": "code",
      "source": [
        "# Converting the Ordinal Categorical features into integers\n",
        "Q29a_mapping={'Slightly worse':0, \n",
        "             'Moderately worse':1, \n",
        "             'Slightly better':0, \n",
        "             'Much worse':2, \n",
        "             'Slightly worse,Moderately worse':1 ,\n",
        "             'About the same':0,\n",
        "             'Slightly better,About the same,Slightly worse': 0, \n",
        "             'Moderately better':3,\n",
        "             'Much better': 4,\n",
        "             'About the same,Slightly worse': 0, \n",
        "             'Moderately better,Slightly better': 3   }\n",
        "df['Q29a']= df['Q29a'].map(Q29a_mapping)\n",
        "df['Q29a']"
      ],
      "metadata": {
        "colab": {
          "base_uri": "https://localhost:8080/"
        },
        "id": "tMFuZGxkrfYf",
        "outputId": "d422e592-c574-4074-b4dd-10d8ab677966"
      },
      "execution_count": null,
      "outputs": [
        {
          "output_type": "execute_result",
          "data": {
            "text/plain": [
              "0      0\n",
              "1      1\n",
              "2      1\n",
              "3      0\n",
              "4      1\n",
              "      ..\n",
              "257    1\n",
              "258    0\n",
              "259    1\n",
              "260    4\n",
              "261    1\n",
              "Name: Q29a, Length: 262, dtype: int64"
            ]
          },
          "metadata": {},
          "execution_count": 85
        }
      ]
    },
    {
      "cell_type": "code",
      "source": [
        "np.unique(df[\"Q29a\"])"
      ],
      "metadata": {
        "colab": {
          "base_uri": "https://localhost:8080/"
        },
        "id": "a-YJCqKntj5b",
        "outputId": "4d105d42-1dd9-41e8-d0bb-f654fef02dc5"
      },
      "execution_count": null,
      "outputs": [
        {
          "output_type": "execute_result",
          "data": {
            "text/plain": [
              "array([0, 1, 2, 3, 4])"
            ]
          },
          "metadata": {},
          "execution_count": 86
        }
      ]
    },
    {
      "cell_type": "code",
      "source": [
        "df[\"Q11b\"].unique()"
      ],
      "metadata": {
        "colab": {
          "base_uri": "https://localhost:8080/"
        },
        "id": "tKhsxS07uR2s",
        "outputId": "17d43816-acf2-4b17-8cde-8a55d9e0b1a9"
      },
      "execution_count": null,
      "outputs": [
        {
          "output_type": "execute_result",
          "data": {
            "text/plain": [
              "array(['not applicable', 'Under 12 years old', '12-17 years old',\n",
              "       'Under 12 years old,12-17 years old', '18-24 years old',\n",
              "       '12-17 years old,18-24 years old',\n",
              "       'Under 12 years old,18-24 years old',\n",
              "       'Under 12 years old,12-17 years old,18-24 years old'], dtype=object)"
            ]
          },
          "metadata": {},
          "execution_count": 87
        }
      ]
    },
    {
      "cell_type": "code",
      "source": [
        "# Converting the Ordinal Categorical features into integers\n",
        "Q11b_mapping={'not applicable':0, \n",
        "             'Under 12 years old':1, \n",
        "             '12-17 years old':2, \n",
        "             'Under 12 years old,12-17 years old':3,\n",
        "             '18-24 years old':4 ,\n",
        "             '12-17 years old,18-24 years old':5,\n",
        "             'Under 12 years old,18-24 years old': 6, \n",
        "             'Under 12 years old,12-17 years old,18-24 years old': 7 }\n",
        "df['Q11b']= df['Q11b'].map(Q11b_mapping)\n",
        "df['Q11b']"
      ],
      "metadata": {
        "colab": {
          "base_uri": "https://localhost:8080/"
        },
        "id": "a578UVDyuYLh",
        "outputId": "d6b372bb-0645-4e98-d639-414897ed71bd"
      },
      "execution_count": null,
      "outputs": [
        {
          "output_type": "execute_result",
          "data": {
            "text/plain": [
              "0      0\n",
              "1      1\n",
              "2      1\n",
              "3      0\n",
              "4      1\n",
              "      ..\n",
              "257    0\n",
              "258    3\n",
              "259    2\n",
              "260    0\n",
              "261    0\n",
              "Name: Q11b, Length: 262, dtype: int64"
            ]
          },
          "metadata": {},
          "execution_count": 88
        }
      ]
    },
    {
      "cell_type": "code",
      "source": [
        "df[\"Q11b\"].unique()"
      ],
      "metadata": {
        "id": "Payf_7ggyW8N",
        "colab": {
          "base_uri": "https://localhost:8080/"
        },
        "outputId": "d93a9cec-1806-41d9-fe8e-30ba84c78b65"
      },
      "execution_count": null,
      "outputs": [
        {
          "output_type": "execute_result",
          "data": {
            "text/plain": [
              "array([0, 1, 2, 3, 4, 5, 6, 7])"
            ]
          },
          "metadata": {},
          "execution_count": 89
        }
      ]
    },
    {
      "cell_type": "code",
      "source": [
        "df[\"Q14a\"].unique()"
      ],
      "metadata": {
        "colab": {
          "base_uri": "https://localhost:8080/"
        },
        "id": "l5hFbPpfyblN",
        "outputId": "70cf526b-c721-4457-c31f-9a2297cec3d3"
      },
      "execution_count": null,
      "outputs": [
        {
          "output_type": "execute_result",
          "data": {
            "text/plain": [
              "array(['I am working more hours', 'I am working the same hours',\n",
              "       'I am working fewer hours'], dtype=object)"
            ]
          },
          "metadata": {},
          "execution_count": 90
        }
      ]
    },
    {
      "cell_type": "code",
      "source": [
        "# Converting the Ordinal Categorical features into integers\n",
        "Q14a_mapping={'I am working more hours':1, \n",
        "             'I am working the same hours':0, \n",
        "             'I am working fewer hours':2, \n",
        "              }\n",
        "df['Q14a']= df['Q14a'].map(Q14a_mapping)\n",
        "df['Q14a']"
      ],
      "metadata": {
        "colab": {
          "base_uri": "https://localhost:8080/"
        },
        "id": "-Zibhd9mykMh",
        "outputId": "e14aa8ef-78e6-4c8d-d065-7d94b457d05f"
      },
      "execution_count": null,
      "outputs": [
        {
          "output_type": "execute_result",
          "data": {
            "text/plain": [
              "0      1\n",
              "1      1\n",
              "2      0\n",
              "3      0\n",
              "4      0\n",
              "      ..\n",
              "257    0\n",
              "258    2\n",
              "259    2\n",
              "260    2\n",
              "261    0\n",
              "Name: Q14a, Length: 262, dtype: int64"
            ]
          },
          "metadata": {},
          "execution_count": 91
        }
      ]
    },
    {
      "cell_type": "code",
      "source": [
        "df[\"Q14a\"].unique()"
      ],
      "metadata": {
        "colab": {
          "base_uri": "https://localhost:8080/"
        },
        "id": "NzMbfb3_zDlE",
        "outputId": "1a8354f0-1015-4d7e-c756-808d875185fa"
      },
      "execution_count": null,
      "outputs": [
        {
          "output_type": "execute_result",
          "data": {
            "text/plain": [
              "array([1, 0, 2])"
            ]
          },
          "metadata": {},
          "execution_count": 92
        }
      ]
    },
    {
      "cell_type": "code",
      "source": [
        "df[\"Q16a\"].unique()"
      ],
      "metadata": {
        "colab": {
          "base_uri": "https://localhost:8080/"
        },
        "id": "JdYS903azFz1",
        "outputId": "f75f6a0d-f1f6-441b-95d3-812bc873bc2e"
      },
      "execution_count": null,
      "outputs": [
        {
          "output_type": "execute_result",
          "data": {
            "text/plain": [
              "array(['I am going to bed later', 'My bedtime has not changed',\n",
              "       'I am going to bed earlier'], dtype=object)"
            ]
          },
          "metadata": {},
          "execution_count": 93
        }
      ]
    },
    {
      "cell_type": "code",
      "source": [
        "# Converting the Ordinal Categorical features into integers\n",
        "Q16a_mapping={'I am going to bed later':1, \n",
        "             'My bedtime has not changed':0, \n",
        "             'I am going to bed earlier':2, \n",
        "              }\n",
        "df['Q16a']= df['Q16a'].map(Q16a_mapping)\n",
        "df['Q16a']"
      ],
      "metadata": {
        "colab": {
          "base_uri": "https://localhost:8080/"
        },
        "id": "WgPQ_zYazcue",
        "outputId": "f7ecd979-7d1a-46d4-df67-8d4b428bf80f"
      },
      "execution_count": null,
      "outputs": [
        {
          "output_type": "execute_result",
          "data": {
            "text/plain": [
              "0      1\n",
              "1      1\n",
              "2      1\n",
              "3      1\n",
              "4      1\n",
              "      ..\n",
              "257    1\n",
              "258    1\n",
              "259    1\n",
              "260    2\n",
              "261    1\n",
              "Name: Q16a, Length: 262, dtype: int64"
            ]
          },
          "metadata": {},
          "execution_count": 94
        }
      ]
    },
    {
      "cell_type": "code",
      "source": [
        "df[\"Q16a\"].unique()"
      ],
      "metadata": {
        "colab": {
          "base_uri": "https://localhost:8080/"
        },
        "id": "4QG4R7MczNSU",
        "outputId": "0c6e9926-fd00-4e3b-cf55-e98d3949dff8"
      },
      "execution_count": null,
      "outputs": [
        {
          "output_type": "execute_result",
          "data": {
            "text/plain": [
              "array([1, 0, 2])"
            ]
          },
          "metadata": {},
          "execution_count": 95
        }
      ]
    },
    {
      "cell_type": "code",
      "source": [
        "df[\"Q16b\"].unique()"
      ],
      "metadata": {
        "colab": {
          "base_uri": "https://localhost:8080/"
        },
        "id": "6yvpAA36z3ut",
        "outputId": "9f62c48e-1616-42ae-83e8-2ed64a50d7dd"
      },
      "execution_count": null,
      "outputs": [
        {
          "output_type": "execute_result",
          "data": {
            "text/plain": [
              "array(['I am waking up later', 'I waking up earlier',\n",
              "       'My waketime has not changed'], dtype=object)"
            ]
          },
          "metadata": {},
          "execution_count": 96
        }
      ]
    },
    {
      "cell_type": "code",
      "source": [
        "# Converting the Ordinal Categorical features into integers\n",
        "Q16b_mapping={'I am waking up later':1, \n",
        "             'My waketime has not changed':0, \n",
        "             'I waking up earlier':2, \n",
        "              }\n",
        "df['Q16b']= df['Q16b'].map(Q16b_mapping)\n",
        "df['Q16b']"
      ],
      "metadata": {
        "colab": {
          "base_uri": "https://localhost:8080/"
        },
        "id": "3zn0OXYfz6JB",
        "outputId": "2f29908a-31b8-4880-85f4-e0aacfc7d77e"
      },
      "execution_count": null,
      "outputs": [
        {
          "output_type": "execute_result",
          "data": {
            "text/plain": [
              "0      1\n",
              "1      1\n",
              "2      1\n",
              "3      1\n",
              "4      1\n",
              "      ..\n",
              "257    2\n",
              "258    1\n",
              "259    1\n",
              "260    1\n",
              "261    1\n",
              "Name: Q16b, Length: 262, dtype: int64"
            ]
          },
          "metadata": {},
          "execution_count": 97
        }
      ]
    },
    {
      "cell_type": "code",
      "source": [
        "df[\"Q26a\"].unique()"
      ],
      "metadata": {
        "colab": {
          "base_uri": "https://localhost:8080/"
        },
        "id": "eiTRTihy0HPY",
        "outputId": "05611946-e1b3-45b0-ec65-f60f4a390de9"
      },
      "execution_count": null,
      "outputs": [
        {
          "output_type": "execute_result",
          "data": {
            "text/plain": [
              "array(['I am exercising/moving less', 'I am exercising/moving more'],\n",
              "      dtype=object)"
            ]
          },
          "metadata": {},
          "execution_count": 98
        }
      ]
    },
    {
      "cell_type": "code",
      "source": [
        "# Converting the Ordinal Categorical features into integers\n",
        "Q26a_mapping={'I am exercising/moving less':1, \n",
        "             'I am exercising/moving more':0, \n",
        "          \n",
        "              }\n",
        "df['Q26a']= df['Q26a'].map(Q26a_mapping)\n",
        "df['Q26a']"
      ],
      "metadata": {
        "colab": {
          "base_uri": "https://localhost:8080/"
        },
        "id": "cUIGSqS50hu4",
        "outputId": "c7bb36b6-f985-4668-bab0-3a75d4f1a6d9"
      },
      "execution_count": null,
      "outputs": [
        {
          "output_type": "execute_result",
          "data": {
            "text/plain": [
              "0      1\n",
              "1      1\n",
              "2      0\n",
              "3      0\n",
              "4      1\n",
              "      ..\n",
              "257    1\n",
              "258    0\n",
              "259    1\n",
              "260    0\n",
              "261    1\n",
              "Name: Q26a, Length: 262, dtype: int64"
            ]
          },
          "metadata": {},
          "execution_count": 99
        }
      ]
    },
    {
      "cell_type": "code",
      "source": [
        "df[\"Q27a\"].unique()"
      ],
      "metadata": {
        "colab": {
          "base_uri": "https://localhost:8080/"
        },
        "id": "GO5Tjd5D0cTD",
        "outputId": "8d20a51f-0a7d-41b5-8463-529c41ff09d3"
      },
      "execution_count": null,
      "outputs": [
        {
          "output_type": "execute_result",
          "data": {
            "text/plain": [
              "array(['I am eating more healthy foods', 'I am eating less healthy foods'],\n",
              "      dtype=object)"
            ]
          },
          "metadata": {},
          "execution_count": 100
        }
      ]
    },
    {
      "cell_type": "code",
      "source": [
        "# Converting the Ordinal Categorical features into integers\n",
        "Q27a_mapping={'I am eating more healthy foods':1, \n",
        "             'I am eating less healthy foods':0, \n",
        "          \n",
        "              }\n",
        "df['Q27a']= df['Q27a'].map(Q27a_mapping)\n",
        "df['Q27a']"
      ],
      "metadata": {
        "colab": {
          "base_uri": "https://localhost:8080/"
        },
        "id": "TIdRaM2S0ysX",
        "outputId": "80b9e089-266f-4bbf-f818-fe258858b763"
      },
      "execution_count": null,
      "outputs": [
        {
          "output_type": "execute_result",
          "data": {
            "text/plain": [
              "0      1\n",
              "1      1\n",
              "2      0\n",
              "3      0\n",
              "4      0\n",
              "      ..\n",
              "257    0\n",
              "258    0\n",
              "259    0\n",
              "260    1\n",
              "261    0\n",
              "Name: Q27a, Length: 262, dtype: int64"
            ]
          },
          "metadata": {},
          "execution_count": 101
        }
      ]
    },
    {
      "cell_type": "code",
      "source": [
        "df[\"Q28a\"].unique()"
      ],
      "metadata": {
        "colab": {
          "base_uri": "https://localhost:8080/"
        },
        "id": "E_kC1FkF0eH0",
        "outputId": "f8ef3d53-a04f-4ed7-abd5-ca09662bbe85"
      },
      "execution_count": null,
      "outputs": [
        {
          "output_type": "execute_result",
          "data": {
            "text/plain": [
              "array(['I am eating more food each day', 'I am eating less food each day'],\n",
              "      dtype=object)"
            ]
          },
          "metadata": {},
          "execution_count": 102
        }
      ]
    },
    {
      "cell_type": "code",
      "source": [
        "# Converting the Ordinal Categorical features into integers\n",
        "Q28a_mapping={'I am eating more food each day':1, \n",
        "             'I am eating less food each day':0, \n",
        "          \n",
        "              }\n",
        "df['Q28a']= df['Q28a'].map(Q28a_mapping)\n",
        "df['Q28a']"
      ],
      "metadata": {
        "colab": {
          "base_uri": "https://localhost:8080/"
        },
        "id": "dZgJWA4X0-Fo",
        "outputId": "c19af44e-d4e9-4d13-c948-48690cb932fb"
      },
      "execution_count": null,
      "outputs": [
        {
          "output_type": "execute_result",
          "data": {
            "text/plain": [
              "0      1\n",
              "1      0\n",
              "2      1\n",
              "3      1\n",
              "4      1\n",
              "      ..\n",
              "257    1\n",
              "258    1\n",
              "259    1\n",
              "260    1\n",
              "261    1\n",
              "Name: Q28a, Length: 262, dtype: int64"
            ]
          },
          "metadata": {},
          "execution_count": 103
        }
      ]
    },
    {
      "cell_type": "code",
      "source": [
        "# write out the dataset after mapping\n",
        "df.to_csv(\"clean_data.csv\")"
      ],
      "metadata": {
        "id": "dD7CdsNUbWoL"
      },
      "execution_count": null,
      "outputs": []
    },
    {
      "cell_type": "code",
      "source": [
        "from google.colab import files\n",
        "files.download(\"clean_data.csv\")"
      ],
      "metadata": {
        "colab": {
          "base_uri": "https://localhost:8080/",
          "height": 34
        },
        "id": "qXNJgWHZbeMQ",
        "outputId": "a5f149c4-0d7a-48c7-adbb-b534b4246a4b"
      },
      "execution_count": null,
      "outputs": [
        {
          "output_type": "display_data",
          "data": {
            "text/plain": [
              "<IPython.core.display.Javascript object>"
            ],
            "application/javascript": [
              "\n",
              "    async function download(id, filename, size) {\n",
              "      if (!google.colab.kernel.accessAllowed) {\n",
              "        return;\n",
              "      }\n",
              "      const div = document.createElement('div');\n",
              "      const label = document.createElement('label');\n",
              "      label.textContent = `Downloading \"${filename}\": `;\n",
              "      div.appendChild(label);\n",
              "      const progress = document.createElement('progress');\n",
              "      progress.max = size;\n",
              "      div.appendChild(progress);\n",
              "      document.body.appendChild(div);\n",
              "\n",
              "      const buffers = [];\n",
              "      let downloaded = 0;\n",
              "\n",
              "      const channel = await google.colab.kernel.comms.open(id);\n",
              "      // Send a message to notify the kernel that we're ready.\n",
              "      channel.send({})\n",
              "\n",
              "      for await (const message of channel.messages) {\n",
              "        // Send a message to notify the kernel that we're ready.\n",
              "        channel.send({})\n",
              "        if (message.buffers) {\n",
              "          for (const buffer of message.buffers) {\n",
              "            buffers.push(buffer);\n",
              "            downloaded += buffer.byteLength;\n",
              "            progress.value = downloaded;\n",
              "          }\n",
              "        }\n",
              "      }\n",
              "      const blob = new Blob(buffers, {type: 'application/binary'});\n",
              "      const a = document.createElement('a');\n",
              "      a.href = window.URL.createObjectURL(blob);\n",
              "      a.download = filename;\n",
              "      div.appendChild(a);\n",
              "      a.click();\n",
              "      div.remove();\n",
              "    }\n",
              "  "
            ]
          },
          "metadata": {}
        },
        {
          "output_type": "display_data",
          "data": {
            "text/plain": [
              "<IPython.core.display.Javascript object>"
            ],
            "application/javascript": [
              "download(\"download_6177e189-6336-4073-b4a1-e287b9e7f774\", \"clean_data.csv\", 31677)"
            ]
          },
          "metadata": {}
        }
      ]
    },
    {
      "cell_type": "code",
      "source": [
        "data = df"
      ],
      "metadata": {
        "id": "sTm7tJ1q2uud"
      },
      "execution_count": null,
      "outputs": []
    },
    {
      "cell_type": "markdown",
      "source": [
        "## Supervisied ML"
      ],
      "metadata": {
        "id": "-op_oneB1A2E"
      }
    },
    {
      "cell_type": "code",
      "source": [
        "#import libraries\n",
        "from numpy import mean\n",
        "from numpy import std\n",
        "from pandas import read_csv\n",
        "from sklearn.model_selection import train_test_split\n",
        "from sklearn.linear_model import LogisticRegression\n",
        "from sklearn.preprocessing import LabelEncoder\n",
        "from sklearn.preprocessing import OrdinalEncoder\n",
        "from sklearn.metrics import accuracy_score\n",
        "from pandas import read_csv\n",
        "from sklearn.preprocessing import LabelEncoder\n",
        "from sklearn.preprocessing import OneHotEncoder"
      ],
      "metadata": {
        "id": "5a1QPkyz2Q0m"
      },
      "execution_count": null,
      "outputs": []
    },
    {
      "cell_type": "code",
      "source": [
        "import pandas as pd\n",
        "import sklearn as sk\n",
        "from sklearn.linear_model import LogisticRegression\n",
        "from sklearn import svm\n",
        "from sklearn.ensemble import RandomForestClassifier\n",
        "from sklearn.neural_network import MLPClassifier\n",
        "from sklearn.model_selection import train_test_split\n",
        "\n",
        "from sklearn.metrics import f1_score"
      ],
      "metadata": {
        "id": "BTWhd4Wy2sKn"
      },
      "execution_count": null,
      "outputs": []
    },
    {
      "cell_type": "code",
      "source": [
        "data.columns"
      ],
      "metadata": {
        "colab": {
          "base_uri": "https://localhost:8080/"
        },
        "id": "MgUpfdxS5JYm",
        "outputId": "122f92b3-5ceb-4878-993b-3867ac6c1fe5"
      },
      "execution_count": null,
      "outputs": [
        {
          "output_type": "execute_result",
          "data": {
            "text/plain": [
              "Index(['Q1', 'Q2', 'Q3', 'Q8', 'Q9', 'Q10', 'Q11', 'Q11a', 'Q11b', 'Q12',\n",
              "       'Q13', 'Q14', 'Q14a', 'Q15', 'Q16', 'Q16a', 'Q16b', 'Q17', 'Q18',\n",
              "       'Q18a', 'Q19', 'Q20', 'Q21', 'Q22', 'Q23', 'Q24', 'Q25', 'Q26', 'Q26a',\n",
              "       'Q27', 'Q27a', 'Q28', 'Q28a', 'Q29', 'Q29a'],\n",
              "      dtype='object')"
            ]
          },
          "metadata": {},
          "execution_count": 172
        }
      ]
    },
    {
      "cell_type": "code",
      "source": [
        "data.shape"
      ],
      "metadata": {
        "colab": {
          "base_uri": "https://localhost:8080/"
        },
        "id": "Mm2B2J5kEMVw",
        "outputId": "58bc005d-faab-4aba-addd-e5acc46778c5"
      },
      "execution_count": null,
      "outputs": [
        {
          "output_type": "execute_result",
          "data": {
            "text/plain": [
              "(262, 35)"
            ]
          },
          "metadata": {},
          "execution_count": 163
        }
      ]
    },
    {
      "cell_type": "code",
      "source": [
        "# split into input (X) and output (y) variables\n",
        "X = data.loc[:,data.columns !='Q18a'].astype(str)\n",
        "y = data['Q18a'].astype(str)\n",
        "# one hot encode input variables\n",
        "onehot_encoder = OneHotEncoder(sparse=False)\n",
        "X = onehot_encoder.fit_transform(X)\n",
        "# ordinal encode target variable\n",
        "label_encoder = LabelEncoder()\n",
        "y = label_encoder.fit_transform(y)\n",
        "# summarize\n",
        "print('Input', X.shape)\n",
        "print('Output', y.shape)\n",
        "\n",
        "X_train, X_test, y_train, y_test = train_test_split(X, y, test_size=0.33, random_state=1)\n",
        "X_tr=X_train\n",
        "y_tr=y_train"
      ],
      "metadata": {
        "colab": {
          "base_uri": "https://localhost:8080/"
        },
        "id": "wbcsA18_2pKB",
        "outputId": "5227416f-39f9-4568-9c3e-a414c3fd9fb8"
      },
      "execution_count": null,
      "outputs": [
        {
          "output_type": "stream",
          "name": "stdout",
          "text": [
            "Input (262, 188)\n",
            "Output (262,)\n"
          ]
        }
      ]
    },
    {
      "cell_type": "code",
      "source": [
        "# logistic regression classifier testing score\n",
        "LR = LogisticRegression(random_state=0, solver='lbfgs').fit(X_tr, y_tr)\n",
        "LR.predict(X_test)\n",
        "round(LR.score(X_test,y_test), 4)"
      ],
      "metadata": {
        "colab": {
          "base_uri": "https://localhost:8080/"
        },
        "id": "ifL6sWc32i22",
        "outputId": "f7bc9220-4b32-4061-e35a-242285cd86b2"
      },
      "execution_count": null,
      "outputs": [
        {
          "output_type": "execute_result",
          "data": {
            "text/plain": [
              "0.8046"
            ]
          },
          "metadata": {},
          "execution_count": 111
        }
      ]
    },
    {
      "cell_type": "code",
      "source": [
        "# logistic regression classifier training score\n",
        "LR = LogisticRegression(random_state=0, solver='lbfgs').fit(X_tr, y_tr)\n",
        "LR.predict(X_test)\n",
        "round(LR.score(X_tr,y_tr), 4)"
      ],
      "metadata": {
        "colab": {
          "base_uri": "https://localhost:8080/"
        },
        "id": "hkel5Dmr22qH",
        "outputId": "203187bf-c3c7-4336-c1d7-824ee54278bd"
      },
      "execution_count": null,
      "outputs": [
        {
          "output_type": "execute_result",
          "data": {
            "text/plain": [
              "0.9943"
            ]
          },
          "metadata": {},
          "execution_count": 112
        }
      ]
    },
    {
      "cell_type": "code",
      "source": [
        "# use f_1 score for testing results \n",
        "pred_LR = LR.predict(X_test)\n",
        "f1_score(y_test, pred_LR, pos_label='positive', average = 'micro')"
      ],
      "metadata": {
        "colab": {
          "base_uri": "https://localhost:8080/"
        },
        "id": "KA_jdRF1_ENm",
        "outputId": "2ba4632d-6ac0-41c4-9c95-f49f55646bcb"
      },
      "execution_count": null,
      "outputs": [
        {
          "output_type": "execute_result",
          "data": {
            "text/plain": [
              "0.8045977011494253"
            ]
          },
          "metadata": {},
          "execution_count": 113
        }
      ]
    },
    {
      "cell_type": "code",
      "source": [
        "# SVM testing score\n",
        "SVM = svm.SVC().fit(X_tr, y_tr)\n",
        "SVM.predict(X_test)\n",
        "round(SVM.score(X_test, y_test), 4)"
      ],
      "metadata": {
        "colab": {
          "base_uri": "https://localhost:8080/"
        },
        "id": "nzWlK0bh24zu",
        "outputId": "de5c57e2-8cd5-44a7-b265-3c7aab7c2918"
      },
      "execution_count": null,
      "outputs": [
        {
          "output_type": "execute_result",
          "data": {
            "text/plain": [
              "0.7931"
            ]
          },
          "metadata": {},
          "execution_count": 114
        }
      ]
    },
    {
      "cell_type": "code",
      "source": [
        "# SVM trainig score\n",
        "SVM = svm.SVC().fit(X_tr, y_tr)\n",
        "SVM.predict(X_test)\n",
        "round(SVM.score(X_tr,y_tr), 4)"
      ],
      "metadata": {
        "colab": {
          "base_uri": "https://localhost:8080/"
        },
        "id": "TDyKduy_289P",
        "outputId": "c6a81cbe-9b43-4c55-9153-2b22bc6fe586"
      },
      "execution_count": null,
      "outputs": [
        {
          "output_type": "execute_result",
          "data": {
            "text/plain": [
              "0.8914"
            ]
          },
          "metadata": {},
          "execution_count": 115
        }
      ]
    },
    {
      "cell_type": "code",
      "source": [
        "# use f_1 score for testing results \n",
        "pred_SVM = SVM.predict(X_test)\n",
        "f1_score(y_test, pred_SVM, pos_label='positive', average = 'micro')"
      ],
      "metadata": {
        "colab": {
          "base_uri": "https://localhost:8080/"
        },
        "id": "2REAPHs6_Sr1",
        "outputId": "dfff8bdf-e15d-450d-cf55-d8b734da3062"
      },
      "execution_count": null,
      "outputs": [
        {
          "output_type": "execute_result",
          "data": {
            "text/plain": [
              "0.7931034482758621"
            ]
          },
          "metadata": {},
          "execution_count": 116
        }
      ]
    },
    {
      "cell_type": "code",
      "source": [
        "# multilayer perceptron on testing dataset\n",
        "NN = MLPClassifier(solver='lbfgs', alpha=1e-5, hidden_layer_sizes=(20, 12), random_state=1).fit(X_tr, y_tr)\n",
        "NN.predict(X_test)\n",
        "round(NN.score(X_test, y_test), 4)"
      ],
      "metadata": {
        "colab": {
          "base_uri": "https://localhost:8080/"
        },
        "id": "1H5ZRbSQ2_WU",
        "outputId": "77bd5d0c-bf8b-4bc6-ad28-dc238b639b6c"
      },
      "execution_count": null,
      "outputs": [
        {
          "output_type": "execute_result",
          "data": {
            "text/plain": [
              "0.7816"
            ]
          },
          "metadata": {},
          "execution_count": 140
        }
      ]
    },
    {
      "cell_type": "code",
      "source": [
        "# multilayer perceptron on the training datatset\n",
        "NN = MLPClassifier(solver='lbfgs', alpha=1e-5, hidden_layer_sizes=(20, 12), random_state=1).fit(X_tr, y_tr)\n",
        "NN.predict(X_test)\n",
        "round(NN.score(X_tr,y_tr), 4)"
      ],
      "metadata": {
        "colab": {
          "base_uri": "https://localhost:8080/"
        },
        "id": "xZZbqHR63CGH",
        "outputId": "1b65ca49-915b-414a-fa96-9aa593e44d44"
      },
      "execution_count": null,
      "outputs": [
        {
          "output_type": "execute_result",
          "data": {
            "text/plain": [
              "1.0"
            ]
          },
          "metadata": {},
          "execution_count": 141
        }
      ]
    },
    {
      "cell_type": "code",
      "source": [
        "# use f_1 score for testing results\n",
        "pred_NN = NN.predict(X_test)\n",
        "f1_score(y_test, pred_NN, pos_label='positive', average = 'micro')"
      ],
      "metadata": {
        "colab": {
          "base_uri": "https://localhost:8080/"
        },
        "id": "Si0CB65k_ZLQ",
        "outputId": "3f5e56db-e085-4544-cc18-50a81fa45443"
      },
      "execution_count": null,
      "outputs": [
        {
          "output_type": "stream",
          "name": "stderr",
          "text": [
            "/usr/local/lib/python3.7/dist-packages/sklearn/metrics/_classification.py:1375: UserWarning: Note that pos_label (set to 'positive') is ignored when average != 'binary' (got 'micro'). You may use labels=[pos_label] to specify a single positive class.\n",
            "  UserWarning,\n"
          ]
        },
        {
          "output_type": "execute_result",
          "data": {
            "text/plain": [
              "0.8045977011494253"
            ]
          },
          "metadata": {},
          "execution_count": 15
        }
      ]
    },
    {
      "cell_type": "code",
      "source": [
        "# KNN on testing dataset \n",
        "from sklearn.neighbors import KNeighborsClassifier\n",
        "error = []\n",
        "\n",
        "KNN = KNeighborsClassifier(n_neighbors=4)\n",
        "KNN.fit(X_tr, y_tr)\n",
        "KNN.predict(X_test)\n",
        "KNN.score(X_test,y_test)"
      ],
      "metadata": {
        "colab": {
          "base_uri": "https://localhost:8080/"
        },
        "id": "c2HdNIWc3RpD",
        "outputId": "1cd7748f-8211-4adc-8f2a-49d1b7daafd5"
      },
      "execution_count": null,
      "outputs": [
        {
          "output_type": "execute_result",
          "data": {
            "text/plain": [
              "0.7816091954022989"
            ]
          },
          "metadata": {},
          "execution_count": 16
        }
      ]
    },
    {
      "cell_type": "code",
      "source": [
        "# KNN on training dataset\n",
        "from sklearn.neighbors import KNeighborsClassifier\n",
        "error = []\n",
        "\n",
        "KNN = KNeighborsClassifier(n_neighbors=4)\n",
        "KNN.fit(X_tr, y_tr)\n",
        "KNN.predict(X_test)\n",
        "round(KNN.score(X_tr,y_tr), 4)"
      ],
      "metadata": {
        "colab": {
          "base_uri": "https://localhost:8080/"
        },
        "id": "8yOnooWf3Xof",
        "outputId": "672e4fc3-856d-4771-d5c1-5a46c69e13de"
      },
      "execution_count": null,
      "outputs": [
        {
          "output_type": "execute_result",
          "data": {
            "text/plain": [
              "0.9143"
            ]
          },
          "metadata": {},
          "execution_count": 17
        }
      ]
    },
    {
      "cell_type": "code",
      "source": [
        "# use f_1 score for testing results \n",
        "pred_KNN = KNN.predict(X_test)\n",
        "f1_score(y_test, pred_KNN, pos_label='positive', average = 'micro')"
      ],
      "metadata": {
        "colab": {
          "base_uri": "https://localhost:8080/"
        },
        "id": "944hy3L0_gag",
        "outputId": "f56f1cc9-b6ff-41d8-f291-248bbdaa0d98"
      },
      "execution_count": null,
      "outputs": [
        {
          "output_type": "stream",
          "name": "stderr",
          "text": [
            "/usr/local/lib/python3.7/dist-packages/sklearn/metrics/_classification.py:1375: UserWarning: Note that pos_label (set to 'positive') is ignored when average != 'binary' (got 'micro'). You may use labels=[pos_label] to specify a single positive class.\n",
            "  UserWarning,\n"
          ]
        },
        {
          "output_type": "execute_result",
          "data": {
            "text/plain": [
              "0.781609195402299"
            ]
          },
          "metadata": {},
          "execution_count": 18
        }
      ]
    },
    {
      "cell_type": "code",
      "source": [
        "# decision tree on testing data\n",
        "from sklearn.tree import DecisionTreeClassifier # Import Decision Tree Classifier\n",
        "clf = DecisionTreeClassifier(criterion=\"entropy\", max_depth=3)\n",
        "clf.fit(X_tr, y_tr)\n",
        "clf.predict(X_test)\n",
        "round(clf.score(X_test,y_test), 4)"
      ],
      "metadata": {
        "colab": {
          "base_uri": "https://localhost:8080/"
        },
        "id": "kc5Ryr7P3bxy",
        "outputId": "f0352098-46a0-488a-9d97-4ed778417f7b"
      },
      "execution_count": null,
      "outputs": [
        {
          "output_type": "execute_result",
          "data": {
            "text/plain": [
              "0.954"
            ]
          },
          "metadata": {},
          "execution_count": 122
        }
      ]
    },
    {
      "cell_type": "code",
      "source": [
        "# decision tree on training data\n",
        "from sklearn.tree import DecisionTreeClassifier # Import Decision Tree Classifier\n",
        "clf = DecisionTreeClassifier(criterion=\"entropy\", max_depth=3)\n",
        "clf.fit(X_tr, y_tr)\n",
        "clf.predict(X_test)\n",
        "round(clf.score(X_tr,y_tr), 4)"
      ],
      "metadata": {
        "colab": {
          "base_uri": "https://localhost:8080/"
        },
        "id": "HeOB1j5T0x_V",
        "outputId": "ccb37430-9661-4613-b337-e0f140a7e98f"
      },
      "execution_count": null,
      "outputs": [
        {
          "output_type": "execute_result",
          "data": {
            "text/plain": [
              "0.9714"
            ]
          },
          "metadata": {},
          "execution_count": 132
        }
      ]
    },
    {
      "cell_type": "code",
      "source": [
        "# f_1 score on the testing results \n",
        "pred_DT = clf.predict(X_test)\n",
        "f1_score(y_test, pred_DT, pos_label='positive', average = 'micro')"
      ],
      "metadata": {
        "colab": {
          "base_uri": "https://localhost:8080/"
        },
        "id": "ytqQPEvy06B8",
        "outputId": "e391c686-a4a8-4b26-e6be-e9f9e29a7877"
      },
      "execution_count": null,
      "outputs": [
        {
          "output_type": "execute_result",
          "data": {
            "text/plain": [
              "0.9540229885057472"
            ]
          },
          "metadata": {},
          "execution_count": 133
        }
      ]
    },
    {
      "cell_type": "code",
      "source": [
        "\n",
        "import pandas as pd\n",
        "import numpy as np\n",
        "import matplotlib.pyplot as plt\n",
        "import seaborn as sns\n",
        "from sklearn.preprocessing import LabelEncoder\n",
        "from sklearn.preprocessing import OneHotEncoder\n",
        "import warnings\n",
        "warnings.filterwarnings(\"ignore\")\n",
        "# load and summarize the dataset\n",
        "from pandas import read_csv\n",
        "from collections import Counter\n",
        "from matplotlib import pyplot\n",
        "from sklearn.preprocessing import LabelEncoder\n",
        "# xgboost for classification\n",
        "from numpy import asarray\n",
        "from numpy import mean\n",
        "from numpy import std\n",
        "from sklearn.datasets import make_classification\n",
        "from xgboost import XGBClassifier\n",
        "from sklearn.model_selection import cross_val_score\n",
        "from sklearn.model_selection import RepeatedStratifiedKFold\n",
        "from matplotlib import pyplot"
      ],
      "metadata": {
        "id": "iU2hwr822Vbr"
      },
      "execution_count": null,
      "outputs": []
    },
    {
      "cell_type": "code",
      "source": [
        "# feature importance score analysis with decisiontree classifier\n",
        "df4 = data\n",
        "\n",
        "# split into input (X) and output (y) variables\n",
        "X = df4.loc[:,df4.columns !='Q18a']\n",
        "y = df4['Q18a']\n",
        "# evaluate the model\n",
        "model = DecisionTreeClassifier(criterion=\"entropy\", max_depth=3)\n",
        "empty=[]\n",
        "\n",
        "cv = RepeatedStratifiedKFold(n_splits=9, n_repeats=3, random_state=1)\n",
        "n_scores = cross_val_score(model, X, y, scoring='accuracy', cv=cv, n_jobs=-1, error_score='raise')\n",
        "print('Accuracy: %.3f (%.3f) \\n' % (mean(n_scores), std(n_scores)))\n",
        "# fit the model on the whole dataset\n",
        "empty.append(mean(n_scores))\n",
        "model = DecisionTreeClassifier(criterion=\"entropy\", max_depth=3)\n",
        "model.fit(X, y)\n",
        "names = range(2,20)\n",
        "values = empty\n",
        "\n",
        "# get importance\n",
        "importance = model.feature_importances_\n",
        "# summarize feature importance\n",
        "for i,v in enumerate(importance):\n",
        "\tprint('Feature: %0d, Score: %.5f' % (i,v))\n",
        "# plot feature importance\n",
        "pyplot.bar([x for x in range(len(importance))], importance)\n",
        "pyplot.show()\n",
        "\n",
        "import matplotlib.pyplot as plt\n",
        "   \n",
        "#C = ['Q1', 'Q2', 'Q3', 'Q8', 'Q9', 'Q10', 'Q11', 'Q12', 'Q13', 'Q14', 'Q15',\n",
        "#       'Q16', 'Q17', 'Q18', 'Q19', 'Q20', 'Q21', 'Q22', 'Q23', 'Q24',\n",
        "#       'Q25', 'Q26', 'Q27', 'Q28', 'Q29']\n",
        "\n",
        "C = ['Q1', 'Q2', 'Q3','Q8', 'Q9', 'Q10', 'Q11', 'Q11a', 'Q11b', 'Q12', 'Q13',\n",
        "       'Q14', 'Q14a', 'Q15', 'Q16', 'Q16a', 'Q16b', 'Q17', 'Q18', 'Q18a',\n",
        "       'Q19', 'Q20', 'Q21', 'Q22', 'Q23', 'Q24', 'Q25', 'Q26', 'Q26a', 'Q27',\n",
        "       'Q27a', 'Q28', 'Q28a', 'Q29']\n",
        "\n",
        "GC = importance\n",
        "# plotting a line plot after changing it's width and height\n",
        "f = plt.figure()\n",
        "f.set_figwidth(10)\n",
        "f.set_figheight(8)\n",
        "plt.xticks(rotation=45, ha='right')\n",
        "plt.grid(True)\n",
        "\n",
        "plt.bar(C, GC)\n",
        "plt.ylabel('Importance')\n",
        "plt.xlabel('Feature')\n",
        "plt.show()\n"
      ],
      "metadata": {
        "colab": {
          "base_uri": "https://localhost:8080/",
          "height": 1000
        },
        "id": "Xbh90dqB58Ja",
        "outputId": "847d8d07-1347-4571-933d-e224d7ace0d5"
      },
      "execution_count": null,
      "outputs": [
        {
          "output_type": "stream",
          "name": "stdout",
          "text": [
            "Accuracy: 0.912 (0.033) \n",
            "\n",
            "Feature: 0, Score: 0.09469\n",
            "Feature: 1, Score: 0.00000\n",
            "Feature: 2, Score: 0.00000\n",
            "Feature: 3, Score: 0.00000\n",
            "Feature: 4, Score: 0.00000\n",
            "Feature: 5, Score: 0.00000\n",
            "Feature: 6, Score: 0.00000\n",
            "Feature: 7, Score: 0.00000\n",
            "Feature: 8, Score: 0.00000\n",
            "Feature: 9, Score: 0.00000\n",
            "Feature: 10, Score: 0.00000\n",
            "Feature: 11, Score: 0.00000\n",
            "Feature: 12, Score: 0.00000\n",
            "Feature: 13, Score: 0.00000\n",
            "Feature: 14, Score: 0.00000\n",
            "Feature: 15, Score: 0.00000\n",
            "Feature: 16, Score: 0.00000\n",
            "Feature: 17, Score: 0.00000\n",
            "Feature: 18, Score: 0.00000\n",
            "Feature: 19, Score: 0.14176\n",
            "Feature: 20, Score: 0.65583\n",
            "Feature: 21, Score: 0.00000\n",
            "Feature: 22, Score: 0.00000\n",
            "Feature: 23, Score: 0.00000\n",
            "Feature: 24, Score: 0.00000\n",
            "Feature: 25, Score: 0.05102\n",
            "Feature: 26, Score: 0.00000\n",
            "Feature: 27, Score: 0.00000\n",
            "Feature: 28, Score: 0.00000\n",
            "Feature: 29, Score: 0.00000\n",
            "Feature: 30, Score: 0.00000\n",
            "Feature: 31, Score: 0.00000\n",
            "Feature: 32, Score: 0.00000\n",
            "Feature: 33, Score: 0.05670\n"
          ]
        },
        {
          "output_type": "display_data",
          "data": {
            "text/plain": [
              "<Figure size 432x288 with 1 Axes>"
            ],
            "image/png": "[encoded data removed]"
          },
          "metadata": {
            "needs_background": "light"
          }
        },
        {
          "output_type": "display_data",
          "data": {
            "text/plain": [
              "<Figure size 720x576 with 1 Axes>"
            ],
            "image/png": "[encoded data removed]"
          },
          "metadata": {
            "needs_background": "light"
          }
        }
      ]
    },
    {
      "cell_type": "code",
      "source": [
        "# ensemble method with logistic regression and svm\n",
        "from sklearn.ensemble import VotingClassifier\n",
        "estimators = [(\"LogisticRegression\", LR),(\"SVM\", SVM)]\n",
        "ensemble1 = VotingClassifier(estimators, voting ='hard')\n",
        "ensemble1.fit(X_tr, y_tr)\n",
        "round(ensemble1.score(X_tr,y_tr), 4)"
      ],
      "metadata": {
        "colab": {
          "base_uri": "https://localhost:8080/"
        },
        "id": "JeJATVpvBl9S",
        "outputId": "1618236b-f91e-4dda-ddd8-078682452f17"
      },
      "execution_count": null,
      "outputs": [
        {
          "output_type": "execute_result",
          "data": {
            "text/plain": [
              "0.9943"
            ]
          },
          "metadata": {},
          "execution_count": 137
        }
      ]
    },
    {
      "cell_type": "code",
      "source": [
        "pred_ensemble1 = ensemble1.predict(X_test)\n",
        "f1_score(y_test, pred_ensemble1, pos_label='positive', average = 'micro')"
      ],
      "metadata": {
        "colab": {
          "base_uri": "https://localhost:8080/"
        },
        "id": "BjapSUG2CO-b",
        "outputId": "3ddee634-3356-4289-96f4-0d89f4569980"
      },
      "execution_count": null,
      "outputs": [
        {
          "output_type": "execute_result",
          "data": {
            "text/plain": [
              "0.8045977011494253"
            ]
          },
          "metadata": {},
          "execution_count": 142
        }
      ]
    },
    {
      "cell_type": "code",
      "source": [
        "# ensemble method with log_reg, svm, multilayer perceptron\n",
        "from sklearn.ensemble import VotingClassifier\n",
        "estimators = [(\"LogisticRegression\", LR),(\"SVM\", SVM), (\"NN\", NN)]\n",
        "ensemble2 = VotingClassifier(estimators, voting ='hard')\n",
        "ensemble2.fit(X_tr, y_tr)\n",
        "round(ensemble2.score(X_tr,y_tr), 4)"
      ],
      "metadata": {
        "colab": {
          "base_uri": "https://localhost:8080/"
        },
        "id": "C3wbJymOK7QD",
        "outputId": "d507d530-0104-461e-c0a4-30ee141793e6"
      },
      "execution_count": null,
      "outputs": [
        {
          "output_type": "execute_result",
          "data": {
            "text/plain": [
              "0.9943"
            ]
          },
          "metadata": {},
          "execution_count": 143
        }
      ]
    },
    {
      "cell_type": "code",
      "source": [
        "pred_ensemble2 = ensemble2.predict(X_test)\n",
        "f1_score(y_test, pred_ensemble2, pos_label='positive', average = 'micro')"
      ],
      "metadata": {
        "colab": {
          "base_uri": "https://localhost:8080/"
        },
        "id": "WGloGHm7CXMV",
        "outputId": "e0be9a46-2c5b-421a-bb38-323cd0b45c3c"
      },
      "execution_count": null,
      "outputs": [
        {
          "output_type": "execute_result",
          "data": {
            "text/plain": [
              "0.8045977011494253"
            ]
          },
          "metadata": {},
          "execution_count": 117
        }
      ]
    },
    {
      "cell_type": "code",
      "source": [
        "# Ensemble using LR, SVM, NN, KNN, DT\n",
        "estimators = [(\"LogisticRegression\", LR),(\"SVM\", SVM), (\"NN\", NN), (\"KNN\", KNN), (\"DT\", clf)]\n",
        "ensemble_all = VotingClassifier(estimators, voting ='hard')\n",
        "ensemble_all.fit(X_tr, y_tr)\n",
        "round(ensemble_all.score(X_tr,y_tr), 4)"
      ],
      "metadata": {
        "colab": {
          "base_uri": "https://localhost:8080/"
        },
        "id": "VWdmqN_jKQ7Y",
        "outputId": "1de53aec-c08a-4bf3-fc8a-b45543d867e4"
      },
      "execution_count": null,
      "outputs": [
        {
          "output_type": "execute_result",
          "data": {
            "text/plain": [
              "0.9886"
            ]
          },
          "metadata": {},
          "execution_count": 120
        }
      ]
    },
    {
      "cell_type": "code",
      "source": [
        "# testing accuracy score\n",
        "ensemble_all.fit(X_test, y_test)\n",
        "round(ensemble_all.score(X_test, y_test), 4)"
      ],
      "metadata": {
        "colab": {
          "base_uri": "https://localhost:8080/"
        },
        "id": "Kxs9MGK2ONmn",
        "outputId": "77b29cce-5059-4420-db8f-c02377a67c8d"
      },
      "execution_count": null,
      "outputs": [
        {
          "output_type": "execute_result",
          "data": {
            "text/plain": [
              "0.9329"
            ]
          },
          "metadata": {},
          "execution_count": 140
        }
      ]
    },
    {
      "cell_type": "code",
      "source": [
        "# f_1 score for testing results \n",
        "pred_ensemble_all = ensemble_all.predict(X_test)\n",
        "f1_score(y_test, pred_ensemble_all, pos_label='positive', average = 'micro')"
      ],
      "metadata": {
        "colab": {
          "base_uri": "https://localhost:8080/"
        },
        "id": "MgPjTvln_8IG",
        "outputId": "951879fc-e12a-41da-ef58-ad79e4827f01"
      },
      "execution_count": null,
      "outputs": [
        {
          "output_type": "execute_result",
          "data": {
            "text/plain": [
              "0.8160919540229885"
            ]
          },
          "metadata": {},
          "execution_count": 121
        }
      ]
    },
    {
      "cell_type": "code",
      "source": [
        "\n",
        "# data = df4.values\n",
        "data = df4.values\n",
        "\n",
        "# split into input (X) and output (y) variables\n",
        "X = df4.loc[:,df4.columns !='Q18a']\n",
        "y = df4['Q18a']\n",
        "# evaluate the model\n",
        "model = XGBClassifier()\n",
        "empty=[]\n",
        "\n",
        "cv = RepeatedStratifiedKFold(n_splits=9, n_repeats=3, random_state=1)\n",
        "n_scores = cross_val_score(model, X, y, scoring='accuracy', cv=cv, n_jobs=-1, error_score='raise')\n",
        "print('Accuracy: %.3f (%.3f) \\n' % (mean(n_scores), std(n_scores)))\n",
        "# fit the model on the whole dataset\n",
        "empty.append(mean(n_scores))\n",
        "model = XGBClassifier()\n",
        "model.fit(X, y)\n",
        "names = range(2,20)\n",
        "values = empty\n",
        "\n",
        "# get importance\n",
        "importance = model.feature_importances_\n",
        "# summarize feature importance\n",
        "for i,v in enumerate(importance):\n",
        "\tprint('Feature: %0d, Score: %.5f' % (i,v))\n",
        "# plot feature importance\n",
        "pyplot.bar([x for x in range(len(importance))], importance)\n",
        "pyplot.show()\n",
        "\n",
        "import matplotlib.pyplot as plt\n",
        "   \n",
        "#C = ['Q1', 'Q2', 'Q3', 'Q8', 'Q9', 'Q10', 'Q11', 'Q12', 'Q13', 'Q14', 'Q15',\n",
        "#       'Q16', 'Q17', 'Q18', 'Q19', 'Q20', 'Q21', 'Q22', 'Q23', 'Q24',\n",
        "#       'Q25', 'Q26', 'Q27', 'Q28', 'Q29']\n",
        "\n",
        "C = ['Q1', 'Q2', 'Q3','Q8', 'Q9', 'Q10', 'Q11', 'Q11a', 'Q11b', 'Q12', 'Q13',\n",
        "       'Q14', 'Q14a', 'Q15', 'Q16', 'Q16a', 'Q16b', 'Q17', 'Q18', 'Q18a',\n",
        "       'Q19', 'Q20', 'Q21', 'Q22', 'Q23', 'Q24', 'Q25', 'Q26', 'Q26a', 'Q27',\n",
        "       'Q27a', 'Q28', 'Q28a', 'Q29']\n",
        "\n",
        "GC = importance\n",
        "# plotting a line plot after changing it's width and height\n",
        "f = plt.figure()\n",
        "f.set_figwidth(10)\n",
        "f.set_figheight(8)\n",
        "plt.xticks(rotation=45, ha='right')\n",
        "plt.grid(True)\n",
        "\n",
        "plt.bar(C, GC)\n",
        "plt.ylabel('Importance')\n",
        "plt.xlabel('Feature')\n",
        "plt.show()"
      ],
      "metadata": {
        "colab": {
          "base_uri": "https://localhost:8080/",
          "height": 1000
        },
        "id": "dXO0A4Agey91",
        "outputId": "a32d8ebb-7e0d-4f74-eb7c-b6dc7259ec14"
      },
      "execution_count": null,
      "outputs": [
        {
          "output_type": "stream",
          "name": "stdout",
          "text": [
            "Accuracy: 0.949 (0.030) \n",
            "\n",
            "Feature: 0, Score: 0.02665\n",
            "Feature: 1, Score: 0.05551\n",
            "Feature: 2, Score: 0.00000\n",
            "Feature: 3, Score: 0.02586\n",
            "Feature: 4, Score: 0.00559\n",
            "Feature: 5, Score: 0.02716\n",
            "Feature: 6, Score: 0.05879\n",
            "Feature: 7, Score: 0.04480\n",
            "Feature: 8, Score: 0.00000\n",
            "Feature: 9, Score: 0.03621\n",
            "Feature: 10, Score: 0.04321\n",
            "Feature: 11, Score: 0.00000\n",
            "Feature: 12, Score: 0.02748\n",
            "Feature: 13, Score: 0.02490\n",
            "Feature: 14, Score: 0.03934\n",
            "Feature: 15, Score: 0.00000\n",
            "Feature: 16, Score: 0.00000\n",
            "Feature: 17, Score: 0.00000\n",
            "Feature: 18, Score: 0.00000\n",
            "Feature: 19, Score: 0.10650\n",
            "Feature: 20, Score: 0.17230\n",
            "Feature: 21, Score: 0.02117\n",
            "Feature: 22, Score: 0.02582\n",
            "Feature: 23, Score: 0.03591\n",
            "Feature: 24, Score: 0.01200\n",
            "Feature: 25, Score: 0.03457\n",
            "Feature: 26, Score: 0.00000\n",
            "Feature: 27, Score: 0.00000\n",
            "Feature: 28, Score: 0.01731\n",
            "Feature: 29, Score: 0.04847\n",
            "Feature: 30, Score: 0.02884\n",
            "Feature: 31, Score: 0.03133\n",
            "Feature: 32, Score: 0.01519\n",
            "Feature: 33, Score: 0.03510\n"
          ]
        },
        {
          "output_type": "display_data",
          "data": {
            "text/plain": [
              "<Figure size 432x288 with 1 Axes>"
            ],
            "image/png": "[encoded data removed]"
          },
          "metadata": {
            "needs_background": "light"
          }
        },
        {
          "output_type": "display_data",
          "data": {
            "text/plain": [
              "<Figure size 720x576 with 1 Axes>"
            ],
            "image/png": "[encoded data removed]"
          },
          "metadata": {
            "needs_background": "light"
          }
        }
      ]
    },
    {
      "cell_type": "markdown",
      "source": [
        "## Following models do not exceed the 95% accuracy,but we still conduct feature importance score anlysis to get some insights"
      ],
      "metadata": {
        "id": "IthDcTRl4Ws4"
      }
    },
    {
      "cell_type": "code",
      "source": [
        "# Install catboost library \n",
        "!pip install catboost"
      ],
      "metadata": {
        "colab": {
          "base_uri": "https://localhost:8080/"
        },
        "id": "wDsPgK7BHjdD",
        "outputId": "eab1d331-d678-49f4-d5f5-e98490e7b691"
      },
      "execution_count": null,
      "outputs": [
        {
          "output_type": "stream",
          "name": "stdout",
          "text": [
            "Collecting catboost\n",
            "  Downloading catboost-1.0.5-cp37-none-manylinux1_x86_64.whl (76.6 MB)\n",
            "\u001b[K     |████████████████████████████████| 76.6 MB 1.3 MB/s \n",
            "\u001b[?25hRequirement already satisfied: six in /usr/local/lib/python3.7/dist-packages (from catboost) (1.15.0)\n",
            "Requirement already satisfied: matplotlib in /usr/local/lib/python3.7/dist-packages (from catboost) (3.2.2)\n",
            "Requirement already satisfied: numpy>=1.16.0 in /usr/local/lib/python3.7/dist-packages (from catboost) (1.21.6)\n",
            "Requirement already satisfied: pandas>=0.24.0 in /usr/local/lib/python3.7/dist-packages (from catboost) (1.3.5)\n",
            "Requirement already satisfied: graphviz in /usr/local/lib/python3.7/dist-packages (from catboost) (0.10.1)\n",
            "Requirement already satisfied: plotly in /usr/local/lib/python3.7/dist-packages (from catboost) (5.5.0)\n",
            "Requirement already satisfied: scipy in /usr/local/lib/python3.7/dist-packages (from catboost) (1.4.1)\n",
            "Requirement already satisfied: python-dateutil>=2.7.3 in /usr/local/lib/python3.7/dist-packages (from pandas>=0.24.0->catboost) (2.8.2)\n",
            "Requirement already satisfied: pytz>=2017.3 in /usr/local/lib/python3.7/dist-packages (from pandas>=0.24.0->catboost) (2022.1)\n",
            "Requirement already satisfied: cycler>=0.10 in /usr/local/lib/python3.7/dist-packages (from matplotlib->catboost) (0.11.0)\n",
            "Requirement already satisfied: kiwisolver>=1.0.1 in /usr/local/lib/python3.7/dist-packages (from matplotlib->catboost) (1.4.2)\n",
            "Requirement already satisfied: pyparsing!=2.0.4,!=2.1.2,!=2.1.6,>=2.0.1 in /usr/local/lib/python3.7/dist-packages (from matplotlib->catboost) (3.0.8)\n",
            "Requirement already satisfied: typing-extensions in /usr/local/lib/python3.7/dist-packages (from kiwisolver>=1.0.1->matplotlib->catboost) (4.1.1)\n",
            "Requirement already satisfied: tenacity>=6.2.0 in /usr/local/lib/python3.7/dist-packages (from plotly->catboost) (8.0.1)\n",
            "Installing collected packages: catboost\n",
            "Successfully installed catboost-1.0.5\n"
          ]
        }
      ]
    },
    {
      "cell_type": "code",
      "source": [
        "from sklearn.preprocessing import LabelEncoder\n",
        "from sklearn.preprocessing import OneHotEncoder\n",
        "import warnings\n",
        "warnings.filterwarnings(\"ignore\")\n",
        "from pandas import read_csv\n",
        "from collections import Counter\n",
        "from matplotlib import pyplot\n",
        "from sklearn.preprocessing import LabelEncoder\n",
        "from numpy import asarray\n",
        "from numpy import mean\n",
        "from numpy import std\n",
        "from sklearn.datasets import make_classification\n",
        "from xgboost import XGBClassifier\n",
        "from sklearn.model_selection import cross_val_score\n",
        "from sklearn.model_selection import RepeatedStratifiedKFold\n",
        "from matplotlib import pyplot\n",
        "from numpy import mean\n",
        "from numpy import std\n",
        "from sklearn.datasets import make_classification\n",
        "from catboost import CatBoostClassifier\n",
        "from sklearn.model_selection import cross_val_score\n",
        "from sklearn.model_selection import RepeatedStratifiedKFold\n",
        "from matplotlib import pyplot\n",
        "X = df4.loc[:,df4.columns !='Q18a']\n",
        "y = df4['Q18a']\n",
        "# evaluate the model\n",
        "empty=[]\n",
        "for i in range(4,20):\n",
        "    model = CatBoostClassifier(verbose=0, n_estimators=i)\n",
        "    cv = RepeatedStratifiedKFold(n_splits=10, n_repeats=3, random_state=1)\n",
        "    n_scores = cross_val_score(model, X, y, scoring='accuracy', cv=cv, n_jobs=-1, error_score='raise')\n",
        "    print('Accuracy: %.3f (%.3f)' % (mean(n_scores), std(n_scores)))\n",
        "    # fit the model on the whole dataset\n",
        "    empty.append(mean(n_scores))\n",
        "    model = CatBoostClassifier(verbose=0, n_estimators=i)\n",
        "    model.fit(X, y)\n",
        "names = range(4,20)\n",
        "values = empty\n",
        "\n",
        "plt.figure(figsize=(15, 5))\n",
        "\n",
        "plt.subplot(121)\n",
        "plt.scatter(names, values)\n",
        "plt.ylabel('Accuracy')\n",
        "plt.xlabel('Number of trees')\n",
        "plt.subplot(122)\n",
        "plt.plot(names, values)\n",
        "plt.xlabel('Number of trees')\n",
        "plt.show()"
      ],
      "metadata": {
        "colab": {
          "base_uri": "https://localhost:8080/",
          "height": 606
        },
        "id": "zPdogrRi2yCE",
        "outputId": "1c895d29-98f1-415f-f225-c8e3ec3fb9fa"
      },
      "execution_count": null,
      "outputs": [
        {
          "output_type": "stream",
          "name": "stdout",
          "text": [
            "Accuracy: 0.908 (0.042)\n",
            "Accuracy: 0.914 (0.041)\n",
            "Accuracy: 0.916 (0.042)\n",
            "Accuracy: 0.920 (0.043)\n",
            "Accuracy: 0.922 (0.035)\n",
            "Accuracy: 0.920 (0.049)\n",
            "Accuracy: 0.915 (0.042)\n",
            "Accuracy: 0.917 (0.042)\n",
            "Accuracy: 0.910 (0.041)\n",
            "Accuracy: 0.915 (0.040)\n",
            "Accuracy: 0.911 (0.041)\n",
            "Accuracy: 0.913 (0.038)\n",
            "Accuracy: 0.908 (0.041)\n",
            "Accuracy: 0.916 (0.042)\n",
            "Accuracy: 0.911 (0.036)\n",
            "Accuracy: 0.914 (0.042)\n"
          ]
        },
        {
          "output_type": "display_data",
          "data": {
            "text/plain": [
              "<Figure size 1080x360 with 2 Axes>"
            ],
            "image/png": "[encoded data removed]"
          },
          "metadata": {
            "needs_background": "light"
          }
        }
      ]
    },
    {
      "cell_type": "code",
      "source": [
        "# get importance\n",
        "importance = model.feature_importances_\n",
        "# summarize feature importance\n",
        "for i,v in enumerate(importance):\n",
        "\tprint('Feature: %0d, Score: %.5f' % (i,v))\n",
        "# plot feature importance\n",
        "pyplot.bar([x for x in range(len(importance))], importance)\n",
        "pyplot.show()\n",
        "import matplotlib.pyplot as plt\n",
        "   \n",
        "#C = ['Q1', 'Q2', 'Q3', 'Q8', 'Q9', 'Q10', 'Q11', 'Q12', 'Q13', 'Q14', 'Q15',\n",
        "#       'Q16', 'Q17', 'Q18', 'Q19', 'Q20', 'Q21', 'Q22', 'Q23', 'Q24',\n",
        "#       'Q25', 'Q26', 'Q27', 'Q28', 'Q29']\n",
        "\n",
        "C = ['Q1', 'Q2', 'Q3','Q8', 'Q9', 'Q10', 'Q11', 'Q11a', 'Q11b', 'Q12', 'Q13',\n",
        "       'Q14', 'Q14a', 'Q15', 'Q16', 'Q16a', 'Q16b', 'Q17', 'Q18', 'Q18a',\n",
        "       'Q19', 'Q20', 'Q21', 'Q22', 'Q23', 'Q24', 'Q25', 'Q26', 'Q26a', 'Q27',\n",
        "       'Q27a', 'Q28', 'Q28a', 'Q29']\n",
        "\n",
        "GC = importance\n",
        "# plotting a line plot after changing it's width and height\n",
        "f = plt.figure()\n",
        "f.set_figwidth(10)\n",
        "f.set_figheight(8)\n",
        "plt.xticks(rotation=45, ha='right')\n",
        "plt.grid(True)\n",
        "\n",
        "plt.bar(C, GC)\n",
        "plt.ylabel('Importance')\n",
        "plt.xlabel('Feature')\n",
        "plt.show()"
      ],
      "metadata": {
        "colab": {
          "base_uri": "https://localhost:8080/",
          "height": 1000
        },
        "id": "BH-hMJuqKw94",
        "outputId": "40145b6f-dfca-49a0-dc9e-fd5792e08bdf"
      },
      "execution_count": null,
      "outputs": [
        {
          "output_type": "stream",
          "name": "stdout",
          "text": [
            "Feature: 0, Score: 3.68670\n",
            "Feature: 1, Score: 3.16646\n",
            "Feature: 2, Score: 1.20484\n",
            "Feature: 3, Score: 0.00000\n",
            "Feature: 4, Score: 0.49605\n",
            "Feature: 5, Score: 1.16931\n",
            "Feature: 6, Score: 1.22874\n",
            "Feature: 7, Score: 2.39266\n",
            "Feature: 8, Score: 0.28698\n",
            "Feature: 9, Score: 1.18362\n",
            "Feature: 10, Score: 1.97666\n",
            "Feature: 11, Score: 0.27237\n",
            "Feature: 12, Score: 4.55202\n",
            "Feature: 13, Score: 0.00000\n",
            "Feature: 14, Score: 0.00000\n",
            "Feature: 15, Score: 2.46807\n",
            "Feature: 16, Score: 3.20832\n",
            "Feature: 17, Score: 0.00000\n",
            "Feature: 18, Score: 0.00000\n",
            "Feature: 19, Score: 14.44898\n",
            "Feature: 20, Score: 41.65029\n",
            "Feature: 21, Score: 0.98900\n",
            "Feature: 22, Score: 0.90398\n",
            "Feature: 23, Score: 0.80584\n",
            "Feature: 24, Score: 2.39394\n",
            "Feature: 25, Score: 2.11757\n",
            "Feature: 26, Score: 0.00000\n",
            "Feature: 27, Score: 0.00000\n",
            "Feature: 28, Score: 0.54850\n",
            "Feature: 29, Score: 5.22197\n",
            "Feature: 30, Score: 0.58855\n",
            "Feature: 31, Score: 0.63753\n",
            "Feature: 32, Score: 2.40106\n",
            "Feature: 33, Score: 0.00000\n"
          ]
        },
        {
          "output_type": "display_data",
          "data": {
            "text/plain": [
              "<Figure size 432x288 with 1 Axes>"
            ],
            "image/png": "[encoded data removed]"
          },
          "metadata": {
            "needs_background": "light"
          }
        },
        {
          "output_type": "display_data",
          "data": {
            "text/plain": [
              "<Figure size 720x576 with 1 Axes>"
            ],
            "image/png": "[encoded data removed]"
          },
          "metadata": {
            "needs_background": "light"
          }
        }
      ]
    },
    {
      "cell_type": "code",
      "source": [
        "#SMOTE\n",
        "import pandas as pd\n",
        "import sklearn as sk\n",
        "from sklearn.linear_model import LogisticRegression\n",
        "from sklearn import svm\n",
        "from sklearn.ensemble import RandomForestClassifier\n",
        "from sklearn.neural_network import MLPClassifier\n",
        "from sklearn.model_selection import train_test_split\n",
        "from pandas import read_csv\n",
        "from imblearn.over_sampling import SMOTE\n",
        "from collections import Counter\n",
        "from matplotlib import pyplot\n",
        "from sklearn.preprocessing import LabelEncoder\n",
        "# label encode the target variable\n",
        "y = LabelEncoder().fit_transform(y)\n",
        "# summarize distribution\n",
        "counter = Counter(y)\n",
        "for k,v in counter.items():\n",
        "\tper = v / len(y) * 100\n",
        "\tprint('Class=%d, n=%d (%.3f%%)' % (k, v, per))\n",
        "oversample = SMOTE()\n",
        "X, y = oversample.fit_resample(X, y)\n",
        "X_tr, X_test, y_tr, y_test = train_test_split(X, y, test_size=0.33, random_state=1)\n",
        "RF = RandomForestClassifier(n_estimators=100, max_depth=8, random_state=0).fit(X_tr, y_tr)\n",
        "RF.predict(X_test)\n",
        "round(RF.score(X_test, y_test), 4)"
      ],
      "metadata": {
        "colab": {
          "base_uri": "https://localhost:8080/"
        },
        "id": "NEAC_e8HM_j3",
        "outputId": "8776d518-9962-40b0-9503-ca7968c0b8c7"
      },
      "execution_count": null,
      "outputs": [
        {
          "output_type": "stream",
          "name": "stdout",
          "text": [
            "Class=1, n=225 (85.878%)\n",
            "Class=0, n=37 (14.122%)\n"
          ]
        },
        {
          "output_type": "execute_result",
          "data": {
            "text/plain": [
              "0.9262"
            ]
          },
          "metadata": {},
          "execution_count": 153
        }
      ]
    },
    {
      "cell_type": "code",
      "source": [
        "importance = RF.feature_importances_\n",
        "for i,v in enumerate(importance):\n",
        "\tprint('Feature: %0d, Score: %.5f' % (i,v))\n",
        "# plot feature importance\n",
        "pyplot.bar([x for x in range(len(importance))], importance)\n",
        "pyplot.show()\n",
        "import matplotlib.pyplot as plt   \n",
        "#C = ['Q1', 'Q2', 'Q3', 'Q8', 'Q9', 'Q10', 'Q11', 'Q12', 'Q13', 'Q14', 'Q15',\n",
        "#       'Q16', 'Q17', 'Q18', 'Q19', 'Q20', 'Q21', 'Q22', 'Q23', 'Q24',\n",
        "#       'Q25', 'Q26', 'Q27', 'Q28', 'Q29']\n",
        "C = ['Q1', 'Q2','Q3', 'Q8', 'Q9', 'Q10', 'Q11', 'Q11a', 'Q11b', 'Q12', 'Q13',\n",
        "       'Q14', 'Q14a', 'Q15', 'Q16', 'Q16a', 'Q16b', 'Q17', 'Q18', 'Q18a',\n",
        "       'Q19', 'Q20', 'Q21', 'Q22', 'Q23', 'Q24', 'Q25', 'Q26', 'Q26a', 'Q27',\n",
        "       'Q27a', 'Q28', 'Q28a', 'Q29']\n",
        "GC = importance\n",
        "f = plt.figure()\n",
        "f.set_figwidth(10)\n",
        "f.set_figheight(8)\n",
        "plt.xticks(rotation=45, ha='right')\n",
        "plt.grid(True)\n",
        "plt.bar(C, GC)\n",
        "plt.ylabel('Importance')\n",
        "plt.xlabel('Feature')\n",
        "plt.show()"
      ],
      "metadata": {
        "colab": {
          "base_uri": "https://localhost:8080/",
          "height": 1000
        },
        "id": "4J5BB54ONBI0",
        "outputId": "a9c70427-1907-4668-bca5-8fd1d84e38ba"
      },
      "execution_count": null,
      "outputs": [
        {
          "output_type": "stream",
          "name": "stdout",
          "text": [
            "Feature: 0, Score: 0.06201\n",
            "Feature: 1, Score: 0.00920\n",
            "Feature: 2, Score: 0.02920\n",
            "Feature: 3, Score: 0.01027\n",
            "Feature: 4, Score: 0.03260\n",
            "Feature: 5, Score: 0.02897\n",
            "Feature: 6, Score: 0.02313\n",
            "Feature: 7, Score: 0.02225\n",
            "Feature: 8, Score: 0.02115\n",
            "Feature: 9, Score: 0.03193\n",
            "Feature: 10, Score: 0.03488\n",
            "Feature: 11, Score: 0.01483\n",
            "Feature: 12, Score: 0.01672\n",
            "Feature: 13, Score: 0.09899\n",
            "Feature: 14, Score: 0.01992\n",
            "Feature: 15, Score: 0.02534\n",
            "Feature: 16, Score: 0.01006\n",
            "Feature: 17, Score: 0.00887\n",
            "Feature: 18, Score: 0.00000\n",
            "Feature: 19, Score: 0.05627\n",
            "Feature: 20, Score: 0.23246\n",
            "Feature: 21, Score: 0.00699\n",
            "Feature: 22, Score: 0.00694\n",
            "Feature: 23, Score: 0.02168\n",
            "Feature: 24, Score: 0.02987\n",
            "Feature: 25, Score: 0.01253\n",
            "Feature: 26, Score: 0.00594\n",
            "Feature: 27, Score: 0.02303\n",
            "Feature: 28, Score: 0.00952\n",
            "Feature: 29, Score: 0.01839\n",
            "Feature: 30, Score: 0.01077\n",
            "Feature: 31, Score: 0.04214\n",
            "Feature: 32, Score: 0.00622\n",
            "Feature: 33, Score: 0.01692\n"
          ]
        },
        {
          "output_type": "display_data",
          "data": {
            "text/plain": [
              "<Figure size 432x288 with 1 Axes>"
            ],
            "image/png": "[encoded data removed]"
          },
          "metadata": {
            "needs_background": "light"
          }
        },
        {
          "output_type": "display_data",
          "data": {
            "text/plain": [
              "<Figure size 720x576 with 1 Axes>"
            ],
            "image/png": "[encoded data removed]"
          },
          "metadata": {
            "needs_background": "light"
          }
        }
      ]
    },
    {
      "cell_type": "code",
      "source": [
        "#LightGBM\n",
        "from numpy import mean\n",
        "from numpy import std\n",
        "from sklearn.datasets import make_classification\n",
        "from sklearn.model_selection import cross_val_score\n",
        "from sklearn.model_selection import RepeatedStratifiedKFold\n",
        "from lightgbm import LGBMClassifier\n",
        "model = LGBMClassifier()\n",
        "cv = RepeatedStratifiedKFold(n_splits=10, n_repeats=3, random_state=1)\n",
        "n_scores = cross_val_score(model, X, y, scoring='accuracy', cv=cv, n_jobs=-1)\n",
        "print('Accuracy: %.3f (%.3f)' % (mean(n_scores), std(n_scores)))\n",
        "Empty=[]\n",
        "for i in range(2,15):\n",
        "    model = LGBMClassifier(n_estimators=20, max_depth=i, num_leaves=2**i)\n",
        "    Light = model.fit(X_tr, y_tr)\n",
        "    Light.predict(X_test)\n",
        "    round(Light.score(X_test, y_test), 4)\n",
        "    Empty.append(round(Light.score(X_test, y_test), 4))\n",
        "Empty    \n",
        "names = range(2,15)\n",
        "values = Empty\n",
        "plt.figure(figsize=(15, 5))\n",
        "plt.subplot(121)\n",
        "plt.scatter(names, values)\n",
        "plt.ylabel('Accuracy')\n",
        "plt.xlabel('The depth of trees')\n",
        "plt.subplot(122)\n",
        "plt.plot(names, values)\n",
        "plt.xlabel('The depth of trees')\n",
        "plt.show()"
      ],
      "metadata": {
        "colab": {
          "base_uri": "https://localhost:8080/",
          "height": 351
        },
        "id": "7uO35hAxN1eR",
        "outputId": "618a784f-797f-4b6a-a92a-a3d843763be1"
      },
      "execution_count": null,
      "outputs": [
        {
          "output_type": "stream",
          "name": "stdout",
          "text": [
            "Accuracy: 0.961 (0.027)\n"
          ]
        },
        {
          "output_type": "display_data",
          "data": {
            "text/plain": [
              "<Figure size 1080x360 with 2 Axes>"
            ],
            "image/png": "[encoded data removed]"
          },
          "metadata": {
            "needs_background": "light"
          }
        }
      ]
    },
    {
      "cell_type": "code",
      "source": [
        "importance = Light.feature_importances_\n",
        "for i,v in enumerate(importance):\n",
        "\tprint('Feature: %0d, Score: %.5f' % (i,v))\n",
        "pyplot.bar([x for x in range(len(importance))], importance)\n",
        "pyplot.show()\n",
        "import matplotlib.pyplot as plt\n",
        "   \n",
        "#C= ['Q1', 'Q2', 'Q3', 'Q8', 'Q9', 'Q10', 'Q11', 'Q12', 'Q13', 'Q14', 'Q15',\n",
        "#       'Q16', 'Q17', 'Q18', 'Q19', 'Q20', 'Q21', 'Q22', 'Q23', 'Q24',\n",
        "#       'Q25', 'Q26', 'Q27', 'Q28', 'Q29']\n",
        "\n",
        "C = ['Q1', 'Q2', 'Q3','Q8', 'Q9', 'Q10', 'Q11', 'Q11a', 'Q11b', 'Q12', 'Q13',\n",
        "       'Q14', 'Q14a', 'Q15', 'Q16', 'Q16a', 'Q16b', 'Q17', 'Q18', 'Q18a',\n",
        "       'Q19', 'Q20', 'Q21', 'Q22', 'Q23', 'Q24', 'Q25', 'Q26', 'Q26a', 'Q27',\n",
        "       'Q27a', 'Q28', 'Q28a', 'Q29']\n",
        "\n",
        "GC = importance\n",
        "f = plt.figure()\n",
        "f.set_figwidth(10)\n",
        "f.set_figheight(8)\n",
        "plt.xticks(rotation=45, ha='right')\n",
        "plt.grid(True)\n",
        "plt.bar(C, GC)\n",
        "plt.ylabel('Importance')\n",
        "plt.xlabel('Feature')\n",
        "plt.show()"
      ],
      "metadata": {
        "colab": {
          "base_uri": "https://localhost:8080/",
          "height": 1000
        },
        "id": "3oE-u4wAOQ2x",
        "outputId": "86f9a3c6-f665-4ec6-a256-a85128f28741"
      },
      "execution_count": null,
      "outputs": [
        {
          "output_type": "stream",
          "name": "stdout",
          "text": [
            "Feature: 0, Score: 12.00000\n",
            "Feature: 1, Score: 0.00000\n",
            "Feature: 2, Score: 4.00000\n",
            "Feature: 3, Score: 2.00000\n",
            "Feature: 4, Score: 0.00000\n",
            "Feature: 5, Score: 7.00000\n",
            "Feature: 6, Score: 0.00000\n",
            "Feature: 7, Score: 9.00000\n",
            "Feature: 8, Score: 0.00000\n",
            "Feature: 9, Score: 3.00000\n",
            "Feature: 10, Score: 3.00000\n",
            "Feature: 11, Score: 7.00000\n",
            "Feature: 12, Score: 3.00000\n",
            "Feature: 13, Score: 24.00000\n",
            "Feature: 14, Score: 2.00000\n",
            "Feature: 15, Score: 2.00000\n",
            "Feature: 16, Score: 0.00000\n",
            "Feature: 17, Score: 0.00000\n",
            "Feature: 18, Score: 0.00000\n",
            "Feature: 19, Score: 29.00000\n",
            "Feature: 20, Score: 48.00000\n",
            "Feature: 21, Score: 0.00000\n",
            "Feature: 22, Score: 0.00000\n",
            "Feature: 23, Score: 7.00000\n",
            "Feature: 24, Score: 0.00000\n",
            "Feature: 25, Score: 5.00000\n",
            "Feature: 26, Score: 0.00000\n",
            "Feature: 27, Score: 4.00000\n",
            "Feature: 28, Score: 19.00000\n",
            "Feature: 29, Score: 7.00000\n",
            "Feature: 30, Score: 0.00000\n",
            "Feature: 31, Score: 9.00000\n",
            "Feature: 32, Score: 0.00000\n",
            "Feature: 33, Score: 0.00000\n"
          ]
        },
        {
          "output_type": "display_data",
          "data": {
            "text/plain": [
              "<Figure size 432x288 with 1 Axes>"
            ],
            "image/png": "[encoded data removed]"
          },
          "metadata": {
            "needs_background": "light"
          }
        },
        {
          "output_type": "display_data",
          "data": {
            "text/plain": [
              "<Figure size 720x576 with 1 Axes>"
            ],
            "image/png": "[encoded data removed]"
          },
          "metadata": {
            "needs_background": "light"
          }
        }
      ]
    }
  ]
}